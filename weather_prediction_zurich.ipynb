{
 "cells": [
  {
   "cell_type": "markdown",
   "metadata": {},
   "source": [
    "## Generate Dummy Data\n",
    "\n",
    "This script generates synthetic temperature data, splits it into training and validation sets, and prepares DataLoaders for these sets. This setup is essential for training and validating machine learning models, ensuring that the data is appropriately handled and ready for the model training process."
   ]
  },
  {
   "cell_type": "code",
   "execution_count": 8,
   "metadata": {
    "id": "r3y2-tWIATK0"
   },
   "outputs": [],
   "source": [
    "import torch\n",
    "import torch.nn as nn\n",
    "import torch.optim as optim\n",
    "import math\n",
    "from torch.utils.data import DataLoader, TensorDataset\n",
    "import numpy as np\n",
    "\n",
    "# Function to generate dummy temperature data\n",
    "def generate_dummy_data(num_samples=64, seq_length=30):\n",
    "    # Generating data within a typical temperature range for Ireland\n",
    "    temperatures = np.random.uniform(low=-10.0, high=40.0, size=(num_samples, seq_length))\n",
    "    # Creating targets: next day temperature, i.e., first temperature of the next sequence\n",
    "    targets = np.roll(temperatures, -1, axis=1)[:, -1]\n",
    "    return temperatures, targets\n",
    "\n",
    "temperatures, targets = generate_dummy_data()\n",
    "# Splitting the data into training and validation sets\n",
    "train_data = TensorDataset(torch.Tensor(temperatures[:int(0.8 * len(temperatures))]), torch.Tensor(targets[:int(0.8 * len(targets))]))\n",
    "val_data = TensorDataset(torch.Tensor(temperatures[int(0.8 * len(temperatures)):]), torch.Tensor(targets[int(0.8 * len(targets)):]))\n",
    "\n",
    "train_loader = DataLoader(train_data, batch_size=4, shuffle=False) # Setting shuffling to false for repeatability!\n",
    "val_loader = DataLoader(val_data, batch_size=4, shuffle=False)\n"
   ]
  },
  {
   "cell_type": "code",
   "execution_count": 9,
   "metadata": {
    "colab": {
     "base_uri": "https://localhost:8080/"
    },
    "id": "vtnWzwK7AlM9",
    "outputId": "04bcbc00-9e61-4b64-d9e4-9fe8b302aaa8"
   },
   "outputs": [
    {
     "name": "stdout",
     "output_type": "stream",
     "text": [
      "(tensor([ 9.9820, 16.2641, 16.5070, -3.6307, 37.0056, 30.8244, -7.0867, 24.0463,\n",
      "         4.9869, 31.8642,  1.6799, -4.8094, -1.0100, -7.5478, 23.6407, 13.0086,\n",
      "        -7.1963,  6.6807, -9.8569, 15.7191, 33.8230, -7.2917, -3.8713,  7.1670,\n",
      "         4.6153, 37.1346, 17.9169,  4.6207,  3.6372, 22.3666]), tensor(9.9820))\n"
     ]
    }
   ],
   "source": [
    "print(train_data[0])"
   ]
  },
  {
   "cell_type": "markdown",
   "metadata": {},
   "source": [
    "## Create Transformer Architecture\n",
    "\n",
    "The script defines a transformer-based sequence prediction model in PyTorch, including a custom positional encoding module and a transformer model with several encoder layers. The model is designed for sequence prediction tasks, such as forecasting future values in a time series. After defining the model, it is instantiated with specific parameters and moved to the GPU for training and inference."
   ]
  },
  {
   "cell_type": "code",
   "execution_count": 11,
   "metadata": {
    "colab": {
     "base_uri": "https://localhost:8080/"
    },
    "id": "o1c_4HvGA8Y0",
    "outputId": "c929a469-3331-4d8a-b22f-78e81b4f65b8",
    "scrolled": true
   },
   "outputs": [],
   "source": [
    "# Define a custom module for positional encoding in a transformer model\n",
    "class PositionalEncoding(nn.Module):\n",
    "    def __init__(self, d_model, max_len=5000):\n",
    "        super(PositionalEncoding, self).__init__()\n",
    "        # Initialize a positional encoding matrix of zeros\n",
    "        pe = torch.zeros(max_len, d_model)\n",
    "        # Create a tensor for position indices\n",
    "        position = torch.arange(0, max_len, dtype=torch.float).unsqueeze(1)\n",
    "        # Define the term for division based on the model dimension\n",
    "        div_term = torch.exp(torch.arange(0, d_model, 2).float() * (-math.log(10000.0) / d_model))\n",
    "        # Apply sine to even indices in the array\n",
    "        pe[:, 0::2] = torch.sin(position * div_term)\n",
    "        # Apply cosine to odd indices in the array\n",
    "        pe[:, 1::2] = torch.cos(position * div_term)\n",
    "        # Register the positional encoding buffer\n",
    "        self.register_buffer('pe', pe)\n",
    "\n",
    "    def forward(self, x):\n",
    "        # Add positional encoding to the input tensor\n",
    "        x = x + self.pe[:x.shape[1], :].unsqueeze(0)  # Extend for batch size\n",
    "        return x\n",
    "\n",
    "# Define a transformer-based model for sequence prediction\n",
    "class TransformerModel(nn.Module):\n",
    "    def __init__(self, input_dim, d_model, nhead, num_encoder_layers, dim_feedforward, max_len=32):\n",
    "        super(TransformerModel, self).__init__()\n",
    "        # Linear layer for embedding the input\n",
    "        self.embedding = nn.Linear(input_dim, d_model)\n",
    "        # Positional encoding layer\n",
    "        self.pos_encoder = PositionalEncoding(d_model, max_len)\n",
    "\n",
    "        # Define the transformer encoder layer with specific parameters\n",
    "        encoder_layer = nn.TransformerEncoderLayer(\n",
    "            d_model=d_model,\n",
    "            nhead=nhead,\n",
    "            dim_feedforward=dim_feedforward,\n",
    "            dropout=0.1,\n",
    "            activation='relu',  # Include ReLU activation in the MLP\n",
    "            batch_first=True,  # Ensure batch dimension is first\n",
    "            norm_first=True    # Apply normalization before the feedforward layer\n",
    "        )\n",
    "        # Stack multiple transformer encoder layers\n",
    "        self.transformer_encoder = nn.TransformerEncoder(encoder_layer, num_encoder_layers)\n",
    "\n",
    "        # Linear layer for decoding the output of the transformer encoder\n",
    "        self.decoder = nn.Linear(d_model, 1)\n",
    "        # Initialize weights for the model\n",
    "        self.init_weights()\n",
    "\n",
    "    def init_weights(self):\n",
    "        # Initialize weights of the embedding layer uniformly\n",
    "        initrange = 0.1\n",
    "        self.embedding.weight.data.uniform_(-initrange, initrange)\n",
    "        # Initialize biases and weights of the decoder\n",
    "        self.decoder.bias.data.zero_()\n",
    "        self.decoder.weight.data.uniform_(-initrange, initrange)\n",
    "\n",
    "    def forward(self, src):\n",
    "        # Apply embedding to the input source\n",
    "        src = self.embedding(src)\n",
    "        # Add positional encoding to the embedded input\n",
    "        src = self.pos_encoder(src)\n",
    "        # Pass the encoded input through the transformer encoder\n",
    "        output = self.transformer_encoder(src)\n",
    "        # Decode the last token's output for the final prediction\n",
    "        output = self.decoder(output[:, -1, :])  # Decoding from the last token for prediction\n",
    "        return output\n",
    "\n",
    "# Instantiate the transformer model with specified dimensions and move it to GPU\n",
    "model = TransformerModel(input_dim=1, d_model=144, nhead=12, num_encoder_layers=8, dim_feedforward=1024).cuda()\n"
   ]
  },
  {
   "cell_type": "markdown",
   "metadata": {},
   "source": [
    "This script sets up and runs a forward pass through a transformer-based model using a batch of sequences filled with ones as input. It demonstrates how to define input parameters, create and prepare input data, run the model, and display the resulting output. This is done for testing and validating the model's forward method and ensuring it produces expected predictions."
   ]
  },
  {
   "cell_type": "code",
   "execution_count": 12,
   "metadata": {
    "colab": {
     "base_uri": "https://localhost:8080/"
    },
    "id": "fHP-Cl_tXTCo",
    "outputId": "fb467be0-638a-4255-ac8d-67114aa0391a"
   },
   "outputs": [
    {
     "name": "stdout",
     "output_type": "stream",
     "text": [
      "0.6407865285873413\n"
     ]
    }
   ],
   "source": [
    "# Run model.forward\n",
    "import torch\n",
    "\n",
    "# Define input parameters\n",
    "batch_size = 1  # Number of sequences in the batch\n",
    "seq_length = 30  # Length of each sequence\n",
    "input_dim = 1  # Dimensionality of input features\n",
    "\n",
    "# Create a batch of input sequences filled with ones\n",
    "input_sequences = torch.ones((batch_size, seq_length, input_dim)).cuda()\n",
    "\n",
    "# Run the model's forward pass\n",
    "output = model(input_sequences)\n",
    "\n",
    "# Print the output\n",
    "print(output.item())"
   ]
  },
  {
   "cell_type": "markdown",
   "metadata": {},
   "source": [
    "## Define Training Loop\n",
    "\n",
    "This script defines a comprehensive training loop function, including detailed tracking of training and validation losses, and plotting these losses for analysis. The function is designed to ensure the model is trained efficiently while providing insights into its performance at regular intervals. The AdamW optimizer is used to update the model's parameters during training."
   ]
  },
  {
   "cell_type": "code",
   "execution_count": 13,
   "metadata": {
    "id": "0vTXp4HxBx5T"
   },
   "outputs": [],
   "source": [
    "import torch\n",
    "import torch.nn as nn\n",
    "import torch.optim as optim\n",
    "import matplotlib.pyplot as plt\n",
    "import numpy as np\n",
    "\n",
    "def train_loop(model, train_loader, val_loader, optimizer, epochs):\n",
    "    criterion = nn.MSELoss()\n",
    "    train_losses = []\n",
    "    val_losses = []\n",
    "    step_losses = []\n",
    "    val_steps = []  # To record the steps at which validation is performed\n",
    "    steps_per_epoch = len(train_loader)\n",
    "\n",
    "    # Ensure val_interval is at least 1\n",
    "    val_interval = max(steps_per_epoch // 4, 1)\n",
    "\n",
    "    for epoch in range(epochs):\n",
    "        model.train()\n",
    "        total_train_loss = 0\n",
    "        num_batches = 0\n",
    "\n",
    "        for i, (data, targets) in enumerate(train_loader):\n",
    "            data, targets = data.cuda(), targets.cuda()\n",
    "            optimizer.zero_grad()\n",
    "\n",
    "            outputs = model(data.unsqueeze(-1))  # Ensure input is 3D\n",
    "            loss = criterion(outputs.squeeze(), targets)\n",
    "            loss.backward()\n",
    "            optimizer.step()\n",
    "\n",
    "            total_train_loss += loss.item()\n",
    "            num_batches += 1\n",
    "\n",
    "            # Print training loss every step\n",
    "            print(f'Epoch {epoch+1}, Step {i+1}/{steps_per_epoch}, Training Loss: {loss.item()}')\n",
    "\n",
    "            step_losses.append(loss.item())\n",
    "\n",
    "            # Calculate validation loss every quarter epoch\n",
    "            if (i + 1) % val_interval == 0 or (i + 1) == steps_per_epoch:\n",
    "                model.eval()\n",
    "                total_val_loss = 0\n",
    "                num_val_batches = 0\n",
    "                with torch.no_grad():\n",
    "                    for data, targets in val_loader:\n",
    "                        data, targets = data.cuda(), targets.cuda()\n",
    "                        outputs = model(data.unsqueeze(-1))\n",
    "                        val_loss = criterion(outputs.squeeze(), targets)\n",
    "                        total_val_loss += val_loss.item()\n",
    "                        num_val_batches += 1\n",
    "\n",
    "                average_val_loss = total_val_loss / num_val_batches\n",
    "                val_losses.append(average_val_loss)\n",
    "                val_steps.append(len(step_losses))  # Record the step at which validation is performed\n",
    "                print(f'Epoch {epoch+1}, Step {i+1}/{steps_per_epoch}, Validation Loss: {average_val_loss}')\n",
    "                model.train()\n",
    "\n",
    "        average_train_loss = total_train_loss / num_batches\n",
    "        train_losses.append(average_train_loss)\n",
    "        print(f'Epoch {epoch+1}, Training Loss: {average_train_loss}')\n",
    "\n",
    "    # Plotting the losses\n",
    "    plt.figure(figsize=(10, 5))\n",
    "    plt.plot(np.arange(len(step_losses)), step_losses, label='Training Loss per Step', linestyle='-', marker='o')\n",
    "    plt.scatter(val_steps, val_losses, label='Validation Loss', color='red')\n",
    "    plt.xlabel('Steps')\n",
    "    plt.ylabel('Loss')\n",
    "    plt.legend()\n",
    "    plt.title('Training and Validation Loss')\n",
    "    plt.show()\n",
    "\n",
    "# Assuming you have your model, train_loader, and val_loader defined\n",
    "optimizer = optim.AdamW(model.parameters(), lr=0.001)\n"
   ]
  },
  {
   "cell_type": "markdown",
   "metadata": {},
   "source": [
    "## Train Model"
   ]
  },
  {
   "cell_type": "code",
   "execution_count": 14,
   "metadata": {
    "colab": {
     "base_uri": "https://localhost:8080/",
     "height": 872
    },
    "id": "h3gKTg3jJ2bP",
    "outputId": "148d2521-b213-41b8-856a-ca379b7031be"
   },
   "outputs": [
    {
     "name": "stdout",
     "output_type": "stream",
     "text": [
      "Epoch 1, Step 1/13, Training Loss: 356.3721008300781\n",
      "Epoch 1, Step 2/13, Training Loss: 78.44200134277344\n",
      "Epoch 1, Step 3/13, Training Loss: 721.4187622070312\n",
      "Epoch 1, Step 3/13, Validation Loss: 201.88850784301758\n",
      "Epoch 1, Step 4/13, Training Loss: 100.45186614990234\n",
      "Epoch 1, Step 5/13, Training Loss: 388.975341796875\n",
      "Epoch 1, Step 6/13, Training Loss: 346.5817565917969\n",
      "Epoch 1, Step 6/13, Validation Loss: 231.8165636062622\n",
      "Epoch 1, Step 7/13, Training Loss: 157.06507873535156\n",
      "Epoch 1, Step 8/13, Training Loss: 300.6720886230469\n",
      "Epoch 1, Step 9/13, Training Loss: 629.4782104492188\n",
      "Epoch 1, Step 9/13, Validation Loss: 266.74088287353516\n",
      "Epoch 1, Step 10/13, Training Loss: 92.92259216308594\n",
      "Epoch 1, Step 11/13, Training Loss: 261.5378112792969\n",
      "Epoch 1, Step 12/13, Training Loss: 286.7994079589844\n"
     ]
    },
    {
     "name": "stderr",
     "output_type": "stream",
     "text": [
      "UserWarning: Using a target size (torch.Size([1])) that is different to the input size (torch.Size([])). This will likely lead to incorrect results due to broadcasting. Please ensure they have the same size.\n"
     ]
    },
    {
     "name": "stdout",
     "output_type": "stream",
     "text": [
      "Epoch 1, Step 12/13, Validation Loss: 234.14964485168457\n",
      "Epoch 1, Step 13/13, Training Loss: 289.9473876953125\n",
      "Epoch 1, Step 13/13, Validation Loss: 198.4051685333252\n",
      "Epoch 1, Training Loss: 308.5126466017503\n"
     ]
    },
    {
     "data": {
      "image/png": "[encoded data removed]",
      "text/plain": [
       "<Figure size 1000x500 with 1 Axes>"
      ]
     },
     "metadata": {},
     "output_type": "display_data"
    }
   ],
   "source": [
    "train_loop(model, train_loader, val_loader, optimizer, 1)"
   ]
  },
  {
   "cell_type": "markdown",
   "metadata": {
    "id": "tmTQNH7OCaI7"
   },
   "source": [
    "## Download Dataset from Historical Weather Data in Zurich"
   ]
  },
  {
   "cell_type": "code",
   "execution_count": 15,
   "metadata": {
    "colab": {
     "base_uri": "https://localhost:8080/"
    },
    "id": "_vXvYVBbZ6wR",
    "outputId": "4af6674a-e100-4e7c-a3fa-69b24ce6e5a9"
   },
   "outputs": [
    {
     "name": "stdout",
     "output_type": "stream",
     "text": [
      "            tavg  tmin  tmax  prcp  snow   wdir  wspd  wpgt    pres  tsun\n",
      "time                                                                     \n",
      "2005-09-14  18.0  16.0  21.0   NaN   NaN    NaN   3.5   NaN     NaN   NaN\n",
      "2005-09-15   NaN   NaN   NaN   NaN   NaN    NaN   NaN   NaN     NaN   NaN\n",
      "2005-09-16   NaN   NaN   NaN   NaN   NaN    NaN   NaN   NaN     NaN   NaN\n",
      "2005-09-17   NaN   NaN   NaN   NaN   NaN    NaN   NaN   NaN     NaN   NaN\n",
      "2005-09-18   NaN   NaN   NaN   NaN   NaN    NaN   NaN   NaN     NaN   NaN\n",
      "...          ...   ...   ...   ...   ...    ...   ...   ...     ...   ...\n",
      "2024-05-27  15.3  13.0  17.3  10.5   NaN  288.0   6.0  20.4  1019.0   NaN\n",
      "2024-05-28  14.5  11.4  18.6   4.1   NaN  219.0   5.9  16.7  1020.8   NaN\n",
      "2024-05-29  14.4  10.4  16.8   2.7   NaN  220.0   5.7  18.5  1016.5   NaN\n",
      "2024-05-30  14.1  12.3  15.8  27.1   NaN  227.0   7.5  24.1  1009.8   NaN\n",
      "2024-05-31  11.8  11.0  12.7   NaN   NaN  236.0   9.0  25.9  1013.2   NaN\n",
      "\n",
      "[6835 rows x 10 columns]\n"
     ]
    }
   ],
   "source": [
    "from datetime import datetime\n",
    "from meteostat import Point, Daily\n",
    "\n",
    "# Set time period\n",
    "start = datetime(2000, 1, 1)\n",
    "end = datetime(2024, 5, 31)\n",
    "\n",
    "# Create a Point for Zurich\n",
    "zurich = Point(47.200, 8.3300)\n",
    "\n",
    "# Get daily data\n",
    "data = Daily(zurich, start, end)\n",
    "data = data.fetch()\n",
    "\n",
    "# Print the data\n",
    "print(data)\n"
   ]
  },
  {
   "cell_type": "markdown",
   "metadata": {
    "id": "BrVzdKLCCb7h"
   },
   "source": [
    "## Clean Data and Create Training and Validation Dataset\n",
    "\n",
    "The script prepares temperature data for training a sequence prediction model by:\n",
    "\n",
    "- Selecting and cleaning the relevant data.\n",
    "- Generating sequences and corresponding targets.\n",
    "- Splitting the data into training and validation sets.\n",
    "- Creating DataLoaders to feed the data into a model during training and validation.\n"
   ]
  },
  {
   "cell_type": "code",
   "execution_count": 16,
   "metadata": {
    "colab": {
     "base_uri": "https://localhost:8080/"
    },
    "id": "NR-EcImjCdg2",
    "outputId": "7a0aa700-8d8d-4e21-cdbe-8c8b8a611863"
   },
   "outputs": [
    {
     "name": "stdout",
     "output_type": "stream",
     "text": [
      "Found 1768 NaN values in 'tmax' column. Dropping these rows.\n"
     ]
    }
   ],
   "source": [
    "import pandas as pd\n",
    "import torch\n",
    "import torch.nn as nn\n",
    "import torch.optim as optim\n",
    "from torch.utils.data import Dataset, DataLoader, TensorDataset\n",
    "import numpy as np\n",
    "import matplotlib.pyplot as plt\n",
    "\n",
    "# Keep only the 'tmax' (average temperature) column\n",
    "data = data[['tmax']]\n",
    "\n",
    "# Check for NaN values and handle them (e.g., drop them)\n",
    "if data['tmax'].isna().sum() > 0:\n",
    "    print(f\"Found {data['tmax'].isna().sum()} NaN values in 'tmax' column. Dropping these rows.\")\n",
    "    data = data.dropna(subset=['tmax'])\n",
    "\n",
    "# Convert the data to numpy array for sequence generation\n",
    "temperatures = data['tmax'].values\n",
    "\n",
    "\n",
    "# Function to create sequences and targets from the temperature data\n",
    "def create_sequences(data, seq_length):\n",
    "    sequences = []\n",
    "    targets = []\n",
    "    for i in range(len(data) - seq_length):\n",
    "        sequences.append(data[i:i + seq_length])\n",
    "        targets.append(data[i + seq_length])  # Target is the temperature of the day after the sequence\n",
    "    return np.array(sequences), np.array(targets)\n",
    "\n",
    "# Adjust the length of the data to be a multiple of seq_length + 1\n",
    "adjusted_length = (len(temperatures) // (seq_length + 1)) * (seq_length + 1)\n",
    "temperatures = temperatures[:adjusted_length]\n",
    "\n",
    "# Generate sequences and targets\n",
    "seq_length = 30\n",
    "sequences, targets = create_sequences(temperatures, seq_length)\n",
    "\n",
    "# Convert to PyTorch tensors\n",
    "sequences = torch.tensor(sequences, dtype=torch.float32)\n",
    "targets = torch.tensor(targets, dtype=torch.float32)\n",
    "\n",
    "# Split into training and validation sets (80-20 split)\n",
    "train_size = int(0.8 * len(sequences))\n",
    "val_size = len(sequences) - train_size\n",
    "\n",
    "# Ensure reproducibility\n",
    "torch.manual_seed(42)\n",
    "indices = torch.randperm(len(sequences))\n",
    "\n",
    "train_indices = indices[:train_size]\n",
    "val_indices = indices[train_size:]\n",
    "\n",
    "train_sequences = sequences[train_indices]\n",
    "train_targets = targets[train_indices]\n",
    "\n",
    "val_sequences = sequences[val_indices]\n",
    "val_targets = targets[val_indices]\n",
    "\n",
    "# Create TensorDataset and DataLoader\n",
    "train_data = TensorDataset(train_sequences, train_targets)\n",
    "val_data = TensorDataset(val_sequences, val_targets)\n",
    "\n",
    "train_loader = DataLoader(train_data, batch_size=30, shuffle=True)\n",
    "val_loader = DataLoader(val_data, batch_size=30, shuffle=False)"
   ]
  },
  {
   "cell_type": "code",
   "execution_count": 17,
   "metadata": {
    "colab": {
     "base_uri": "https://localhost:8080/"
    },
    "id": "7rqdVFM9IypA",
    "outputId": "4b0180a5-1ca7-460c-c82c-0d638b00e030"
   },
   "outputs": [
    {
     "name": "stdout",
     "output_type": "stream",
     "text": [
      "(tensor([21., 21., 14., 17., 18., 19., 21., 16., 19., 20., 24., 22., 25., 24.,\n",
      "        16., 16., 18., 21., 23., 22., 24., 11., 11., 14., 18., 17., 21., -4.,\n",
      "        -3., -3.,  2.,  0.]), tensor(7.))\n"
     ]
    }
   ],
   "source": [
    "print(train_data[5])"
   ]
  },
  {
   "cell_type": "markdown",
   "metadata": {},
   "source": [
    "## Train Model on Dataset"
   ]
  },
  {
   "cell_type": "code",
   "execution_count": 18,
   "metadata": {
    "colab": {
     "base_uri": "https://localhost:8080/",
     "height": 1000
    },
    "id": "3bm2lyx-Cl_Z",
    "outputId": "e9c0b252-a4a5-44e2-c186-dc7f50e5488a"
   },
   "outputs": [
    {
     "name": "stdout",
     "output_type": "stream",
     "text": [
      "Epoch 1, Step 1/134, Training Loss: 69.10468292236328\n",
      "Epoch 1, Step 2/134, Training Loss: 80.23005676269531\n",
      "Epoch 1, Step 3/134, Training Loss: 84.26239013671875\n",
      "Epoch 1, Step 4/134, Training Loss: 67.49596405029297\n",
      "Epoch 1, Step 5/134, Training Loss: 52.188106536865234\n",
      "Epoch 1, Step 6/134, Training Loss: 82.16775512695312\n",
      "Epoch 1, Step 7/134, Training Loss: 70.95318603515625\n",
      "Epoch 1, Step 8/134, Training Loss: 40.23377990722656\n",
      "Epoch 1, Step 9/134, Training Loss: 58.4972038269043\n",
      "Epoch 1, Step 10/134, Training Loss: 53.84492492675781\n",
      "Epoch 1, Step 11/134, Training Loss: 72.38973236083984\n",
      "Epoch 1, Step 12/134, Training Loss: 43.616554260253906\n",
      "Epoch 1, Step 13/134, Training Loss: 32.32667541503906\n",
      "Epoch 1, Step 14/134, Training Loss: 30.39213752746582\n",
      "Epoch 1, Step 15/134, Training Loss: 35.837947845458984\n",
      "Epoch 1, Step 16/134, Training Loss: 32.855613708496094\n",
      "Epoch 1, Step 17/134, Training Loss: 22.3977108001709\n",
      "Epoch 1, Step 18/134, Training Loss: 16.09404182434082\n",
      "Epoch 1, Step 19/134, Training Loss: 23.882057189941406\n",
      "Epoch 1, Step 20/134, Training Loss: 19.927194595336914\n",
      "Epoch 1, Step 21/134, Training Loss: 20.384733200073242\n",
      "Epoch 1, Step 22/134, Training Loss: 24.62244415283203\n",
      "Epoch 1, Step 23/134, Training Loss: 34.42377471923828\n",
      "Epoch 1, Step 24/134, Training Loss: 22.15387725830078\n",
      "Epoch 1, Step 25/134, Training Loss: 15.568500518798828\n",
      "Epoch 1, Step 26/134, Training Loss: 15.901056289672852\n",
      "Epoch 1, Step 27/134, Training Loss: 13.496516227722168\n",
      "Epoch 1, Step 28/134, Training Loss: 22.944238662719727\n",
      "Epoch 1, Step 29/134, Training Loss: 19.826444625854492\n",
      "Epoch 1, Step 30/134, Training Loss: 24.295896530151367\n",
      "Epoch 1, Step 31/134, Training Loss: 15.220953941345215\n",
      "Epoch 1, Step 32/134, Training Loss: 17.544443130493164\n",
      "Epoch 1, Step 33/134, Training Loss: 18.648540496826172\n",
      "Epoch 1, Step 33/134, Validation Loss: 18.011006355285645\n",
      "Epoch 1, Step 34/134, Training Loss: 23.10415267944336\n",
      "Epoch 1, Step 35/134, Training Loss: 15.675683975219727\n",
      "Epoch 1, Step 36/134, Training Loss: 14.699308395385742\n",
      "Epoch 1, Step 37/134, Training Loss: 13.314608573913574\n",
      "Epoch 1, Step 38/134, Training Loss: 13.258936882019043\n",
      "Epoch 1, Step 39/134, Training Loss: 14.556083679199219\n",
      "Epoch 1, Step 40/134, Training Loss: 12.35023021697998\n",
      "Epoch 1, Step 41/134, Training Loss: 15.321125984191895\n",
      "Epoch 1, Step 42/134, Training Loss: 14.345194816589355\n",
      "Epoch 1, Step 43/134, Training Loss: 18.349414825439453\n",
      "Epoch 1, Step 44/134, Training Loss: 12.790348052978516\n",
      "Epoch 1, Step 45/134, Training Loss: 8.106963157653809\n",
      "Epoch 1, Step 46/134, Training Loss: 14.467679023742676\n",
      "Epoch 1, Step 47/134, Training Loss: 13.310754776000977\n",
      "Epoch 1, Step 48/134, Training Loss: 12.053019523620605\n",
      "Epoch 1, Step 49/134, Training Loss: 16.67121124267578\n",
      "Epoch 1, Step 50/134, Training Loss: 17.63393211364746\n",
      "Epoch 1, Step 51/134, Training Loss: 10.681219100952148\n",
      "Epoch 1, Step 52/134, Training Loss: 6.845798015594482\n",
      "Epoch 1, Step 53/134, Training Loss: 9.885457992553711\n",
      "Epoch 1, Step 54/134, Training Loss: 12.820136070251465\n",
      "Epoch 1, Step 55/134, Training Loss: 9.618310928344727\n",
      "Epoch 1, Step 56/134, Training Loss: 11.904919624328613\n",
      "Epoch 1, Step 57/134, Training Loss: 10.466042518615723\n",
      "Epoch 1, Step 58/134, Training Loss: 9.55561351776123\n",
      "Epoch 1, Step 59/134, Training Loss: 8.988897323608398\n",
      "Epoch 1, Step 60/134, Training Loss: 14.849825859069824\n",
      "Epoch 1, Step 61/134, Training Loss: 17.63077163696289\n",
      "Epoch 1, Step 62/134, Training Loss: 6.374631881713867\n",
      "Epoch 1, Step 63/134, Training Loss: 8.999247550964355\n",
      "Epoch 1, Step 64/134, Training Loss: 12.081478118896484\n",
      "Epoch 1, Step 65/134, Training Loss: 13.28540325164795\n",
      "Epoch 1, Step 66/134, Training Loss: 15.443222045898438\n",
      "Epoch 1, Step 66/134, Validation Loss: 10.54082898532643\n",
      "Epoch 1, Step 67/134, Training Loss: 8.337020874023438\n",
      "Epoch 1, Step 68/134, Training Loss: 13.714448928833008\n",
      "Epoch 1, Step 69/134, Training Loss: 12.23148250579834\n",
      "Epoch 1, Step 70/134, Training Loss: 13.223898887634277\n",
      "Epoch 1, Step 71/134, Training Loss: 8.854040145874023\n",
      "Epoch 1, Step 72/134, Training Loss: 9.284734725952148\n",
      "Epoch 1, Step 73/134, Training Loss: 16.9891300201416\n",
      "Epoch 1, Step 74/134, Training Loss: 17.84581756591797\n",
      "Epoch 1, Step 75/134, Training Loss: 11.431866645812988\n",
      "Epoch 1, Step 76/134, Training Loss: 7.128234386444092\n",
      "Epoch 1, Step 77/134, Training Loss: 4.848208904266357\n",
      "Epoch 1, Step 78/134, Training Loss: 15.566816329956055\n",
      "Epoch 1, Step 79/134, Training Loss: 10.349169731140137\n",
      "Epoch 1, Step 80/134, Training Loss: 14.236471176147461\n",
      "Epoch 1, Step 81/134, Training Loss: 5.1496758460998535\n",
      "Epoch 1, Step 82/134, Training Loss: 8.936452865600586\n",
      "Epoch 1, Step 83/134, Training Loss: 18.538204193115234\n",
      "Epoch 1, Step 84/134, Training Loss: 11.4197416305542\n",
      "Epoch 1, Step 85/134, Training Loss: 10.382959365844727\n",
      "Epoch 1, Step 86/134, Training Loss: 6.983917713165283\n",
      "Epoch 1, Step 87/134, Training Loss: 11.416413307189941\n",
      "Epoch 1, Step 88/134, Training Loss: 7.393828392028809\n",
      "Epoch 1, Step 89/134, Training Loss: 11.149174690246582\n",
      "Epoch 1, Step 90/134, Training Loss: 13.152068138122559\n",
      "Epoch 1, Step 91/134, Training Loss: 9.366963386535645\n",
      "Epoch 1, Step 92/134, Training Loss: 9.269065856933594\n",
      "Epoch 1, Step 93/134, Training Loss: 13.499101638793945\n",
      "Epoch 1, Step 94/134, Training Loss: 12.617115020751953\n",
      "Epoch 1, Step 95/134, Training Loss: 9.014572143554688\n",
      "Epoch 1, Step 96/134, Training Loss: 6.456157684326172\n",
      "Epoch 1, Step 97/134, Training Loss: 12.876859664916992\n",
      "Epoch 1, Step 98/134, Training Loss: 16.14784049987793\n",
      "Epoch 1, Step 99/134, Training Loss: 5.234201431274414\n",
      "Epoch 1, Step 99/134, Validation Loss: 10.654780373853797\n",
      "Epoch 1, Step 100/134, Training Loss: 9.733421325683594\n",
      "Epoch 1, Step 101/134, Training Loss: 9.644272804260254\n",
      "Epoch 1, Step 102/134, Training Loss: 20.876998901367188\n",
      "Epoch 1, Step 103/134, Training Loss: 17.147197723388672\n",
      "Epoch 1, Step 104/134, Training Loss: 21.837627410888672\n",
      "Epoch 1, Step 105/134, Training Loss: 14.596102714538574\n",
      "Epoch 1, Step 106/134, Training Loss: 14.451272010803223\n",
      "Epoch 1, Step 107/134, Training Loss: 21.69818687438965\n",
      "Epoch 1, Step 108/134, Training Loss: 10.956231117248535\n",
      "Epoch 1, Step 109/134, Training Loss: 12.828805923461914\n",
      "Epoch 1, Step 110/134, Training Loss: 18.56072235107422\n",
      "Epoch 1, Step 111/134, Training Loss: 16.92851448059082\n",
      "Epoch 1, Step 112/134, Training Loss: 6.511679649353027\n",
      "Epoch 1, Step 113/134, Training Loss: 13.784218788146973\n",
      "Epoch 1, Step 114/134, Training Loss: 9.305146217346191\n",
      "Epoch 1, Step 115/134, Training Loss: 11.83665943145752\n",
      "Epoch 1, Step 116/134, Training Loss: 10.998098373413086\n",
      "Epoch 1, Step 117/134, Training Loss: 15.071615219116211\n",
      "Epoch 1, Step 118/134, Training Loss: 23.6500301361084\n",
      "Epoch 1, Step 119/134, Training Loss: 20.846460342407227\n",
      "Epoch 1, Step 120/134, Training Loss: 14.586808204650879\n",
      "Epoch 1, Step 121/134, Training Loss: 16.251201629638672\n",
      "Epoch 1, Step 122/134, Training Loss: 7.0614213943481445\n",
      "Epoch 1, Step 123/134, Training Loss: 11.553593635559082\n",
      "Epoch 1, Step 124/134, Training Loss: 11.854574203491211\n",
      "Epoch 1, Step 125/134, Training Loss: 32.24114990234375\n",
      "Epoch 1, Step 126/134, Training Loss: 9.750883102416992\n",
      "Epoch 1, Step 127/134, Training Loss: 8.950461387634277\n",
      "Epoch 1, Step 128/134, Training Loss: 13.341300964355469\n",
      "Epoch 1, Step 129/134, Training Loss: 11.033793449401855\n",
      "Epoch 1, Step 130/134, Training Loss: 14.37018871307373\n",
      "Epoch 1, Step 131/134, Training Loss: 10.027531623840332\n",
      "Epoch 1, Step 132/134, Training Loss: 14.449684143066406\n",
      "Epoch 1, Step 132/134, Validation Loss: 10.583486851523904\n",
      "Epoch 1, Step 133/134, Training Loss: 11.208576202392578\n",
      "Epoch 1, Step 134/134, Training Loss: 11.468367576599121\n",
      "Epoch 1, Step 134/134, Validation Loss: 10.68758121658774\n",
      "Epoch 1, Training Loss: 18.997217993238078\n"
     ]
    },
    {
     "data": {
      "image/png": "[encoded data removed]",
      "text/plain": [
       "<Figure size 1000x500 with 1 Axes>"
      ]
     },
     "metadata": {},
     "output_type": "display_data"
    }
   ],
   "source": [
    "train_loop(model, train_loader, val_loader, optimizer, 1)"
   ]
  },
  {
   "cell_type": "markdown",
   "metadata": {
    "id": "K5PifuircGKm"
   },
   "source": [
    "## Run a Forward Pass Recursively to Predict the Weather\n",
    "\n",
    "This script fetches the most recent 30 days of maximum temperature data for Zurich, processes it into a format suitable for input into a predictive model, and uses the model to forecast the next 7 days of temperatures. The results include the actual temperatures for the last 7 days and the predicted temperatures for the upcoming 7 days, providing a comprehensive view of recent and anticipated weather trends.This script fetches the most recent 30 days of maximum temperature data for Zurich, processes it into a format suitable for input into a predictive model, and uses the model to forecast the next 7 days of temperatures. The results include the actual temperatures for the last 7 days and the predicted temperatures for the upcoming 7 days, providing a comprehensive view of recent and anticipated weather trends."
   ]
  },
  {
   "cell_type": "code",
   "execution_count": 20,
   "metadata": {
    "colab": {
     "base_uri": "https://localhost:8080/"
    },
    "id": "3rkVapq4cFpe",
    "outputId": "efaa42f0-7843-4606-9254-47d34cdcfe69"
   },
   "outputs": [
    {
     "name": "stdout",
     "output_type": "stream",
     "text": [
      "Last 7 days max temperatures: [19.0, 21.5, 17.5, 18.5, 17.0, 16.0, 12.5]\n",
      "Predicted max temperatures for the next 7 days: [15.0, 17.0, 18.5, 20.0, 21.5, 22.5, 23.0]\n"
     ]
    }
   ],
   "source": [
    "import torch\n",
    "from datetime import datetime, timedelta\n",
    "import pandas as pd\n",
    "from meteostat import Point, Daily\n",
    "\n",
    "# Set the location for Zurich\n",
    "zurich = Point(47.200, 8.3300)\n",
    "\n",
    "# Set the time period to fetch data\n",
    "end = datetime.today()\n",
    "start = end - timedelta(days=30)\n",
    "\n",
    "# Get daily data\n",
    "data = Daily(zurich, start, end)\n",
    "data = data.fetch()\n",
    "\n",
    "# Ensure there are no NaN values\n",
    "data = data.dropna(subset=['tmax'])\n",
    "\n",
    "# Get the last 30 days of temperature\n",
    "last_30_days = data['tmax'].values[-30:]\n",
    "\n",
    "# Convert to a PyTorch tensor\n",
    "input_sequence = torch.tensor(last_30_days, dtype=torch.float32).cuda()\n",
    "\n",
    "# Function to predict the next 7 days of temperature\n",
    "def predict_next_7_days(model, input_sequence, days=7):\n",
    "    model.eval()\n",
    "    predictions = []\n",
    "\n",
    "    for _ in range(days):\n",
    "        with torch.no_grad():\n",
    "            # Forward pass to get the next day's prediction\n",
    "            output = model(input_sequence.unsqueeze(0).unsqueeze(-1))  # Ensure input is 3D\n",
    "            next_day_temp = output.item()\n",
    "\n",
    "            # Append the prediction to the list of predictions\n",
    "            predictions.append(next_day_temp)\n",
    "\n",
    "            # Update the input sequence by appending the predicted temperature and removing the oldest one\n",
    "            input_sequence = torch.cat((input_sequence[1:], torch.tensor([next_day_temp], dtype=torch.float32).cuda()))\n",
    "\n",
    "    return predictions\n",
    "\n",
    "# Predict the next 7 days of temperature\n",
    "predicted_temperatures = predict_next_7_days(model, input_sequence, days=7)\n",
    "\n",
    "# Print the last 7 temperature data points\n",
    "print(\"Last 7 days max temperatures:\", [round(temp * 2) / 2 for temp in last_30_days[-7:]])\n",
    "\n",
    "# Print the predictions\n",
    "print(\"Predicted max temperatures for the next 7 days:\", [round(temp * 2) / 2 for temp in predicted_temperatures])"
   ]
  },
  {
   "cell_type": "code",
   "execution_count": null,
   "metadata": {},
   "outputs": [],
   "source": []
  },
  {
   "cell_type": "code",
   "execution_count": null,
   "metadata": {},
   "outputs": [],
   "source": []
  },
  {
   "cell_type": "code",
   "execution_count": null,
   "metadata": {},
   "outputs": [],
   "source": []
  }
 ],
 "metadata": {
  "accelerator": "GPU",
  "colab": {
   "gpuType": "L4",
   "provenance": []
  },
  "kernelspec": {
   "display_name": "Python 3 (ipykernel)",
   "language": "python",
   "name": "python3"
  },
  "language_info": {
   "codemirror_mode": {
    "name": "ipython",
    "version": 3
   },
   "file_extension": ".py",
   "mimetype": "text/x-python",
   "name": "python",
   "nbconvert_exporter": "python",
   "pygments_lexer": "ipython3",
   "version": "3.10.12"
  }
 },
 "nbformat": 4,
 "nbformat_minor": 4
}
