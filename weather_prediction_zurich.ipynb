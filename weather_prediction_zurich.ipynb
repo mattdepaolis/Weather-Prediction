{
 "cells": [
  {
   "cell_type": "markdown",
   "metadata": {},
   "source": [
    "## Generate Dummy Data\n",
    "\n",
    "This script generates synthetic temperature data, splits it into training and validation sets, and prepares DataLoaders for these sets. This setup is essential for training and validating machine learning models, ensuring that the data is appropriately handled and ready for the model training process."
   ]
  },
  {
   "cell_type": "code",
   "execution_count": 203,
   "metadata": {
    "id": "r3y2-tWIATK0"
   },
   "outputs": [
    {
     "name": "stdout",
     "output_type": "stream",
     "text": [
      "Data shape: (64, 30, 2), Targets shape: (64,)\n"
     ]
    }
   ],
   "source": [
    "import torch\n",
    "import torch.nn as nn\n",
    "import torch.optim as optim\n",
    "import math\n",
    "from torch.utils.data import DataLoader, TensorDataset\n",
    "import numpy as np\n",
    "\n",
    "# Function to generate dummy temperature data for 'tmax', 'tmin', and pressure 'pres'\n",
    "def generate_dummy_data(num_samples=64, seq_length=30):\n",
    "    # Generating 'tmax' temperature data within a typical range\n",
    "    tmax = np.random.uniform(low=-10.0, high=40.0, size=(num_samples, seq_length))\n",
    "    # Generating 'tmin' temperature data within a typical range\n",
    "    tmin = np.random.uniform(low=-20.0, high=25.0, size=(num_samples, seq_length))\n",
    "    # Generating 'pres' pressure data within a typical range\n",
    "    #pres = np.random.uniform(low=950.0, high=1050.0, size=(num_samples, seq_length))\n",
    "    \n",
    "    # Combining the 'tmax', 'tmin', and 'pres' data\n",
    "    data = np.stack((tmax, tmin), axis=-1)\n",
    "    \n",
    "    # Creating targets: next day 'tmax', i.e., first 'tmax' of the next sequence\n",
    "    targets = np.roll(tmax, -1, axis=1)[:, -1]\n",
    "    \n",
    "    return data, targets\n",
    "\n",
    "# Generate the dummy data\n",
    "data, targets = generate_dummy_data()\n",
    "\n",
    "# Splitting the data into training and validation sets\n",
    "train_data = TensorDataset(torch.Tensor(data[:int(0.8 * len(data))]), torch.Tensor(targets[:int(0.8 * len(targets))]))\n",
    "val_data = TensorDataset(torch.Tensor(data[int(0.8 * len(data)):]), torch.Tensor(targets[int(0.8 * len(targets)):]))\n",
    "\n",
    "# Creating DataLoader for training and validation sets\n",
    "train_loader = DataLoader(train_data, batch_size=4, shuffle=True) # Enable shuffling for training\n",
    "val_loader = DataLoader(val_data, batch_size=4, shuffle=False)\n",
    "\n",
    "# Verify the shapes of the generated data\n",
    "print(f\"Data shape: {data.shape}, Targets shape: {targets.shape}\")"
   ]
  },
  {
   "cell_type": "code",
   "execution_count": 204,
   "metadata": {
    "colab": {
     "base_uri": "https://localhost:8080/"
    },
    "id": "vtnWzwK7AlM9",
    "outputId": "04bcbc00-9e61-4b64-d9e4-9fe8b302aaa8"
   },
   "outputs": [
    {
     "name": "stdout",
     "output_type": "stream",
     "text": [
      "(tensor([[ -6.0666, -15.6325],\n",
      "        [ -7.2192,  12.5916],\n",
      "        [ -7.1977, -11.6729],\n",
      "        [ 31.4235,  17.9636],\n",
      "        [ -6.3385, -14.6121],\n",
      "        [ -7.0748,  24.5387],\n",
      "        [ 11.2448,  23.7887],\n",
      "        [ 27.7400,  23.7626],\n",
      "        [  7.1027,  10.2311],\n",
      "        [ 21.3081,   6.9811],\n",
      "        [ 34.8790,  -1.0962],\n",
      "        [  9.3695, -10.6822],\n",
      "        [  1.9059,  15.4187],\n",
      "        [ 19.0587, -14.8745],\n",
      "        [ 15.1091,  24.2289],\n",
      "        [ 13.8633,  22.2952],\n",
      "        [  6.3913,  -3.9900],\n",
      "        [ -2.3396,  24.0935],\n",
      "        [ -1.0658, -18.7562],\n",
      "        [ -6.0421,  -6.4307],\n",
      "        [ 13.1477,  -6.5150],\n",
      "        [ 31.5064,   2.2344],\n",
      "        [ -0.0974,   8.2031],\n",
      "        [ 25.0734,  18.6919],\n",
      "        [ -5.1511,   3.5926],\n",
      "        [ 23.4650, -19.4217],\n",
      "        [  2.7702,   9.7873],\n",
      "        [ -8.1085, -16.9494],\n",
      "        [ 29.0813,  -9.8360],\n",
      "        [ 30.4295,   3.2444]]), tensor(-6.0666))\n"
     ]
    }
   ],
   "source": [
    "print(train_data[0])"
   ]
  },
  {
   "cell_type": "markdown",
   "metadata": {},
   "source": [
    "## Create Transformer Architecture\n",
    "\n",
    "The script defines a transformer-based sequence prediction model in PyTorch, including a custom positional encoding module and a transformer model with several encoder layers. The model is designed for sequence prediction tasks, such as forecasting future values in a time series. After defining the model, it is instantiated with specific parameters and moved to the GPU for training and inference."
   ]
  },
  {
   "cell_type": "code",
   "execution_count": 205,
   "metadata": {
    "colab": {
     "base_uri": "https://localhost:8080/"
    },
    "id": "o1c_4HvGA8Y0",
    "outputId": "c929a469-3331-4d8a-b22f-78e81b4f65b8",
    "scrolled": true
   },
   "outputs": [
    {
     "name": "stderr",
     "output_type": "stream",
     "text": [
      "UserWarning: enable_nested_tensor is True, but self.use_nested_tensor is False because encoder_layer.norm_first was True\n"
     ]
    }
   ],
   "source": [
    "import torch\n",
    "import torch.nn as nn\n",
    "import torch.nn.functional as F\n",
    "import math\n",
    "\n",
    "# Define a custom module for positional encoding in a transformer model\n",
    "class PositionalEncoding(nn.Module):\n",
    "    def __init__(self, d_model, max_len=5000):\n",
    "        super(PositionalEncoding, self).__init__()\n",
    "        # Initialize a positional encoding matrix of zeros\n",
    "        pe = torch.zeros(max_len, d_model)\n",
    "        # Create a tensor for position indices\n",
    "        position = torch.arange(0, max_len, dtype=torch.float).unsqueeze(1)\n",
    "        # Define the term for division based on the model dimension\n",
    "        div_term = torch.exp(torch.arange(0, d_model, 2).float() * (-math.log(10000.0) / d_model))\n",
    "        # Apply sine to even indices in the array\n",
    "        pe[:, 0::2] = torch.sin(position * div_term)\n",
    "        # Apply cosine to odd indices in the array\n",
    "        pe[:, 1::2] = torch.cos(position * div_term)\n",
    "        # Register the positional encoding buffer\n",
    "        self.register_buffer('pe', pe)\n",
    "\n",
    "    def forward(self, x):\n",
    "        # Add positional encoding to the input tensor\n",
    "        x = x + self.pe[:x.shape[1], :].unsqueeze(0)  # Extend for batch size\n",
    "        return x\n",
    "\n",
    "# Define a transformer-based model for sequence prediction\n",
    "class TransformerModel(nn.Module):\n",
    "    def __init__(self, input_dim, d_model, nhead, num_encoder_layers, dim_feedforward, max_len=45):\n",
    "        super(TransformerModel, self).__init__()\n",
    "        # Linear layer for embedding the input\n",
    "        self.embedding = nn.Linear(input_dim, d_model)\n",
    "        # Positional encoding layer\n",
    "        self.pos_encoder = PositionalEncoding(d_model, max_len)\n",
    "\n",
    "        # Define the transformer encoder layer with specific parameters\n",
    "        encoder_layer = nn.TransformerEncoderLayer(\n",
    "            d_model=d_model,\n",
    "            nhead=nhead,\n",
    "            dim_feedforward=dim_feedforward,\n",
    "            dropout=0.1,\n",
    "            activation='relu',  # Include ReLU activation in the MLP\n",
    "            batch_first=True,  # Ensure batch dimension is first\n",
    "            norm_first=True    # Apply normalization before the feedforward layer\n",
    "        )\n",
    "        # Stack multiple transformer encoder layers\n",
    "        self.transformer_encoder = nn.TransformerEncoder(encoder_layer, num_encoder_layers)\n",
    "\n",
    "        # Linear layer for decoding the output of the transformer encoder\n",
    "        self.decoder = nn.Linear(d_model, 1)\n",
    "        # Initialize weights for the model\n",
    "        self.init_weights()\n",
    "\n",
    "    def init_weights(self):\n",
    "        # Initialize weights of the embedding layer uniformly\n",
    "        initrange = 0.1\n",
    "        self.embedding.weight.data.uniform_(-initrange, initrange)\n",
    "        # Initialize biases and weights of the decoder\n",
    "        self.decoder.bias.data.zero_()\n",
    "        self.decoder.weight.data.uniform_(-initrange, initrange)\n",
    "\n",
    "    def forward(self, src):\n",
    "        # Apply embedding to the input source\n",
    "        src = self.embedding(src)\n",
    "        # Add positional encoding to the embedded input\n",
    "        src = self.pos_encoder(src)\n",
    "        # Pass the encoded input through the transformer encoder\n",
    "        output = self.transformer_encoder(src)\n",
    "        # Decode the last token's output for the final prediction\n",
    "        output = self.decoder(output[:, -1, :])  # Decoding from the last token for prediction\n",
    "        return output\n",
    "\n",
    "# Adjust the input dimension to account for three variables (tmax, tmin, pres)\n",
    "input_dim = 2\n",
    "\n",
    "# Instantiate the transformer model with specified dimensions and move it to GPU\n",
    "model = TransformerModel(input_dim=input_dim, d_model=144, nhead=12, num_encoder_layers=8, dim_feedforward=1024).cuda()\n"
   ]
  },
  {
   "cell_type": "markdown",
   "metadata": {},
   "source": [
    "This script sets up and runs a forward pass through a transformer-based model using a batch of sequences filled with ones as input. It demonstrates how to define input parameters, create and prepare input data, run the model, and display the resulting output. This is done for testing and validating the model's forward method and ensuring it produces expected predictions."
   ]
  },
  {
   "cell_type": "code",
   "execution_count": 206,
   "metadata": {
    "colab": {
     "base_uri": "https://localhost:8080/"
    },
    "id": "fHP-Cl_tXTCo",
    "outputId": "fb467be0-638a-4255-ac8d-67114aa0391a"
   },
   "outputs": [
    {
     "name": "stdout",
     "output_type": "stream",
     "text": [
      "-0.9979493618011475\n"
     ]
    }
   ],
   "source": [
    "# Run model.forward\n",
    "import torch\n",
    "\n",
    "# Define input parameters\n",
    "batch_size = 1  # Number of sequences in the batch\n",
    "seq_length = 30  # Length of each sequence\n",
    "input_dim = 2  # Dimensionality of input features\n",
    "\n",
    "# Create a batch of input sequences filled with ones\n",
    "input_sequences = torch.ones((batch_size, seq_length, input_dim)).cuda()\n",
    "\n",
    "# Run the model's forward pass\n",
    "output = model(input_sequences)\n",
    "\n",
    "# Print the output\n",
    "print(output.item())"
   ]
  },
  {
   "cell_type": "markdown",
   "metadata": {},
   "source": [
    "## Define Training Loop\n",
    "\n",
    "This script defines a comprehensive training loop function, including detailed tracking of training and validation losses, and plotting these losses for analysis. The function is designed to ensure the model is trained efficiently while providing insights into its performance at regular intervals. The AdamW optimizer is used to update the model's parameters during training."
   ]
  },
  {
   "cell_type": "code",
   "execution_count": 207,
   "metadata": {
    "id": "0vTXp4HxBx5T"
   },
   "outputs": [],
   "source": [
    "import torch\n",
    "import torch.nn as nn\n",
    "import torch.optim as optim\n",
    "import matplotlib.pyplot as plt\n",
    "import numpy as np\n",
    "\n",
    "def train_loop(model, train_loader, val_loader, optimizer, epochs):\n",
    "    criterion = nn.MSELoss()\n",
    "    train_losses = []\n",
    "    val_losses = []\n",
    "    step_losses = []\n",
    "    val_steps = []  # To record the steps at which validation is performed\n",
    "    steps_per_epoch = len(train_loader)\n",
    "\n",
    "    # Ensure val_interval is at least 1\n",
    "    val_interval = max(steps_per_epoch // 4, 1)\n",
    "\n",
    "    for epoch in range(epochs):\n",
    "        model.train()\n",
    "        total_train_loss = 0\n",
    "        num_batches = 0\n",
    "\n",
    "        for i, (data, targets) in enumerate(train_loader):\n",
    "            data, targets = data.cuda(), targets.cuda()\n",
    "            optimizer.zero_grad()\n",
    "\n",
    "            outputs = model(data)  # Data is already 3D (batch_size, seq_length, input_dim)\n",
    "            loss = criterion(outputs.view(-1), targets.view(-1))  # Ensure both are 1D tensors\n",
    "            loss.backward()\n",
    "            optimizer.step()\n",
    "\n",
    "            total_train_loss += loss.item()\n",
    "            num_batches += 1\n",
    "\n",
    "            # Print training loss every step\n",
    "            print(f'Epoch {epoch+1}, Step {i+1}/{steps_per_epoch}, Training Loss: {loss.item()}')\n",
    "\n",
    "            step_losses.append(loss.item())\n",
    "\n",
    "            # Calculate validation loss every quarter epoch\n",
    "            if (i + 1) % val_interval == 0 or (i + 1) == steps_per_epoch:\n",
    "                model.eval()\n",
    "                total_val_loss = 0\n",
    "                num_val_batches = 0\n",
    "                with torch.no_grad():\n",
    "                    for data, targets in val_loader:\n",
    "                        data, targets = data.cuda(), targets.cuda()\n",
    "                        outputs = model(data)\n",
    "                        val_loss = criterion(outputs.view(-1), targets.view(-1))  # Ensure both are 1D tensors\n",
    "                        total_val_loss += val_loss.item()\n",
    "                        num_val_batches += 1\n",
    "\n",
    "                average_val_loss = total_val_loss / num_val_batches\n",
    "                val_losses.append(average_val_loss)\n",
    "                val_steps.append(len(step_losses))  # Record the step at which validation is performed\n",
    "                print(f'Epoch {epoch+1}, Step {i+1}/{steps_per_epoch}, Validation Loss: {average_val_loss}')\n",
    "                model.train()\n",
    "\n",
    "        average_train_loss = total_train_loss / num_batches\n",
    "        train_losses.append(average_train_loss)\n",
    "        print(f'Epoch {epoch+1}, Training Loss: {average_train_loss}')\n",
    "\n",
    "    # Plotting the losses\n",
    "    plt.figure(figsize=(10, 5))\n",
    "    plt.plot(np.arange(len(step_losses)), step_losses, label='Training Loss per Step', linestyle='-', marker='o')\n",
    "    plt.scatter(val_steps, val_losses, label='Validation Loss', color='red')\n",
    "    plt.xlabel('Steps')\n",
    "    plt.ylabel('Loss')\n",
    "    plt.legend()\n",
    "    plt.title('Training and Validation Loss')\n",
    "    plt.show()\n",
    "\n",
    "# Assuming you have your model, train_loader, and val_loader defined\n",
    "optimizer = optim.AdamW(model.parameters(), lr=0.001)\n"
   ]
  },
  {
   "cell_type": "markdown",
   "metadata": {},
   "source": [
    "## Train Model"
   ]
  },
  {
   "cell_type": "code",
   "execution_count": 208,
   "metadata": {
    "colab": {
     "base_uri": "https://localhost:8080/",
     "height": 872
    },
    "id": "h3gKTg3jJ2bP",
    "outputId": "148d2521-b213-41b8-856a-ca379b7031be"
   },
   "outputs": [
    {
     "name": "stdout",
     "output_type": "stream",
     "text": [
      "Epoch 1, Step 1/13, Training Loss: 506.18212890625\n",
      "Epoch 1, Step 2/13, Training Loss: 359.52728271484375\n",
      "Epoch 1, Step 3/13, Training Loss: 262.62225341796875\n",
      "Epoch 1, Step 3/13, Validation Loss: 228.13490676879883\n",
      "Epoch 1, Step 4/13, Training Loss: 149.32334899902344\n",
      "Epoch 1, Step 5/13, Training Loss: 97.36974334716797\n",
      "Epoch 1, Step 6/13, Training Loss: 431.368408203125\n",
      "Epoch 1, Step 6/13, Validation Loss: 317.8275337219238\n",
      "Epoch 1, Step 7/13, Training Loss: 372.9166259765625\n",
      "Epoch 1, Step 8/13, Training Loss: 89.28491973876953\n",
      "Epoch 1, Step 9/13, Training Loss: 317.1739501953125\n",
      "Epoch 1, Step 9/13, Validation Loss: 154.91840600967407\n",
      "Epoch 1, Step 10/13, Training Loss: 167.4609832763672\n",
      "Epoch 1, Step 11/13, Training Loss: 102.40008544921875\n",
      "Epoch 1, Step 12/13, Training Loss: 130.5037841796875\n",
      "Epoch 1, Step 12/13, Validation Loss: 236.50546407699585\n",
      "Epoch 1, Step 13/13, Training Loss: 801.0355224609375\n",
      "Epoch 1, Step 13/13, Validation Loss: 162.65310880541801\n",
      "Epoch 1, Training Loss: 291.32069514347955\n"
     ]
    },
    {
     "data": {
      "image/png": "iVBORw0KGgoAAAANSUhEUgAAA1IAAAHWCAYAAAB9mLjgAAAAOXRFWHRTb2Z0d2FyZQBNYXRwbG90bGliIHZlcnNpb24zLjguNCwgaHR0cHM6Ly9tYXRwbG90bGliLm9yZy8fJSN1AAAACXBIWXMAAA9hAAAPYQGoP6dpAAChjklEQVR4nOzdd3hU1dbH8e9k0juENCDUhBJ6JyhFRGlyQVARUUBRrwgqKhZeFREL116wlwsqIooXVHoTEOldmhAgEFoSIKSQkDYz7x9hRiIthCRnkvw+zzMPzjl75qxJYjJr9tprm2w2mw0REREREREpNBejAxARERERESlrlEiJiIiIiIhcJSVSIiIiIiIiV0mJlIiIiIiIyFVSIiUiIiIiInKVlEiJiIiIiIhcJSVSIiIiIiIiV0mJlIiIiIiIyFVSIiUiIiIiInKVlEiJiJQRw4YNo1atWkV67Pjx4zGZTMUbkJM5ePAgJpOJKVOmlPq1TSYT48ePd9yfMmUKJpOJgwcPXvGxtWrVYtiwYcUaz7X8rIiISOEokRIRuUYmk6lQt+XLlxsdaoX36KOPYjKZ2Ldv3yXHPPfcc5hMJv78889SjOzqHTt2jPHjx7N161ajQ3GwJ7NvvfWW0aGIiJQ4V6MDEBEp67799tsC97/55hsWL158wfGGDRte03W++OILrFZrkR77/PPP8+yzz17T9cuDwYMHM2nSJKZNm8a4ceMuOub777+nSZMmNG3atMjXueeee7jzzjvx8PAo8nNcybFjx3jppZeoVasWzZs3L3DuWn5WRESkcJRIiYhco7vvvrvA/bVr17J48eILjv9TZmYm3t7ehb6Om5tbkeIDcHV1xdVVv/LbtWtHZGQk33///UUTqTVr1hAXF8d//vOfa7qO2WzGbDZf03Nci2v5WRERkcJRaZ+ISCno0qULjRs3ZtOmTXTq1Alvb2/+7//+D4BffvmF3r17U7VqVTw8PKhbty4vv/wyFoulwHP8c93L+WVUn3/+OXXr1sXDw4M2bdqwYcOGAo+92Bopk8nEqFGj+Pnnn2ncuDEeHh40atSIBQsWXBD/8uXLad26NZ6entStW5fPPvus0OuuVq5cye23306NGjXw8PAgIiKCxx9/nLNnz17w+nx9fTl69Cj9+vXD19eX4OBgxowZc8HXIiUlhWHDhhEQEEBgYCBDhw4lJSXlirFA/qzUX3/9xebNmy84N23aNEwmE4MGDSInJ4dx48bRqlUrAgIC8PHxoWPHjixbtuyK17jYGimbzcYrr7xC9erV8fb25oYbbmDnzp0XPDY5OZkxY8bQpEkTfH198ff3p2fPnmzbts0xZvny5bRp0waAe++911E+al8fdrE1UhkZGTz55JNERETg4eFB/fr1eeutt7DZbAXGXc3PRVElJSUxfPhwQkND8fT0pFmzZnz99dcXjJs+fTqtWrXCz88Pf39/mjRpwvvvv+84n5uby0svvURUVBSenp4EBQVx/fXXs3jx4mKLVUTkUvTxpIhIKTl16hQ9e/bkzjvv5O677yY0NBTIf9Pt6+vLE088ga+vL7/99hvjxo0jLS2NN99884rPO23aNNLT0/n3v/+NyWTijTfeoH///hw4cOCKMxN//PEHM2fO5OGHH8bPz48PPviAAQMGEB8fT1BQEABbtmyhR48ehIeH89JLL2GxWJgwYQLBwcGFet0zZswgMzOTESNGEBQUxPr165k0aRJHjhxhxowZBcZaLBa6d+9Ou3bteOutt1iyZAlvv/02devWZcSIEUB+QtK3b1/++OMPHnroIRo2bMisWbMYOnRooeIZPHgwL730EtOmTaNly5YFrv3jjz/SsWNHatSowcmTJ/nyyy8ZNGgQDzzwAOnp6Xz11Vd0796d9evXX1BOdyXjxo3jlVdeoVevXvTq1YvNmzdz8803k5OTU2DcgQMH+Pnnn7n99tupXbs2iYmJfPbZZ3Tu3Jldu3ZRtWpVGjZsyIQJExg3bhwPPvggHTt2BKBDhw4XvbbNZuNf//oXy5YtY/jw4TRv3pyFCxfy1FNPcfToUd59990C4wvzc1FUZ8+epUuXLuzbt49Ro0ZRu3ZtZsyYwbBhw0hJSeGxxx4DYPHixQwaNIgbb7yR119/HYDdu3ezatUqx5jx48czceJE7r//ftq2bUtaWhobN25k8+bN3HTTTdcUp4jIFdlERKRYjRw50vbPX6+dO3e2AbZPP/30gvGZmZkXHPv3v/9t8/b2tmVlZTmODR061FazZk3H/bi4OBtgCwoKsiUnJzuO//LLLzbANnv2bMexF1988YKYAJu7u7tt3759jmPbtm2zAbZJkyY5jvXp08fm7e1tO3r0qONYbGyszdXV9YLnvJiLvb6JEyfaTCaT7dChQwVeH2CbMGFCgbEtWrSwtWrVynH/559/tgG2N954w3EsLy/P1rFjRxtgmzx58hVjatOmja169eo2i8XiOLZgwQIbYPvss88cz5mdnV3gcadPn7aFhoba7rvvvgLHAduLL77ouD958mQbYIuLi7PZbDZbUlKSzd3d3da7d2+b1Wp1jPu///s/G2AbOnSo41hWVlaBuGy2/O+1h4dHga/Nhg0bLvl6//mzYv+avfLKKwXG3XbbbTaTyVTgZ6CwPxcXY/+ZfPPNNy855r333rMBtqlTpzqO5eTk2GJiYmy+vr62tLQ0m81msz322GM2f39/W15e3iWfq1mzZrbevXtfNiYRkZKi0j4RkVLi4eHBvffee8FxLy8vx3+np6dz8uRJOnbsSGZmJn/99dcVn3fgwIFUqlTJcd8+O3HgwIErPrZbt27UrVvXcb9p06b4+/s7HmuxWFiyZAn9+vWjatWqjnGRkZH07Nnzis8PBV9fRkYGJ0+epEOHDthsNrZs2XLB+IceeqjA/Y4dOxZ4LfPmzcPV1dUxQwX5a5IeeeSRQsUD+evajhw5wu+//+44Nm3aNNzd3bn99tsdz+nu7g6A1WolOTmZvLw8WrdufdGywMtZsmQJOTk5PPLIIwXKIUePHn3BWA8PD1xc8v88WywWTp06ha+vL/Xr17/q69rNmzcPs9nMo48+WuD4k08+ic1mY/78+QWOX+nn4lrMmzePsLAwBg0a5Djm5ubGo48+ypkzZ1ixYgUAgYGBZGRkXLZMLzAwkJ07dxIbG3vNcYmIXC0lUiIipaRatWqON+bn27lzJ7feeisBAQH4+/sTHBzsaFSRmpp6xeetUaNGgfv2pOr06dNX/Vj74+2PTUpK4uzZs0RGRl4w7mLHLiY+Pp5hw4ZRuXJlx7qnzp07Axe+Pk9PzwtKBs+PB+DQoUOEh4fj6+tbYFz9+vULFQ/AnXfeidlsZtq0aQBkZWUxa9YsevbsWSAp/frrr2natKlj/U1wcDBz584t1PflfIcOHQIgKiqqwPHg4OAC14P8pO3dd98lKioKDw8PqlSpQnBwMH/++edVX/f861etWhU/P78Cx+2dJO3x2V3p5+JaHDp0iKioKEeyeKlYHn74YerVq0fPnj2pXr0699133wXrtCZMmEBKSgr16tWjSZMmPPXUU07ftl5Eyg8lUiIipeT8mRm7lJQUOnfuzLZt25gwYQKzZ89m8eLFjjUhhWlhfanucLZ/NBEo7scWhsVi4aabbmLu3Lk888wz/PzzzyxevNjRFOGfr6+0Ot2FhIRw00038b///Y/c3Fxmz55Neno6gwcPdoyZOnUqw4YNo27dunz11VcsWLCAxYsX07Vr1xJtLf7aa6/xxBNP0KlTJ6ZOncrChQtZvHgxjRo1KrWW5iX9c1EYISEhbN26lV9//dWxvqtnz54F1sJ16tSJ/fv389///pfGjRvz5Zdf0rJlS7788stSi1NEKi41mxARMdDy5cs5deoUM2fOpFOnTo7jcXFxBkb1t5CQEDw9PS+6ge3lNrW12759O3v37uXrr79myJAhjuPX0lWtZs2aLF26lDNnzhSYldqzZ89VPc/gwYNZsGAB8+fPZ9q0afj7+9OnTx/H+Z9++ok6deowc+bMAuV4L774YpFiBoiNjaVOnTqO4ydOnLhgluenn37ihhtu4KuvvipwPCUlhSpVqjjuF6Zj4vnXX7JkCenp6QVmpeylo/b4SkPNmjX5888/sVqtBWalLhaLu7s7ffr0oU+fPlitVh5++GE+++wzXnjhBceMaOXKlbn33nu59957OXPmDJ06dWL8+PHcf//9pfaaRKRi0oyUiIiB7J/8n/9Jf05ODh9//LFRIRVgNpvp1q0bP//8M8eOHXMc37dv3wXrai71eCj4+mw2W4EW1lerV69e5OXl8cknnziOWSwWJk2adFXP069fP7y9vfn444+ZP38+/fv3x9PT87Kxr1u3jjVr1lx1zN26dcPNzY1JkyYVeL733nvvgrFms/mCmZ8ZM2Zw9OjRAsd8fHwACtX2vVevXlgsFj788MMCx999911MJlOh17sVh169epGQkMAPP/zgOJaXl8ekSZPw9fV1lH2eOnWqwONcXFwcmyRnZ2dfdIyvry+RkZGO8yIiJUkzUiIiBurQoQOVKlVi6NChPProo5hMJr799ttSLaG6kvHjx7No0SKuu+46RowY4XhD3rhxY7Zu3XrZxzZo0IC6desyZswYjh49ir+/P//73/+uaa1Nnz59uO6663j22Wc5ePAg0dHRzJw586rXD/n6+tKvXz/HOqnzy/oAbrnlFmbOnMmtt95K7969iYuL49NPPyU6OpozZ85c1bXs+2FNnDiRW265hV69erFlyxbmz59fYJbJft0JEyZw77330qFDB7Zv3853331XYCYLoG7dugQGBvLpp5/i5+eHj48P7dq1o3bt2hdcv0+fPtxwww0899xzHDx4kGbNmrFo0SJ++eUXRo8eXaCxRHFYunQpWVlZFxzv168fDz74IJ999hnDhg1j06ZN1KpVi59++olVq1bx3nvvOWbM7r//fpKTk+natSvVq1fn0KFDTJo0iebNmzvWU0VHR9OlSxdatWpF5cqV2bhxIz/99BOjRo0q1tcjInIxSqRERAwUFBTEnDlzePLJJ3n++eepVKkSd999NzfeeCPdu3c3OjwAWrVqxfz58xkzZgwvvPACERERTJgwgd27d1+xq6CbmxuzZ8/m0UcfZeLEiXh6enLrrbcyatQomjVrVqR4XFxc+PXXXxk9ejRTp07FZDLxr3/9i7fffpsWLVpc1XMNHjyYadOmER4eTteuXQucGzZsGAkJCXz22WcsXLiQ6Ohopk6dyowZM1i+fPlVx/3KK6/g6enJp59+yrJly2jXrh2LFi2id+/eBcb93//9HxkZGUybNo0ffviBli1bMnfuXJ599tkC49zc3Pj6668ZO3YsDz30EHl5eUyePPmiiZT9azZu3Dh++OEHJk+eTK1atXjzzTd58sknr/q1XMmCBQsuuoFvrVq1aNy4McuXL+fZZ5/l66+/Ji0tjfr16zN58mSGDRvmGHv33Xfz+eef8/HHH5OSkkJYWBgDBw5k/PjxjpLARx99lF9//ZVFixaRnZ1NzZo1eeWVV3jqqaeK/TWJiPyTyeZMH3uKiEiZ0a9fP7WeFhGRCktrpERE5IrOnj1b4H5sbCzz5s2jS5cuxgQkIiJiMM1IiYjIFYWHhzNs2DDq1KnDoUOH+OSTT8jOzmbLli0X7I0kIiJSEWiNlIiIXFGPHj34/vvvSUhIwMPDg5iYGF577TUlUSIiUmFpRkpEREREROQqaY2UiIiIiIjIVVIiJSIiIiIicpW0RgqwWq0cO3YMPz8/TCaT0eGIiIiIiIhBbDYb6enpVK1a1bFv3cUokQKOHTtGRESE0WGIiIiIiIiTOHz4MNWrV7/keSVSgJ+fH5D/xfL39zc4GhERERERMUpaWhoRERGOHOFSlEiBo5zP399fiZSIiIiIiFxxyY+aTYiIiIiIiFwlJVIiIiIiIiJXSYmUiIiIiIjIVdIaqUKyWCzk5uYaHYaIUzKbzbi6umr7ABEREakwlEgVwpkzZzhy5Ag2m83oUESclre3N+Hh4bi7uxsdioiIiEiJUyJ1BRaLhSNHjuDt7U1wcLA+cRf5B5vNRk5ODidOnCAuLo6oqKjLbl4nIiIiUh4okbqC3NxcbDYbwcHBeHl5GR2OiFPy8vLCzc2NQ4cOkZOTg6enp9EhiYiIiJQofWxcSJqJErk8zUKJiIhIRaJ3PiIiIiIiIldJpX0iIiIiIk7OYrWxPi6ZpPQsQvw8aVu7MmYXVUwZSYlUKSkPP/y1atVi9OjRjB49ulDjly9fzg033MDp06cJDAws0dhEREREyqsFO47z0uxdHE/NchwLD/DkxT7R9GgcbmBkFZuhpX0Wi4UXXniB2rVr4+XlRd26dXn55ZcLtBm32WyMGzeO8PBwvLy86NatG7GxsQWeJzk5mcGDB+Pv709gYCDDhw/nzJkzpf1yLmnBjuNc//pvDPpiLY9N38qgL9Zy/eu/sWDH8RK5nslkuuxt/PjxRXreDRs28OCDDxZ6fIcOHTh+/DgBAQFFul5hLV++HJPJREpKSolexxnNmjWL9u3bExAQgJ+fH40aNSqQ6I4fP57mzZsbFp+IiIhcmwU7jjNi6uYCSRRAQmoWI6ZuLrH3k3JlhiZSr7/+Op988gkffvghu3fv5vXXX+eNN95g0qRJjjFvvPEGH3zwAZ9++inr1q3Dx8eH7t27k5X19w/T4MGD2blzJ4sXL2bOnDn8/vvvV/WGvyQZ8cN//Phxx+29997D39+/wLExY8Y4xtpsNvLy8gr1vMHBwXh7exc6Dnd3d8LCwtSo4xpZLBasVusFx5cuXcrAgQMZMGAA69evZ9OmTbz66qvaOFpERKScsFhtvDR7FxfbydR+7KXZu7BYtdepEQxNpFavXk3fvn3p3bs3tWrV4rbbbuPmm29m/fr1QP6b/Pfee4/nn3+evn370rRpU7755huOHTvGzz//DMDu3btZsGABX375Je3ateP6669n0qRJTJ8+nWPHjhV7zDabjcycvELd0rNyefHXnZf94R//6y7Ss3IL9XyF3RA4LCzMcQsICMBkMjnu//XXX/j5+TF//nxatWqFh4cHf/zxB/v376dv376Ehobi6+tLmzZtWLJkSYHnrVWrFu+9957jvslk4ssvv+TWW2/F29ubqKgofv31V8f5f84UTZkyhcDAQBYuXEjDhg3x9fWlR48eHD/+dzKZl5fHo48+SmBgIEFBQTzzzDMMHTqUfv36Feq1X8zp06cZMmQIlSpVwtvbm549exaY1Tx06BB9+vShUqVK+Pj40KhRI+bNm+d47ODBgx3t76Oiopg8efIlr9WlSxdGjRrFqFGjCAgIoEqVKrzwwgsFvnfZ2dmMGTOGatWq4ePjQ7t27Vi+fLnjvP3r9OuvvxIdHY2Hhwfx8fEXXGv27Nlcd911PPXUU9SvX5969erRr18/PvroI8fzvPTSS2zbts0xGzllyhQAUlJSuP/++wkODsbf35+uXbuybds2x3PbZ7I+++wzIiIi8Pb25o477iA1NbVI3wMRERG5euvjki/4MP58NuB4ahbr45JLLyhxMHSNVIcOHfj888/Zu3cv9erVY9u2bfzxxx+88847AMTFxZGQkEC3bt0cjwkICKBdu3asWbOGO++8kzVr1hAYGEjr1q0dY7p164aLiwvr1q3j1ltvveC62dnZZGdnO+6npaUVOuazuRaixy0sysu9gA1ISMuiyfhFhRq/a0J3vN2L51v27LPP8tZbb1GnTh0qVarE4cOH6dWrF6+++ioeHh5888039OnThz179lCjRo1LPs9LL73EG2+8wZtvvsmkSZMYPHgwhw4donLlyhcdn5mZyVtvvcW3336Li4sLd999N2PGjOG7774D8mcpv/vuOyZPnkzDhg15//33+fnnn7nhhhuK/FqHDRtGbGwsv/76K/7+/jzzzDP06tWLXbt24ebmxsiRI8nJyeH333/Hx8eHXbt24evrC8ALL7zArl27mD9/PlWqVGHfvn2cPXv2stf7+uuvGT58OOvXr2fjxo08+OCD1KhRgwceeACAUaNGsWvXLqZPn07VqlWZNWsWPXr0YPv27URFRTm+Tq+//jpffvklQUFBhISEXHCdsLAwpk2bxo4dO2jcuPEF5wcOHMiOHTtYsGCBIym2l1nefvvteHl5MX/+fAICAvjss8+48cYb2bt3r+N7t2/fPn788Udmz55NWloaw4cP5+GHH3Z8r0RERKRkJaVfOokqyjgpXoYmUs8++yxpaWk0aNAAs9mMxWLh1VdfZfDgwQAkJCQAEBoaWuBxoaGhjnMJCQkXvMl0dXWlcuXKjjH/NHHiRF566aXifjllyoQJE7jpppsc9ytXrkyzZs0c919++WVmzZrFr7/+yqhRoy75PMOGDWPQoEEAvPbaa3zwwQesX7+eHj16XHR8bm4un376KXXr1gXyk4oJEyY4zk+aNImxY8c6EuAPP/zQMTtUFPYEatWqVXTo0AGA7777joiICH7++Wduv/124uPjGTBgAE2aNAGgTp06jsfHx8fTokULR6Jeq1atK14zIiKCd999F5PJRP369dm+fTvvvvsuDzzwAPHx8UyePJn4+HiqVq0KwJgxY1iwYAGTJ0/mtddec3ydPv744wLfk3965JFHWLlyJU2aNKFmzZq0b9+em2++mcGDB+Ph4YGXlxe+vr64uroSFhbmeNwff/zB+vXrSUpKwsPDA4C33nqLn3/+mZ9++slRFpuVlcU333xDtWrVgPzvTe/evXn77bcLPJ+IiIiUjBC/wm1wX9hxUrwMTaR+/PFHvvvuO6ZNm0ajRo3YunUro0ePpmrVqgwdOrTErjt27FieeOIJx/20tDQiIiIK9VgvNzO7JnQv1Nj1cckMm7zhiuOm3NuGtrUvPoPzz2sXl/Nn8ADOnDnD+PHjmTt3LsePHycvL4+zZ89etKTsfE2bNnX8t4+PD/7+/iQlJV1yvLe3tyOJAggPD3eMT01NJTExkbZt2zrOm81mWrVqddE1QoWxe/duXF1dadeuneNYUFAQ9evXZ/fu3QA8+uijjBgxgkWLFtGtWzcGDBjgeF0jRoxgwIABbN68mZtvvpl+/fo5ErJLad++fYF1YTExMbz99ttYLBa2b9+OxWKhXr16BR6TnZ1NUFCQ4767u3uBr+3F+Pj4MHfuXPbv38+yZctYu3YtTz75JO+//z5r1qy55Hq2bdu2cebMmQLXAzh79iz79+933K9Ro4YjibK/DqvVyp49e5RIiYiIlIK2tSsTHuBJQmrWRZeKmICwAM9CvY+U4mdoIvXUU0/x7LPPcueddwLQpEkTDh06xMSJExk6dKjjzVpiYiLh4X+3dkxMTHR0IgsLC7vgjXteXh7JycmXfLPn4eHh+CT+aplMpkKX13WMCi7UD3/HqOBSb4Xu4+NT4P6YMWNYvHgxb731FpGRkXh5eXHbbbeRk5Nz2edxc3MrcN9kMl026bnY+MKu/Sop999/P927d2fu3LksWrSIiRMn8vbbb/PII4/Qs2dPDh06xLx581i8eDE33ngjI0eO5K233irStc6cOYPZbGbTpk2YzQUTY3s5IYCXl1ehm3TUrVuXunXrcv/99/Pcc89Rr149fvjhB+69995LxhAeHl5gXZad2tSLiIg4D7OLiRf7RDNi6uYLztnfJbzYJ7rMbalTXhjabCIzMxMXl4IhmM1mxxvx2rVrExYWxtKlSx3n09LSWLduHTExMUD+p+QpKSls2rTJMea3337DarUWmIUwgv2HH/7+Ybdzth/+VatWMWzYMG699VaaNGlCWFgYBw8eLNUYAgICCA0NZcOGv2fxLBYLmzdf+MujsBo2bEheXh7r1q1zHDt16hR79uwhOjracSwiIoKHHnqImTNn8uSTT/LFF184zgUHBzN06FCmTp3Ke++9x+eff37Za55/LYC1a9cSFRWF2WymRYsWWCwWkpKSiIyMLHArjlmeWrVq4e3tTUZGBpA/s2WxWAqMadmyJQkJCbi6ul4QQ5UqVRzj4uPjCzRsWbt2LS4uLtSvX/+a4xQREZHC6dE4nE/ubomPe8EPYMMCPPnk7pbaR8pAhs5I9enTh1dffZUaNWrQqFEjtmzZwjvvvMN9990H5M9WjB49mldeeYWoqChq167NCy+8QNWqVR1d3Bo2bEiPHj144IEH+PTTT8nNzWXUqFHceeedjjUoRrL/8P9zE7UwJ9tELSoqipkzZ9KnTx9MJhMvvPBCkcvprsUjjzzCxIkTiYyMpEGDBkyaNInTp08XanZm+/bt+Pn5Oe6bTCaaNWtG3759eeCBB/jss8/w8/Pj2WefpVq1avTt2xeA0aNH07NnT+rVq8fp06dZtmwZDRs2BGDcuHG0atWKRo0akZ2dzZw5cxznLiU+Pp4nnniCf//732zevJlJkybx9ttvA1CvXj0GDx7MkCFDePvtt2nRogUnTpxg6dKlNG3alN69exf6azV+/HgyMzPp1asXNWvWJCUlhQ8++IDc3FzH+rdatWoRFxfH1q1bqV69On5+fnTr1o2YmBj69evHG2+8Qb169Th27Bhz587l1ltvdZR9enp6MnToUN566y3S0tJ49NFHueOOO1TWJyIiUsp6NA5nxsbDLP3rBLe3qk7/ltVpW7uyU3wYX5EZmkhNmjSJF154gYcffpikpCSqVq3Kv//9b8aNG+cY8/TTT5ORkcGDDz5ISkoK119/PQsWLMDT8+9Fdd999x2jRo3ixhtvxMXFhQEDBvDBBx8Y8ZIuqkfjcG6KDmN9XDJJ6VmE+Hk63Q+/PYHt0KEDVapU4ZlnnrmqbobF5ZlnniEhIYEhQ4ZgNpt58MEH6d69+wVlcBfTqVOnAvfNZjN5eXlMnjyZxx57jFtuuYWcnBw6derEvHnzHGWGFouFkSNHcuTIEfz9/enRowfvvvsukD+jM3bsWA4ePIiXlxcdO3Zk+vTpl41jyJAhnD17lrZt22I2m3nssccK7Gs2efJkXnnlFZ588kmOHj1KlSpVaN++PbfccstVfa06d+7MRx99xJAhQ0hMTKRSpUq0aNGCRYsWOWaNBgwYwMyZM7nhhhtISUlh8uTJDBs2jHnz5vHcc89x7733cuLECcLCwujUqVOBxi6RkZH079+fXr16kZyczC233MLHH398VTGKiIhI8dh3Ir/apH/L6sTUDbrCaCkNJpvRC1ScQFpaGgEBAaSmpuLv71/gXFZWFnFxcdSuXbtA8ialw2q10rBhQ+644w5efvllo8O5oi5dutC8efMC+22VRePHj+fnn39m69athX6M/l8REREpGVm5FhqOW4DNBhuf70YV36Kt9ZfCuVxucD5DZ6RE/unQoUMsWrSIzp07k52dzYcffkhcXBx33XWX0aGJiIiIGGL/iTPYbFDJ240gH3ejw5FzDG02IfJPLi4uTJkyhTZt2nDdddexfft2lixZcsV1SSIiIiLl1b6kMwBEhfgVuquvlDzNSIlTiYiIYNWqVUaHUWQXayleFo0fP57x48cbHYaIiIgAsYn5iVRkqO8VRkpp0oyUiIiIiIgTi01KByAqRImUM1EiJSIiIiLixGLPK+0T56FESkRERETESWXnWTh0KhOAKJX2ORUlUiIiIiIiTiruZAYWqw0/T1dC/NT23JkokRIRERERcVL2RhNRIb7q2OdklEiJiIiIiDgp+/qoeqFaH+VslEjJJXXp0oXRo0c77teqVYv33nvvso8xmUz8/PPP13zt4noeERERkbJs37mOfZHq2Od0lEiVQ3369KFHjx4XPbdy5UpMJhN//vnnVT/vhg0bePDBB681vALGjx9P8+bNLzh+/PhxevbsWazX+qcpU6YQGBhYotcQERERuRaO0j7NSDkdbchbWiwWWLkSjh+H8HDo2BHM5hK51PDhwxkwYABHjhyhevXqBc5NnjyZ1q1b07Rp06t+3uDg4OIK8YrCwsJK7VoiIiIizijXYiXuZAagPaSckWakSsPMmVCrFtxwA9x1V/6/tWrlHy8Bt9xyC8HBwUyZMqXA8TNnzjBjxgyGDx/OqVOnGDRoENWqVcPb25smTZrw/fffX/Z5/1naFxsbS6dOnfD09CQ6OprFixdf8JhnnnmGevXq4e3tTZ06dXjhhRfIzc0F8meEXnrpJbZt24bJZMJkMjli/mdp3/bt2+natSteXl4EBQXx4IMPcubMGcf5YcOG0a9fP9566y3Cw8MJCgpi5MiRjmsVRXx8PH379sXX1xd/f3/uuOMOEhMTHee3bdvGDTfcgJ+fH/7+/rRq1YqNGzcCcOjQIfr06UOlSpXw8fGhUaNGzJs3r8ixiIiISMVz6FQGeVYbPu5mwgM8jQ5H/kEzUiVt5ky47Taw2QoeP3o0//hPP0H//sV6SVdXV4YMGcKUKVN47rnnHB1eZsyYgcViYdCgQZw5c4ZWrVrxzDPP4O/vz9y5c7nnnnuoW7cubdu2veI1rFYr/fv3JzQ0lHXr1pGamlpgPZWdn58fU6ZMoWrVqmzfvp0HHngAPz8/nn76aQYOHMiOHTtYsGABS5YsASAgIOCC58jIyKB79+7ExMSwYcMGkpKSuP/++xk1alSBZHHZsmWEh4ezbNky9u3bx8CBA2nevDkPPPDAVX8NrVarI4lasWIFeXl5jBw5koEDB7J8+XIABg8eTIsWLfjkk08wm81s3boVNzc3AEaOHElOTg6///47Pj4+7Nq1C19ffZIkIiIihWcv64sM9VPHPiekRKokWSzw2GMXJlGQf8xkgtGjoW/fYi/zu++++3jzzTdZsWIFXbp0AfLL+gYMGEBAQAABAQGMGTPGMf6RRx5h4cKF/Pjjj4VKpJYsWcJff/3FwoULqVq1KgCvvfbaBeuann/+ecd/16pVizFjxjB9+nSefvppvLy88PX1xdXV9bKlfNOmTSMrK4tvvvkGHx8fAD788EP69OnD66+/TmhoKACVKlXiww8/xGw206BBA3r37s3SpUuLlEgtXbqU7du3ExcXR0REBADffPMNjRo1YsOGDbRp04b4+HieeuopGjRoAEBUVJTj8fHx8QwYMIAmTZoAUKdOnauOQURERCo2e8c+lfU5J5X2laSVK+HIkUuft9ng8OH8ccWsQYMGdOjQgf/+978A7Nu3j5UrVzJ8+HAALBYLL7/8Mk2aNKFy5cr4+vqycOFC4uPjC/X8u3fvJiIiwpFEAcTExFww7ocffuC6664jLCwMX19fnn/++UJf4/xrNWvWzJFEAVx33XVYrVb27NnjONaoUSPM5yWk4eHhJCUlXdW1zr9mRESEI4kCiI6OJjAwkN27dwPwxBNPcP/999OtWzf+85//sH//fsfYRx99lFdeeYXrrruOF198sUjNPURERKRiUyLl3JRIlaTjx4t33FUaPnw4//vf/0hPT2fy5MnUrVuXzp07A/Dmm2/y/vvv88wzz7Bs2TK2bt1K9+7dycnJKbbrr1mzhsGDB9OrVy/mzJnDli1beO6554r1Guezl9XZmUwmrFZriVwL8jsO7ty5k969e/Pbb78RHR3NrFmzALj//vs5cOAA99xzD9u3b6d169ZMmjSpxGIRERGR8ic2Mb/1eVSoEilnpESqJIWHF++4q3THHXfg4uLCtGnT+Oabb7jvvvsc9bWrVq2ib9++3H333TRr1ow6deqwd+/eQj93w4YNOXz4MMfPSwLXrl1bYMzq1aupWbMmzz33HK1btyYqKopDhw4VGOPu7o7FYrnitbZt20ZGRobj2KpVq3BxcaF+/fqFjvlq2F/f4cOHHcd27dpFSkoK0dHRjmP16tXj8ccfZ9GiRfTv35/Jkyc7zkVERPDQQw8xc+ZMnnzySb744osSiVVERETKnzyLlQOOjn1qfe6MlEiVpI4doXr1/LVQF2MyQURE/rgS4Ovry8CBAxk7dizHjx9n2LBhjnNRUVEsXryY1atXs3v3bv79738X6Eh3Jd26daNevXoMHTqUbdu2sXLlSp577rkCY6KiooiPj2f69Ons37+fDz74wDFjY1erVi3i4uLYunUrJ0+eJDs7+4JrDR48GE9PT4YOHcqOHTtYtmwZjzzyCPfcc49jfVRRWSwWtm7dWuC2e/duunXrRpMmTRg8eDCbN29m/fr1DBkyhM6dO9O6dWvOnj3LqFGjWL58OYcOHWLVqlVs2LCBhg0bAjB69GgWLlxIXFwcmzdvZtmyZY5zIiIiIlcSn5xJTp4VTzcXqgV6GR2OXIQSqZJkNsP77+f/9z+TKfv9994rsf2kIL+87/Tp03Tv3r3Aeqbnn3+eli1b0r17d7p06UJYWBj9+vUr9PO6uLgwa9Yszp49S9u2bbn//vt59dVXC4z517/+xeOPP86oUaNo3rw5q1ev5oUXXigwZsCAAfTo0YMbbriB4ODgi7Zg9/b2ZuHChSQnJ9OmTRtuu+02brzxRj788MOr+2JcxJkzZ2jRokWBW58+fTCZTPzyyy9UqlSJTp060a1bN+rUqcMPP/wAgNls5tSpUwwZMoR69epxxx130LNnT1566SUgP0EbOXIkDRs2pEePHtSrV4+PP/74muMVERGRisG+PioyxBcXF3Xsc0Ymm+1iLeUqlrS0NAICAkhNTcXf37/AuaysLOLi4qhduzaenkXs3z9zZn73vvMbT0RE5CdRxdz6XMQoxfL/ioiIiADw0bJ9vLlwD7e2qMa7A5sbHU6Fcrnc4Hxqf14a+vfPb3G+cmV+Y4nw8PxyvhKciRIRERGRssveaCJSHfuclhKp0mI2w7n9nERERERELsde2lcvVI0mnJXWSImIiIiIOBGL1cY+7SHl9JRIiYiIiIg4kaOnz5KdZ8Xd1YWIyt5GhyOXoESqkNSTQ+Ty9P+IiIhI8YhNyl8fVTfYF7M69jktJVJXYD7XECInJ8fgSEScW2ZmJgBubm4GRyIiIlK2xaqsr0xQs4krcHV1xdvbmxMnTuDm5oaLi3JPkfPZbDYyMzNJSkoiMDDQ8eGDiIiIFE1sohKpskCJ1BWYTCbCw8OJi4vj0KFDRocj4rQCAwMJCwszOgwREZEyb9+50r6oUCVSzkyJVCG4u7sTFRWl8j6RS3Bzc9NMlIiISDGw2WyO0r7IELU+d2ZKpArJxcUFT09Po8MQERERkXLsWGoWmTkW3MwmagapY58z04IfEREREREnsTcxv6yvdhUf3Mx6q+7M9N0REREREXES+xyNJlTW5+yUSImIiIiIOAn7HlKR6tjn9JRIiYiIiIg4CcceUurY5/SUSImIiIiIOAGbzeYo7asXqtI+Z6dESkRERETECSSmZZOenYfZxUStIB+jw5ErUCIlIiIiIuIE7OujagV54+6qt+nOztDvUK1atTCZTBfcRo4cCUBWVhYjR44kKCgIX19fBgwYQGJiYoHniI+Pp3fv3nh7exMSEsJTTz1FXl6eES9HRERERKTIYtWxr0wxNJHasGEDx48fd9wWL14MwO233w7A448/zuzZs5kxYwYrVqzg2LFj9O/f3/F4i8VC7969ycnJYfXq1Xz99ddMmTKFcePGGfJ6RERERESKSo0myhZDE6ng4GDCwsIctzlz5lC3bl06d+5MamoqX331Fe+88w5du3alVatWTJ48mdWrV7N27VoAFi1axK5du5g6dSrNmzenZ8+evPzyy3z00Ufk5OQY+dJERERERK7KPrU+L1OcpvgyJyeHqVOnct9992Eymdi0aRO5ubl069bNMaZBgwbUqFGDNWvWALBmzRqaNGlCaGioY0z37t1JS0tj586dl7xWdnY2aWlpBW4iIiIiIkax2WzsVWlfmeI0idTPP/9MSkoKw4YNAyAhIQF3d3cCAwMLjAsNDSUhIcEx5vwkyn7efu5SJk6cSEBAgOMWERFRfC9EREREROQqnTyTQ+rZXFxMUCdYHfvKAqdJpL766it69uxJ1apVS/xaY8eOJTU11XE7fPhwiV9TRERERORS7B37alT2xtPNbHA0UhiuRgcAcOjQIZYsWcLMmTMdx8LCwsjJySElJaXArFRiYiJhYWGOMevXry/wXPaufvYxF+Ph4YGHh0cxvgIRERERkaKzd+yLVFlfmeEUM1KTJ08mJCSE3r17O461atUKNzc3li5d6ji2Z88e4uPjiYmJASAmJobt27eTlJTkGLN48WL8/f2Jjo4uvRcgIiIiInIN7DNS6thXdhg+I2W1Wpk8eTJDhw7F1fXvcAICAhg+fDhPPPEElStXxt/fn0ceeYSYmBjat28PwM0330x0dDT33HMPb7zxBgkJCTz//POMHDlSM04iIiIiUmb8vYeUEqmywvBEasmSJcTHx3PfffddcO7dd9/FxcWFAQMGkJ2dTffu3fn4448d581mM3PmzGHEiBHExMTg4+PD0KFDmTBhQmm+BBERERGRa7IvSR37yhqTzWazGR2E0dLS0ggICCA1NRV/f3+jwxERERGRCuTUmWxavbIEkwl2vdQDL3c1mzBSYXMDp1gjJSIiIiJSUdlno6pX8lISVYYokRIRERERMVCsyvrKJCVSIiIiIiIG+nt9lBpNlCVKpEREREREDGRvfR6pRKpMUSIlIiIiImIgR+vzUJX2lSVKpEREREREDJKamUtSejagGamyRomUiIiIiIhB9p3IL+urGuCJr4fhW7zKVVAiJSIiIiJiEHtZX6TK+socJVIiIiIiIgbZm6iOfWWVEikREREREYPYO/YpkSp7lEiJiIiIiBjEsYdUqBKpskaJlIiIiIiIAdKzcjmemgVAZIjWSJU1SqRERERERAxgn40K9fcgwMvN4GjkaimREhERERExQKy9rE+zUWWSEikREREREQPYZ6S0EW/ZpERKRERERMQAsYnnOvap0USZpERKRERERMQAKu0r25RIiYiIiIiUssycPI6cPgtoD6mySomUiIiIiEgp25+UAUAVX3cq+bgbHI0UhRIpEREREZFSFpuUvz5KjSbKLiVSIiIiIiKlTOujyj4lUiIiIiIipUwd+8o+JVIiIiIiIqUsVntIlXlKpERERERESlFWroX45ExApX1lmRIpEREREZFStP/EGWw2CPR2o4qvOvaVVUqkRERERERK0b5zZX31QvwwmUwGRyNFpURKRERERKQUxSaeWx+lRhNlmhIpEREREZFSZN9DKkqNJso0JVIiIiIiIqVIe0iVD0qkRERERERKSXaehUOnznXsU2lfmaZESkRERESklBw8mYnFasPP05UQPw+jw5FroERKRERERKSUnL8+Sh37yjYlUiIiIiIipcTesU/ro8o+JVIiIiIiIqXEvoeU1keVfUqkRERERERKyd7E/NK+SLU+L/OUSImIiIiIlIJci5W4kxkARIWqtK+sUyIlIiIiIlIKDp3KIM9qw8fdTNUAT6PDkWukREpEREREpBTYG01EqmNfuWB4InX06FHuvvtugoKC8PLyokmTJmzcuNFx3mazMW7cOMLDw/Hy8qJbt27ExsYWeI7k5GQGDx6Mv78/gYGBDB8+nDNnzpT2SxERERERuaRYR6MJlfWVB4YmUqdPn+a6667Dzc2N+fPns2vXLt5++20qVarkGPPGG2/wwQcf8Omnn7Ju3Tp8fHzo3r07WVlZjjGDBw9m586dLF68mDlz5vD777/z4IMPGvGSREREREQuypFIqdFEuWCy2Ww2oy7+7LPPsmrVKlauXHnR8zabjapVq/Lkk08yZswYAFJTUwkNDWXKlCnceeed7N69m+joaDZs2EDr1q0BWLBgAb169eLIkSNUrVr1inGkpaUREBBAamoq/v7+xfcCRURERETO6fHe7/yVkM5/h7Wma4NQo8ORSyhsbmDojNSvv/5K69atuf322wkJCaFFixZ88cUXjvNxcXEkJCTQrVs3x7GAgADatWvHmjVrAFizZg2BgYGOJAqgW7duuLi4sG7duoteNzs7m7S0tAI3EREREZGSkmexcsDesU+b8ZYLhiZSBw4c4JNPPiEqKoqFCxcyYsQIHn30Ub7++msAEhISAAgNLZixh4aGOs4lJCQQEhJS4LyrqyuVK1d2jPmniRMnEhAQ4LhFREQU90sTEREREXE4fPosOXlWPN1cqBboZXQ4UgwMTaSsVistW7bktddeo0WLFjz44IM88MADfPrppyV63bFjx5Kamuq4HT58uESvJyIiIiIVW+x5G/G6uKhjX3lgaCIVHh5OdHR0gWMNGzYkPj4egLCwMAASExMLjElMTHScCwsLIykpqcD5vLw8kpOTHWP+ycPDA39//wI3EREREZGS8nejCZX1lReGJlLXXXcde/bsKXBs79691KxZE4DatWsTFhbG0qVLHefT0tJYt24dMTExAMTExJCSksKmTZscY3777TesVivt2rUrhVchIiIiInJ5+5L+3kNKygdXIy/++OOP06FDB1577TXuuOMO1q9fz+eff87nn38OgMlkYvTo0bzyyitERUVRu3ZtXnjhBapWrUq/fv2A/BmsHj16OEoCc3NzGTVqFHfeeWehOvaJiIiIiJS02KT80j61Pi8/DE2k2rRpw6xZsxg7diwTJkygdu3avPfeewwePNgx5umnnyYjI4MHH3yQlJQUrr/+ehYsWICnp6djzHfffceoUaO48cYbcXFxYcCAAXzwwQdGvCQRERERkQKsVptjRkqb8ZYfhu4j5Sy0j5SIiIiIlJT4U5l0enMZ7q4u7HqpO65mQ1fXyBWUiX2kRERERETKO3tZX50qPkqiyhF9J0VERERESlCsyvrKJSVSIiIiIiIlKDYxP5Gqp0YT5YoSKRERERGRErTP3rEvVIlUeaJESkRERESkhNhsNkdpX6Q24y1XlEiJiIiIiJSQY6lZZOZYcDObqBnkbXQ4UoyUSImIiIiIlJDYxPyyvtpVfHBTx75yRd9NEREREZES4tiIV2V95Y4SKRERERGREmLv2Bepjn3ljhIpEREREZESEquOfeWWEikRERERkRJwfsc+lfaVP0qkRERERERKQGJaNulZeZhdTNSqoo595Y0SKRERERGREmAv66sZ5I2Hq9ngaKS4KZESERERESkB9kYTUWo0US4pkRIRERERKQFaH1W+KZESERERESkB+9Sxr1xTIiUiIiIiUsxsNht7EzUjVZ4pkRIRERERKWYnz+SQejYXFxPUCfYxOhwpAUqkRERERESKmb1jX43K3ni6qWNfeaRESkRERESkmO0712giUmV95ZYSKRERERGRYuZofa5GE+WWEikRERERkWJmL+3THlLllxIpEREREZFitk97SJV7SqRERERERIpRckYOJ8/kAFA3RB37yislUiIiIiIixSg2Mb+sr3olL7zdXQ2ORkqKEikRERERkWIU6yjr0/qo8kyJlIiIiIhIMXKsjwrV+qjyTImUiIiIiEgxsnfsi9SMVLmmREpEREREpBg59pBSIlWuKZESERERESkmqZm5JKVnAyrtK++USImIiIiIFJN9J/LL+qoGeOLroY595ZkSKRERERGRYmIv64vUbFS5p0RKRERERKSYqPV5xaFESkRERESkmCiRqjhUuOlELFYb6+OSSUrPIsTPk7a1K2N2MRkdloiIiIgU0r7E/DVSUaFKpMo7JVJOYsGO47w0exfHU7Mcx8IDPHmxTzQ9GocbGJmIiIiIFEZ6Vi7Hzr2XiwzWGqnyTqV9TmDBjuOMmLq5QBIFkJCaxYipm1mw47hBkYmIiIhIYe0/kQFAiJ8HAd5uBkcjJU2JlMEsVhsvzd6F7SLn7Mdemr0Li/ViI0RERETEWexVWV+FYmgiNX78eEwmU4FbgwYNHOezsrIYOXIkQUFB+Pr6MmDAABITEws8R3x8PL1798bb25uQkBCeeuop8vLySvulFNn6uOQLZqLOZwOOp2axPi659IISERERkau2z9FoQmV9FYHha6QaNWrEkiVLHPddXf8O6fHHH2fu3LnMmDGDgIAARo0aRf/+/Vm1ahUAFouF3r17ExYWxurVqzl+/DhDhgzBzc2N1157rdRfS1EkpV86iSrKOBERERExRuy5GalIdeyrEAxPpFxdXQkLC7vgeGpqKl999RXTpk2ja9euAEyePJmGDRuydu1a2rdvz6JFi9i1axdLliwhNDSU5s2b8/LLL/PMM88wfvx43N3dS/vlXLUQP89iHSciIiIixlDr84rF8DVSsbGxVK1alTp16jB48GDi4+MB2LRpE7m5uXTr1s0xtkGDBtSoUYM1a9YAsGbNGpo0aUJoaKhjTPfu3UlLS2Pnzp2XvGZ2djZpaWkFbkZpW7sy4QGeXKrJuYn87n1ta1cuzbBERERE5Cpk5uRx5PRZAKJCVdpXERiaSLVr144pU6awYMECPvnkE+Li4ujYsSPp6ekkJCTg7u5OYGBggceEhoaSkJAAQEJCQoEkyn7efu5SJk6cSEBAgOMWERFRvC/sKphdTLzYJxrgosmUDRh3S7T2kxIRERFxYvuT8jv2VfF1p7KP81dFybUzNJHq2bMnt99+O02bNqV79+7MmzePlJQUfvzxxxK97tixY0lNTXXcDh8+XKLXu5IejcP55O6WhAVcvHzvdGZuKUckIiIiIlcjNknroyoaw9dInS8wMJB69eqxb98+brrpJnJyckhJSSkwK5WYmOhYUxUWFsb69esLPIe9q9/F1l3ZeXh44OHhUfwv4Br0aBzOTdFhrI9LJik9ixA/T7YdOc1/5u9h/OydNIsIoFHVAKPDFBEREZGLiFXHvgrH8DVS5ztz5gz79+8nPDycVq1a4ebmxtKlSx3n9+zZQ3x8PDExMQDExMSwfft2kpKSHGMWL16Mv78/0dHRpR7/tTK7mIipG0Tf5tWIqRvEgx3rcmODEHLyrIyatoX0LM1MiYiIiDij2MRziZT2kKowDE2kxowZw4oVKzh48CCrV6/m1ltvxWw2M2jQIAICAhg+fDhPPPEEy5YtY9OmTdx7773ExMTQvn17AG6++Waio6O555572LZtGwsXLuT5559n5MiRTjfjVBQuLibevqMZ1QK9iDuZwdiZ27HZtDGviIiIiLPZp9K+CsfQROrIkSMMGjSI+vXrc8cddxAUFMTatWsJDg4G4N133+WWW25hwIABdOrUibCwMGbOnOl4vNlsZs6cOZjNZmJiYrj77rsZMmQIEyZMMOolFbtAb3c+GNQCVxcTc/48znfr4o0OSURERETOk5VrIT45E1BpX0VismmKg7S0NAICAkhNTcXf39/ocC7qi98P8Oq83bi7ujBzRAcaV9N6KRERERFnsOtYGr0+WEmgtxtbXrgJk0ndlsuywuYGTrVGSi7t/o616dbQvl5qs9ZLiYiIiDgJe8e+qBBfJVEViBKpMsJkMvHW7fnrpQ6eyuRZrZcSERERcQr2RhORKuurUJRIlSGB3u58eFf+eqm5fx5n6tpDRockIiIiUuGdPyMlFYcSqTKmRY1KPNuzAQAvz9nNjqOpBkckIiIiUrE59pBS6/MKRYlUGTT8+trcFB1KjsXKyGmbSdN6KRERERFDZOdZOHRKHfsqIiVSZZDJZOKt2/LXSx06lcmz//tT66VEREREDHDwZCYWqw0/D1dC/cv+PqZSeEqkyqgAbzc+GtwSN7OJedsT+FbrpURERERKnWN9VKg69lU0SqTKsOYRgTzbsyEAr8zZzfYjWi8lIiIiUprsHftU1lfxKJEq4+67rhY3a72UiIiIiCH2qdFEhVWkROrw4cMcOXLEcX/9+vWMHj2azz//vNgCk8IxmUy8eVszqlfyIj45k2d+0nopERERkdJiL+2LVOvzCqdIidRdd93FsmXLAEhISOCmm25i/fr1PPfcc0yYMKFYA5QrC/B246O78tdLzd+RwNerDxodkoiIiEi5l2uxEncyA4CoUJX2VTRFSqR27NhB27ZtAfjxxx9p3Lgxq1ev5rvvvmPKlCnFGZ8UUrOIQP6vV/56qVfn7ebPIynGBiQiIiJSzh06lUmuxYaPu5mqAZ5GhyOlrEiJVG5uLh4e+e0dlyxZwr/+9S8AGjRowPHjx4svOrkqwzrUokejMHItNkZO20zqWa2XEhERESkp+84r61PHvoqnSIlUo0aN+PTTT1m5ciWLFy+mR48eABw7doygoKBiDVAKz2Qy8fptTYmo7MXh5LM8/dM2rZcSERERKSH2jn2R6thXIRUpkXr99df57LPP6NKlC4MGDaJZs2YA/Prrr46SPzFGgFf+eil3swsLdyYyReulRERERErEXnXsq9Bci/KgLl26cPLkSdLS0qhUqZLj+IMPPoi3t3exBSdF07R6IM/1bsiLv+7ktXm7aVGjEs0jAo0OS0RERKRciU08txmvOvZVSEWakTp79izZ2dmOJOrQoUO899577Nmzh5CQkGINUIpmSExNejbOXy81atpmUjO1XkpERESkuORZrBywd+xTaV+FVKREqm/fvnzzzTcApKSk0K5dO95++2369evHJ598UqwBStHY10vVqOzNkdNneUrrpURERESKzeHTZ8nJs+Lp5kK1Sl5GhyMGKFIitXnzZjp27AjATz/9RGhoKIcOHeKbb77hgw8+KNYApej8Pf9eL7VoVyL/XXXQ6JBEREREygV7WV/dYF/MLurYVxEVKZHKzMzEzy9/CnPRokX0798fFxcX2rdvz6FDh4o1QLk2TaoH8Pwt+ftL/Wf+brYeTjE2IBEREZFyIPZco4l62oi3wipSIhUZGcnPP//M4cOHWbhwITfffDMASUlJ+Pv7F2uAcu3uaV+T3k3C8/eX+m4zKZk5RockIiIiUqbtS7K3PlejiYqqSInUuHHjGDNmDLVq1aJt27bExMQA+bNTLVq0KNYA5dqZTCYmDmhCzSBvjqacZcyMP7VeSkREROQaxCapY19FV6RE6rbbbiM+Pp6NGzeycOFCx/Ebb7yRd999t9iCk+Jz/nqpJbsT+eqPOKNDEpFiYrHaWLP/FL9sPcqa/aewWPVBiYhISbJabY4ZqSiV9lVYRdpHCiAsLIywsDCOHDkCQPXq1bUZr5NrXC2AF/pE88LPO/jP/L9oWbMSLWtUuvIDRcRpLdhxnJdm7+J4apbjWHiAJy/2iaZH43ADIxMRKb+OppwlK9eKu6sLEerYV2EVaUbKarUyYcIEAgICqFmzJjVr1iQwMJCXX34Zq9Va3DFKMbq7XQ16Nw0nz2rjkWlbtF5KpAxbsOM4I6ZuLpBEASSkZjFi6mYW7DhuUGQiIuWbvayvThUfXM1Fejst5UCRvvPPPfccH374If/5z3/YsmULW7Zs4bXXXmPSpEm88MILxR2jFCOTycR/+jehlmO9lPaXEimLLFYbL83excX+77Ufe2n2LpX5iYiUgNhElfVJEROpr7/+mi+//JIRI0bQtGlTmjZtysMPP8wXX3zBlClTijlEKW5+nm58eFdL3F1dWLI7iS9Xar2USFmzPi75gpmo89mA46lZrI9LLr2gREQqCHvrczWaqNiKlEglJyfToEGDC443aNCA5GT90S4LGlcLYNwt0QC8vuAvNh06bXBEInI1ktIvnUQVZZyIiBSefTNeJVIVW5ESqWbNmvHhhx9ecPzDDz+kadOm1xyUlI7B7Wpwi2O91GZOZ2i9lEhZEeLnWahxmTl5JRyJiEjFYrPZ/p6RClUiVZEVqWvfG2+8Qe/evVmyZIljD6k1a9Zw+PBh5s2bV6wBSskxmUxM7N+EncfSiDuZwZMztvHlkNa4uJiMDk1ErqBt7cqEB3hetrwPYOzMHazen8yTN9WjVhWfUopORKT8OpaaRWaOBVcXEzWD9Hu1IivSjFTnzp3Zu3cvt956KykpKaSkpNC/f3927tzJt99+W9wxSgnKXy/VAndXF377K4kv/zhgdEgiUghmFxMv9om+6Dn7RyFtauVvbzB72zG6vbOC/5u1ncQ0lfqJiFwLe1lf7So+uKljX4VmshVjy7Zt27bRsmVLLBZLcT1lqUhLSyMgIIDU1FT8/f2NDscQ09bF83+ztmN2MfHjv9vTqmZlo0MSkULo+f7v7D6eXuDY+ftI7TyWylsL97BszwkAPN1cGNahNiM61yXA282IkEVEyrQvVx7glbm76dUkjI8HtzI6HCkBhc0Nirwhr5Qvg9pGsPbAKX7ddoxR07Yw79GOVPJxNzosEbmM0xk57D3XgvfdO5rh4mIixM+TtrUrYz5XotuoagCT723L+rhk3ljwFxsPnebTFfuZtu4QD3Wpy70dauPlbjbyZYiIlCmO1uchan1e0Wk+UoD89VKv9W9CnSo+HE/N4okft2LV/jMiTm3xrkQsVhsNw/25tWV1+javRkzdIEcSdb62tSsz46EYvhramgZhfqRl5fHGgj10enMZ3649RK5Fm6mLiBSGfTNeNZoQJVLi4OvhykeDW+Lh6sKyPSf4fKXWS4k4s3k7jgPQu0lYocabTCZubBjK3Ec78t7A5kRU9uJEejYv/LyDbu+s4JetR/UBiojIZRTo2KcZqQrvqkr7+vfvf9nzKSkp1xKLOIGG4f6M/1cjxs7czpsL99C6ZiVa19J6KRFnk5qZy6p9JwHo2ST8qh5rdjHRr0U1ejUJZ/qGeD5Yuo9DpzJ5bPpWPl1xgKe716dL/WBMJnXwFBE5X1J6NulZeZhdTNSq4m10OGKwq5qRCggIuOytZs2aDBkypKRilVJyZ5sI+javisVqY9S0LSRrfykRp7N4dyK5FhsNwvyoG1y08hJ3VxeGxNRixVNdGHNzPfw8XNl9PI17p2xg4Gdr2XhQG6yLiJzPvj6qZpA3Hq5aX1rRXdWM1OTJk0sqDnEiJpOJ125twvajqRw4kcETP27lv0PbaH8pEScyb3t+WV/Pxlc3G3UxPh6ujOoaxeB2Nfl0xX6mrD7I+oPJ3PbpGro1DGFM9/o0CKuYHU1FRM7nWB8VovVRojVScgk+Hq58dFf+eqnle07w2e9aLyXiLNKyclkZm9/OvHfTwq2PKoxKPu6M7dWQ5U91YVDbCMwuJpbsTqLn+yt5/IetxJ/KLLZriYiURVofJedzmkTqP//5DyaTidGjRzuOZWVlMXLkSIKCgvD19WXAgAEkJiYWeFx8fDy9e/fG29ubkJAQnnrqKfLy8ko5+vKpYbg/E/o2AuCtRXvYoDIfEaewZFd+WV9UiC+RJfDHPDzAi4n9m7L48U70bhqOzQazthzlxneW8+IvOziRnl3s1xQRKQv22Vufq2Of4CSJ1IYNG/jss89o2rRpgeOPP/44s2fPZsaMGaxYsYJjx44VaHhhsVjo3bs3OTk5rF69mq+//popU6Ywbty40n4J5dYdrSO4tUU1LFYbj0zbwqkzegMlYrR52xMA6HWVTSauVp1gXz66qyWzR11Px6gq5FpsfL3mEJ3eWMZbC/eQlpVbotcXEXEmNpuNvedK+yJV2ic4QSJ15swZBg8ezBdffEGlSpUcx1NTU/nqq69455136Nq1K61atWLy5MmsXr2atWvXArBo0SJ27drF1KlTad68OT179uTll1/mo48+Iifn0g0SsrOzSUtLK3CTizOZTLzSrzF1g31ISMvi8R+3qT2yiIHSs3L5/VxZX0knUnZNqgfw7fB2THugHc0jAjmba+HDZfvo9MYyPv99P1m5llKJQ0TESCfP5JCSmYvJRJGb/Ej5YngiNXLkSHr37k23bt0KHN+0aRO5ubkFjjdo0IAaNWqwZs0aANasWUOTJk0IDQ11jOnevTtpaWns3LnzktecOHFigW6DERERxfyqyhcfD1c+HtwKTzcXft97gk9W7Dc6JJEK67e/ksjJs1I32Id6pVxa0qFuFWY93IHP7mlFZIgvKZm5vDbvL7q8uZzv18eTp019RaQcszeaqFHZG083dewTgxOp6dOns3nzZiZOnHjBuYSEBNzd3QkMDCxwPDQ0lISEBMeY85Mo+3n7uUsZO3Ysqampjtvhw4ev8ZWUf/XD/Jjwr8YAvL1oD+vjtF5KxAhz/8zv1terSbgh+zyZTCa6Nwpj4ehOvHlbU6oFepGQlsXYmdu5+d3fmfvncc1ai0i5tM/RaEKzUZLPsETq8OHDPPbYY3z33Xd4enqW6rU9PDzw9/cvcJMru711dfq3rIbVBo98v5mTWi8lUqrOZOexfG9+WV9xtD2/FmYXE7e3juC3MZ0Zd0s0lX3cOXAyg5HTNvOvj/7g970nsNmUUIlI+WHfQ6okmvxI2WRYIrVp0yaSkpJo2bIlrq6uuLq6smLFCj744ANcXV0JDQ0lJyeHlJSUAo9LTEwkLCy/3W9YWNgFXfzs9+1jpPjY10tFhviSmJbN4z9s1SfPIqXIXtZXu4oPDcOd4w+5h6uZ+66vze9P38Dj3erh425mx9E0hvx3PXd9sY4t8aeNDlFEpFjYS/tKu6xanJdhidSNN97I9u3b2bp1q+PWunVrBg8e7PhvNzc3li5d6njMnj17iI+PJyYmBoCYmBi2b99OUlKSY8zixYvx9/cnOjq61F9TReDtnr+/lKebCytjT/Lx8n1GhyRSYcx3bMIbZkhZ3+X4erjyWLcofn/6BoZfXxt3swtrDpzi1o9X8+A3G4lNTDc6RBGRa7JPe0jJP7gadWE/Pz8aN25c4JiPjw9BQUGO48OHD+eJJ56gcuXK+Pv788gjjxATE0P79u0BuPnmm4mOjuaee+7hjTfeICEhgeeff56RI0fi4eFR6q+poqgf5sfLfRvz1E9/8s7ivbSuVZn2dYKMDkukXMvMyWPZnvwPjUqrW19RBPl68MIt0dx3fW3eW7yX/20+wqJdiSzZnUj/ltUZ3S2K6pW8jQ5TROSqJGfkcPJMfkfouiE+BkcjzsLwrn2X8+6773LLLbcwYMAAOnXqRFhYGDNnznScN5vNzJkzB7PZTExMDHfffTdDhgxhwoQJBkZdMdzeOoIBLatjtcGj32/ReimRErbsrxNk5VqpUdmbRlWdf11ntUAv3ry9GYse70SPRmFYbfDTpiN0fWsFE2bv0p50IlKm2GejqlfywtvdsHkIcTImm1YDk5aWRkBAAKmpqWo8cRUyc/Lo++EqYpPO0DGqClPubYvZxbnKjUTKi5HfbWbu9uM81Lkuz/ZsYHQ4V23r4RRen/8Xaw6cAsDH3cz9Hetwf8fa+Hm6GRydiMjlfbfuEM/N2sEN9YOZfG9bo8ORElbY3MCpZ6TEuXm7u/Lx4JZ4uZnz10st03opkZJwNsfCb3/Zy/rKZiOd5hGBTHugHd8Ob0uTagFk5Fh4f2ksnd9czld/xGlTXxFxavaOfVGhWh8lf1MiJdckKtSPl/vlr2l7d8leVu8/aXBEIuXPir1JnM21UL2SF02qBRgdTpGZTCY6RgXz66jr+HhwS+pU8SE5I4eX5+yi61vL+XHj4QKb+lqsNtbsP8UvW4+yZv8pLOoSKiIGsZf2RWoPKTmPijzlmt3WqjrrDpxixqYjPDZ9K/Me7Uiwn5p9iBSXudvzNxg3ahPe4mYymejVJJybo0P53+YjvLs4lmOpWTz90598/vsBxtxcH5vNxoQ5uziemuV4XHiAJy/2iaaHwXtoiUjFY299rs145XyakZJiMaFvY+qF+nIiPX9/KX1yLFI8snIt/LY7f388Z+7WVxSuZhcGtqnB8qe68FyvhgR6u7Ev6QwPTd3EiO82F0iiABJSsxgxdTMLdhw3KGIRqYhSz+aSmJbfIEczUnI+JVJSLLzczXx0V/56qT/2neTD37ReSqQ4rNh7gowcC9UCvWhWveyW9V2Op5uZBzrV4fenb2DkDXW51Jyb/eOZl2bv0oc1IlJq9p2bjQoP8FRzHClAiZQUm6hQP145t17qvaV7Wb1P66VErpUzb8Jb3Pw93bg+MpjLpUg24HhqFuvjkksrLBGp4OyNJjQbJf+kREqK1YBW1bmjdXVsNnh0+laS0rOu/CARuaisXAtLdud36+tZzsr6LqWwvzP0u0VESkvsuUYTUSHq2CcFKZGSYvfSvxpTP9SPk2eyGT19Kzl5VnXeEimCP2JPciY7j/AAT1pEBBodTqkI8fMs1nEiItfKkUiFakZKClLXPil2Xu5mPhrckn99+Aer95+i5cuLOZOd5zivzlsihTPvXFlfj8ZhuFSQza7b1q5MeIAnCalZFy3xMwFhAZ60rV25tEMTkQpqX2L+Gql6SqTkHzQjJSUiMsSXgW2qAxRIokCdt0QKIzvPwuJz3fp6V5CyPgCzi4kX+0QDXLLpxIt9ojFXkMRSRIyVnpXLsXMdRCODVdonBSmRkhJhsdpYsCPxoufUeUvkylbtO0l6Vh6h/h60rFHJ6HBKVY/G4Xxyd0vCAi4s33v7jmaazRaRUrP/RAYAIX4eBHirY58UpNI+KRHr45Iv2APmfOd33oqpG1R6gYmUEfPObcLbs3F4hSnrO1+PxuHcFB3G+rhkktKyeGPhXxxNySIzx2J0aCJSgcSeK+vT+ii5GM1ISYlQ5y2RosvJs7Jopz2RCjM4GuOYXUzE1A2ib4tq3HtdbQB+2HDY4KhEpCLZp459chlKpKREqPOWSNGt3n+StKw8qvh60LqWmioA9G9ZHTezie1HU9l5LNXocESkgrB37NMeUnIxSqSkRNg7b12uIKmKr7s6b4lcxLzzNuFVU4V8lX3cuTk6f3buR81KiUgpiU06V9qnREouQomUlIjCdN5KO5vH8j1JpReUSBmQa7GyaFd+o5aeTSpuWd/F3NEmAoBZW46Slau1UiJSsjJz8jhy+iwAUaEq7ZMLKZGSEnOpzlth/p5Eh/uTY7HywDcbmbr2kEERijifNftPkZKZS5CPO+1qqxHL+a6PrEK1QC/SsvJYeG4NmYhISdmflIHNBkE+7lT2cTc6HHFC6tonJapA5630LEL88jfStNpsPD9rBz9sPMzzP+/gaMpZnrq5foXsTiZyvvnn9lfrrrK+C5hdTNzWqjrvL43lhw2H6du8mtEhiUg5Zi/r0/oouRTNSEmJc3Teal6NmLpBmF1MuJld+M+AJjxxUz0APlm+n8d/3Ep2nsp1pOLKs1hZuLPibcJ7NW5vXR2TCVbvP8WhUxlGhyMi5Zi90YRan8ulKJESw5hMJh69MYq3bm+Gq4uJX7YeY+h/15N6Ntfo0EQMsS4umeSMHCr7uNNOjVguqnolb66PrALAjI1HDI5GRMqz2ES1PpfLUyIlhrutVXUm39sGXw9X1h5I5vZPV3M05azRYYmUurnnuvV1bxSKq1m/ni/lzjY1AJix6TB5FqvB0YhIebVPHfvkCvSXWpxCx6hgfvx3DKH+HuxNPEP/j1dprxipUCxWGwt32DfhVVnf5XSLDqGStxuJadn8HnvC6HBEpBzKyrUQn5wJQKRK++QSlEiJ04iu6s+sh6+jXqgviWnZDPxsLSv1JkkqiHVxpziVkUOgtxsxddWt73I8XM3c2qI6ANPXa08pESl+B05kYLVBoLcbwb4eRocjTkqJlDiVqoFezHioAzF1gjiTnce9kzcwY6PeKEn5N397/mzUzdGhuKms74oGnttT6re/kkhKzzI4GhEpb87fiNdkUgdVuTj9tRanE+DlxpT72tCveVXyrDae+ulP3l8Si81mMzo0kRJhsdpYcG5fpF7q1lco9cP8aB4RSJ7VxszNR40OR0TKmX3nOvZFqtGEXIYSKXFKHq5m3h3YnIe71AXg3SV7eeZ/f5KrheVSDm08mMyJ9Gz8PV3pULeK0eGUGXeem5X6ccNhfdAiIsXq7459Wh8ll6ZESpyWyWTi6R4NePXWxriY4MeNRxj+9UbOZOcZHZpIsZp/rsnEzY3CcHfVr+XCuqVZVbzdzRw4mcGGg6eNDkdEyhFHaZ8aTchl6C+2OL3B7WryxZDWeLmZ+X3vCQZ+toakNK2JkPLBarUxf0d+2/NeTcIMjqZs8fVw5Zam+aWQP2zQWkoRKR45eVYOnsrv2Kc9pORylEhJmXBjw1CmP9ieKr7u7DyWxq0fryY2Md3osESu2eb40ySmZePn6cp1kSrrK8BigeXL4fvv8/+1WC4YYm86MW/7cdKytJm3kSxWG2v2n+KXrUdZs/8UFqvKLaVsOngqA4vVhp+HK6H+6tgnl6ZESsqMZhGBzBxxHXWq+HA05SwDPlnN2gOnjA5L5JrYN+G9qWEoHq5mg6NxIjNnQq1acMMNcNdd+f/WqpV//Dwta1QiMsSXs7kWZm87ZkioAgt2HOf6139j0BdreWz6VgZ9sZbrX/+NBedmW0XKkr3nPqiNDFXHPrk8JVJSptQI8uZ/IzrQqmYl0rLyGPLVen7Vmycpo6xWGwt2qFvfBWbOhNtugyNHCh4/ejT/+HnJlMlkYmDrv5tOSOlbsOM4I6Zu5nhqwZLrhNQsRkzdrGRKyhw1mpDCUiIlZU4lH3e+u78dPRuHkWOx8uj3W/hsxX517ZIyZ8vhFI6nZuHr4cr1USrrA/LL9x57DC72/7P92OjRBcr8bm1ZDTeziW1HUtl9PK104hQgv5zvpdm7uNhvX/uxl2bvUpmflCn21udaHyVXokRKyiRPNzMf3dWS4dfXBmDi/L8Y98tO/bGWMmX+ubK+GxuG4Ommsj4AVq68cCbqfDYbHD6cP+6cKr4edGsYCqjpRGlbH5d8wUzU+WzA8dQs1scll15QItfI3rEvUh375AqUSEmZ5eJi4oVbonnhlmhMJvh27SEemrqJszkXLkgXcTY2m83R9lxlfec5XsgysH+MszedmLXlKFm5+h1QWpLSC9dBtbDjRIyWa7ESdzIDUGmfXJkSKSnzhl9fm4/vaom7qwuLdyUy6Iu1nDqTbXRYIpe17UgqR1PO4uNupnO9YKPDcR7hhUwq/zGuY1QwVQM8ST2by6JdiSUQmFxMiJ9nsY4TMdqhU5nkWmx4u5upGuBldDji5JRISbnQs0k40+5vR6C3G1sPp9D/k9WOT5REnNG8c2V9XRuGqqzvfB07QvXqcKlOWSYTRETkjzuP2cXEbeeaTvywIb6ko5Rz2tauTHiAJ5fraxYe4Enb2pVLLSaRa7HPvhFviC8uLurYJ5enRErKjda1KvO/ER2IqOzFoVOZDPhkNZvjTxsdlsgFbDabI5Hq1Vib8BZgNsP77+f/9z+TKfv9997LH/cPt7eqjskEq/ad4nByZsnGKUB+Avtin+iLNpuwu6d9Tcx6QyplhL1jX6QaTUghKJGScqVusC8zR1xH0+oBJGfkMOjztSzcmWB0WCIFbD+aypHTZ/FyM9OlfojR4Tif/v3hp5+gWrWCx6tXzz/ev/9FHxZR2Zvrz21q/ONGNZ0oLd0bhVEt8MISKE+3/LcY09bHk3pWmyVL2RBr79inRhNSCIYmUp988glNmzbF398ff39/YmJimD9/vuN8VlYWI0eOJCgoCF9fXwYMGEBiYsHa9/j4eHr37o23tzchISE89dRT5OXllfZLEScS7OfB9Afbc2ODELLzrDw0dRNTVsUZHZaIw7zt+cl91wYheLmrrO+i+veHgwdh2TKYNi3/37i4SyZRdnecK++bsfGIuniWkt/+SuJoylm83Vz44p5WvH9nc75/oD1rx95IjcreHDl9lmf/96e2qJAywZFIqdGEFIKhiVT16tX5z3/+w6ZNm9i4cSNdu3alb9++7Ny5E4DHH3+c2bNnM2PGDFasWMGxY8fof94fUYvFQu/evcnJyWH16tV8/fXXTJkyhXHjxhn1ksRJeLu78tk9rRjcrgY2G4yfvYtX5+7CqjdWYrACZX3q1nd5ZjN06QKDBuX/e5Fyvn+6uVEogd5uJKRl8fveEyUeYkVns9mY9Ns+AO7pUIubGoXRt3k1YuoGEejtzod3tcDNbGL+jgS+W6e1a+LcLFYb+09oDykpPEMTqT59+tCrVy+ioqKoV68er776Kr6+vqxdu5bU1FS++uor3nnnHbp27UqrVq2YPHkyq1evZu3atQAsWrSIXbt2MXXqVJo3b07Pnj15+eWX+eijj8jJyTHypYkTcDW78Eq/xjzdoz4AX6yM45HpW9QaWQy181ga8cmZeLq5cEMDdesrbh6uZm5tkV8SqD2lSt7q/afYejgFD1cX7r++zgXnm1YP5JkeDQCYMGeXNkwWp3Y4OZOcPCuebi5Uq6SOfXJlTrNGymKxMH36dDIyMoiJiWHTpk3k5ubSrVs3x5gGDRpQo0YN1qxZA8CaNWto0qQJoaGhjjHdu3cnLS3NMat1MdnZ2aSlpRW4SflkMpl4uEsk7w1sjpvZxNw/jzPkq/WkZCrRFmPYZ6NuqB+Ct7urwdGUT/Y9pZbsTuREurZCKEmTfosFYFDbGgT7eVx0zPDra9O1QQg5eVZGTdtMZo7K78U52cv66gb7qkGKFIrhidT27dvx9fXFw8ODhx56iFmzZhEdHU1CQgLu7u4EBgYWGB8aGkpCQv76goSEhAJJlP28/dylTJw4kYCAAMctIiKieF+UOJ1+Larx9X1t8fN0Zf3BZAZ8slpdvaTUnV/W11NlfSWmQZg/zSICybPamLXliNHhlFsbDiaz9kAybmYTD3a6cDbKzmQy8eZtTQn192D/iQzG/3rpDzpFjLQ38e/W5yKFYXgiVb9+fbZu3cq6desYMWIEQ4cOZdeuXSV6zbFjx5Kamuq4HT6s8o+KoEPdKvz0UAeqBniy/0QG/T9ZzY6jqUaHJRXI7uPpHDyViYerC10bqFtfSbrz3KzU9A2H1eSghHx4bm3Uba2qU/UiXfvOF+TrwXsDW+Bigh83HuGXrUdLI0SRq7LP0bFP66OkcAxPpNzd3YmMjKRVq1ZMnDiRZs2a8f777xMWFkZOTg4pKSkFxicmJhIWlr/vSlhY2AVd/Oz37WMuxsPDw9Ep0H6TiqF+mB8zH76OBmF+nEjP5o7P1rBsT5LRYUkFMX9H/mxU53rB+HqorK8k3dI0HC83MwdOZLDpkPaTK25/Hklhxd4TmF1MjOgcWajHxNQN4pGuUQD838ztHNSm6eJkYs9txhupGSkpJMMTqX+yWq1kZ2fTqlUr3NzcWLp0qePcnj17iI+PJyYmBoCYmBi2b99OUtLfb4QXL16Mv78/0dHRpR67lA1hAZ7MeCiGjlFVyMyxcP/XG5m+Xt2kpGTZbDbmnivr691UZX0lzc/TjVvOfZ2nq+lEsftoWf5sVN9mVakR5F3oxz3SNZK2tSuTkWNh1Pebyc5T8x9xDlar7e8ZKSVSUkiGJlJjx47l999/5+DBg2zfvp2xY8eyfPlyBg8eTEBAAMOHD+eJJ55g2bJlbNq0iXvvvZeYmBjat28PwM0330x0dDT33HMP27ZtY+HChTz//POMHDkSD4+LL3oVgfw3Wf8d1oYBLatjsdp4duZ23l60RyVAUmL2Jp7hwIkM3FXWV2rsTSfm/nmc9CxtCFtc9iSks3BnIiYTPHxD3at6rKvZhffvbE4lbzd2HE3j9fl7SihKkatzNOUsWblW3M0u1Khc+A8HpGIzNJFKSkpiyJAh1K9fnxtvvJENGzawcOFCbrrpJgDeffddbrnlFgYMGECnTp0ICwtj5syZjsebzWbmzJmD2WwmJiaGu+++myFDhjBhwgSjXpKUIW5mF966vSmP3phfajLpt308OWMbOXlWgyOT8sjeZKJTVDB+nm4GR1MxtKpZiTrBPpzNtTDnz+NGh1Nu2GejejYOI7IIe+2EB3jx1u3NAPjvqjiW7Eq8wiNESp69rK9OsA+uZqcr2BInZbLpI3jS0tIICAggNTVV66UqqB82xPN/s3Zgsdq4PrIKH9/dEn+92ZVidNM7K4hNOsM7dzSjf8vqRodTYXz++35em/cXzSIC+WXkdUaHU+YdOHGGbu+swGqDuY9eT6OqAUV+rpfn7OKrP+II9HZj/mMdCQ/Qvj1inM9W7Gfi/L/o06wqkwa1MDocMVhhcwOl3CLAwDY1+Gpoa3zczfyx7yR3fLqGhNQso8OSciI2MZ3YpDO4mU3c2DD0yg+QYtO/ZXVcXUxsO5zCXwnaM/BafbJ8P1Yb3Ngg5JqSKICne9SnSbUAUjJzeez7reRZVA0gxonV+igpAiVSIud0qR/CD/+OIdjPg78S0rn141V64yXFYt72/H3tOkYFE+Clmc7SVMXXg27nktcf1HTimhw5ncmsLflty0d2LVynvsvxcDUzaVALfD3y9/f74Fw7dREjKJGSolAiJXKextUCmPVwByJDfDmemsXtn6xh9b6TRoclZZy97XnPxpfelkFKjr3pxKwtR9Ul7hp8tuIAeVYb10UG0bJGpWJ5zlpVfHj11sYATPotltX79ftWSp/NZmOffTPeUCVSUnhKpET+oXolb/73UAfa1q5MenYeQyevZ9aWI0aHJWXU/hNn+CshHVcXEzdHK5EyQqd6wYT5e5KSmcuinWpsUBSJaVn8sDF/Rm/UDVHF+tx9m1djYOsIbDYYPX0rp85kF+vzi1zJ8dQsMnIsuLqYqBnkY3Q4UoYokRK5iABvN74d3pY+zaqSa7Hx+A/b+GjZPrVHl6s2/1y3vusiqxDgrbI+I5hdTNzeOr/Bx48bVd5XFF/8foCcPCuta1aifZ3Kxf78L/4rmsgQX5LSs3lyxjasVv2uldJjL+urXcUHN3Xsk6ugnxaRS/BwNfP+wOb8u3MdAN5cuIf/m7VDC6Llqsw9tz6qdxNtwmukO1rnl/etjD3J4eRMg6MpW5IzcvhuXf6m5aO6RmIymYr9Gt7urnx4Vws8XF1YvucEX/0RV+zXELmUWJX1SREpkRK5DBcXE2N7NmRC30a4mOD79fE8+O0mMrLzsFhtrNl/il+2HmXN/lNY9Amq/EPcyQx2H0/D7GLipmh16zNSRGVvrosMAmDGJpXqXo3//hHH2VwLTaoF0LlecIldp0GYP+P6RAPw+oK/2HY4pcSuJXK+2MT8Gami7IsmFZur0QGIlAVDYmoR5u/Jo9O38NtfSfR8fyVZuRaS0v+u5Q8P8OTFPtH0aKyZB8ln34S3Q90gKvm4GxyNDGxTg1X7TjFj42EeuzEKs0vxz6yUN6lnc/l69UGg5GajzndX2xqs2neSedsTGPX9ZuY+2lF7+kmJs2/Gq459crU0IyVSSDc3CuP7B9rj6+FKfHJmgSQKICE1ixFTN7PgXIc2EXu3vl4q63MKN0eHEuDlxvHULFbGnjA6nDLhm9UHSc/Oo16oLzeVwh5oJpOJif2bUr2SF4eTzzJ25natTZUSZbPZ/m59rtI+uUpKpESuQtPqgXi5mS96zv6n/qXZu1TmJ8SfymTH0fyyvu6N1K3PGXi6mbm1RTVAe0oVRkZ2Hl+tyl+rNPKGSFxKaQYvwMuNSYNa4OpiYu6fx5mu75WUoKT0bNKz8nAx5TebELkaSqRErsL6uGROXKY1r438Nqrr45JLLyhxSvPOzUa1r1OZyirrcxr2PaWW7E7kpNpsX9Z36w6RkplL7So+3NK0aqleu0WNSjzVvT4A43/dyd5zzQBEipt9fVStIB88XC/+QanIpSiRErkKSelZxTpOyi/7+iiV9TmXhuH+NKseQK7FxqzNR40Ox2ll5Vr4/Pf82agRXeoasp7sgY516FQvmOw8K6OmbeZsjjZTluJnXx8VqfVRUgRKpESuQoifZ7GOk/LpcHImfx5JxcWEyvqc0B3nZqV+2HhY628u4ceNhzl5JptqgV6OcsjS5uJi4p07mhHs58HexDNMmLPTkDikfLOvj6oXqo59cvWUSIlchba1KxMe4MnlPpsN8nWnbe3i37BSyg57k4l2tYOo4uthcDTyT/9qVhUvNzP7ks6wOf600eE4nZw8K58u3w/AQ53rGLpBaRVfD94b2ByTCb5ff5jZ244ZFouUT/sS1WhCik6JlMhVMLuYePHcPieXSqYysvLYeSy19IISpzPv3Ca8vZpoNsoZ+Xm6OUou1XTiQrO2HOFYahbBfh7cfm4jYyNdF1mFUTdEAvB/M7cTf0obKkvxsNls7FVpn1wDJVIiV6lH43A+ubslYQEFy/fC/D2JCvElK8/KPV+tVzJVQR1NOcvWwymYTNC9sRIpZ3Vn2/wEYc6fxzmTnWdwNM4jz2Ll43OzUf/uVAfPS3QpLW2P3RhF65qVSM/O45HvN5OTZzU6JCkHTmXkkJKZi8kEdYOVSMnVUyIlUgQ9GofzxzNd+f6B9rx/Z3O+f6A9q57tys8jr6NVzUqkns3lnq/WsydBnaYqmvnnmky0qVVZa+WcWOualagT7ENmjoU5KhdzmPPncQ6dyqSStxt3tathdDgOrmYX3h/UggAvN7YdSeXNhX8ZHZKUA/aOfTUqezvNhwZStiiREikis4uJmLpB9G1ejZi6QZhdTPh4uDL53jY0qx5AckYOg79cx/4TZ4wOVUrR/B35ZX291a3PqZlMJga2/rvphIDVauOjZfsAuL9jHbzdXQ2OqKBqgV68eVtTAL5YGceyv5IMjkjKun3nyvqiVNYnRaRESqSY+Xu68c197WhU1Z+TZ7K564u1HDyZYXRYUgqOp55l06H85gU9VNbn9Pq3rI6ri4kt8SnapwhYtCuB2KQz+Hm6ck9MTaPDuaibG4UxrEMtAJ6csY2EVG01IUVn79gXGaKOfVI0SqRESkCAtxvfDm9HgzA/EtPyk6nDyVogXd4tODcb1bpmJUL9Vdbn7IL9PLixYQigphM2m41Jv+XPRg3rUAt/TzeDI7q0sb0a0KiqP8kZOYz+YQsWq1rYS9HYP0ApMzNSFgssXw7ff5//r0V7qxlNiZRICans487U+9tRN9iHY6lZDPpiLcdSzhodlpQgbcJb9gw8t6fUzM1HyM6ruG9Klu85wc5jaXi7m7n3utpGh3NZHq5mJg1qgbe7mbUHkvnwXAIocrX2JZWh1uczZ0KtWnDDDXDXXfn/1qqVf1wMo0RKpARV8fVg2gPtqRXkzZHTZ7nri7UkpqkUpTxKTMti47myvp5qe15mdIoKJszfk9OZuSzZVTHX3OTPRsUCcHf7mlT2cTc4oiurE+zLq7c2BuD9pXtZd+CUwRFJWZOckcPJMzlAGejYN3Mm3HYbHDlS8PjRo/nHlUwZRomUSAkL9fdk2gPtiajsxcFTmdz1xVpOpGcbHZYUswU7ErDZoGWNQMIDvIwORwrJ1ezCba2qAzB9Q7zB0RhjzYFTbI5Pwd3Vhfs7Ovds1PlubVGdAS2rY7XBY9O3cjojx+iQpAyxz0ZVC/TCx8O5GqsUYLHAY4+B7SIlrPZjo0erzM8gSqRESkHVQC+m3d+eqgGe7D+Rwd1friPZWf/oqwa7SFTWV3bdca573x/7TnLkdMVby2gvjbuzTUSZa9k/oW8j6gT7kJCWxZgZ27Bd7M2myEXE2jv2OXtZ38qVF85Enc9mg8OH88dJqVMiJVJKIip7M+2B9oT6e7AnMZ27v1xHamau0WEVpBrsIklKz2L9wWQAeiqRKnNqBHnToW4QNhvM2HiZNyzl0KZDyazefwpXFxP/7lzX6HCumo+HK5MGtcDd1YWlfyUxedVBo0OSMsK+h5TTN5o4frx4x0mxUiIlUopqVfHhu/vbU8XXg13H0xjy33WkZTlJMqUa7CJbuDMRmw2aRQRSLVBlfWWRvenET5uOVKgucPbZqAEtq5fZn91GVQN4vndDACbO3832I6kGRyRlwd+NJpy89Xl4IT+cK+w4KVZKpERKWWSIL9/d345K3m5sO5LKvZM3cCY7z9igVIN9Teb9mf9JYG81mSizujcKI8DLjaMpZ/lj30mjwykVO46msmzPCVxMMKJL2ZuNOt897WvSvVEouRYbo77fTLqzfEAlTiu2rGzG27EjVK8OJtPFz5tMEBGRP05KnRIpEQPUD/Nj6v3tCPByY9Oh0wyfsoGzOQYmKarBLrKTZ7JZF5ffMaxnY30iWFZ5upnp17wqAD9WkD2lPlqWPxv1r2ZVqVXFx+Boro3JZOKNAc2oFujFoVOZPP/zDq2XkktKPZtLYlp+06dIZ0+kzGZ4//38//5nMmW//957+eOk1CmREjFIo6oBfDu8LX4erqyLS+aBbzaSlWtQMqUa7CJbuDMBqw2aVg8gorK30eHINRjYpgYAi3YlcOpM+e6suTcxnfnnNpAeeUOkwdEUjwBvNz4Y1Byzi4lfth5jxqaKtd5NCs9e1hce4ImfE28+7dC/P/z0E1SrVvB49er5x/v3NyYuUSIlYqSm1QOZcl9bfNzN/LHvJA9N3WTMpqCqwS6y+dvz34xqNqrsi67qT5NqAeRabMzactTocErUx+dmo3o0CnP+NSJXoVXNyjxxUz0AXvxlJ/vOlW+JnM/+c+H0s1Hn698fDh6EZctg2rT8f+PilEQZTImUiMFa1azEf4e1wcvNzPI9Jxg1bQu5FmvpBqEa7CJJzshhzbmNQHtpfVS5YG868cOGw+W2NOzgyQx+3XYMgFFdy8ds1PlGdK7L9ZFVOJtrYdS0LcbN9IvT+rtjXxn7EMFshi5dYNCg/H9Vzmc4JVIiTqBdnSC+HNoaD1cXFu9K5LHpW8grzWRKNdhFsmhnAharjUZV/akZVLbXmEi+fzWviqebC7FJZ9hyOMXocErEJ8v3Y7XBDfWDaVwtwOhwip2Li4l3Bjajiq87fyWk8/KcXUaHJE4m1tGxrwzNSIlTUiIl4iSui6zCZ/e0wt3swrztCTw5Y1vptmFWDfZVm6tNeMsdf083x/fzh/Xlr+nE0ZSzzNySv3ZoVNcog6MpOSF+nrw7sDkA362Ld2yYLQIQm1hGOvaJ01MiJeJEutQP4ePBLXE9t1j6mf/9ibW0kynVYBfK6YwcVu+3l/UpkSpPBrbOL++b/ecx47cmKGafr9hPrsVGh7pBtKpZyehwSlTHqGBHW/dn/vcnh5MzDY5InEF6Vi7HUrOAMrZGSpySEikRJ9MtOpRJg1pgdjHx06YjPP9LKbfxVQ12oSzelYjFaqNhuD+1y3jraCmobe3K1K7iQ2aOhbl/HjM6nGKTlJ7F9+dau48qJ536ruSJm+rRskYg6Vl5PDrdgPWn4nT2n8gAINjPg0Bvd4OjkbJOiZSIE+rZJJx37miGiwmmrYvnpdm7yu3C97Jq3o5zZX2N1WSivDGZTNzR+u+mE+XFlyvjyMmz0rJGIDF1g4wOp1S4mV14/84W+Hu6siU+hbcX7TU6JDGYyvqkOCmREnFSfZtX443bmmEywZTVB5k4/y8lU04iNTOXVftOAtCrqcr6yqMBraphdjGxOT7F8carLDudkcPUtYcAeKRrFKZLdegshyIqe/PGbU0B+HTFflbsPWFwRGIk+x5SSqSkOCiREnFit7Wqzmu3NgHg898P6NNUJ7F4dyK5Fhv1Q/2oG6w/xuVRiJ8nXRuEAOVjVmryqjgycyw0qupPl/rBRodT6no0Duee9jUBeOKHrSSlZRkckRjF3rEvshztnybGMTSRmjhxIm3atMHPz4+QkBD69evHnj17CozJyspi5MiRBAUF4evry4ABA0hMTCwwJj4+nt69e+Pt7U1ISAhPPfUUeXnla4GwVFyD2tZgQt9GAHy4bB8fLI01OCKxdwDrqb2jyrU7z+0pNXPLUXLyyu7amrSsXCavPgjAI10jK9Rs1Pme692QBmF+nMrI4fEft5ZuV1RxGrHnNuOtpxkpKQaGJlIrVqxg5MiRrF27lsWLF5Obm8vNN99MRkaGY8zjjz/O7NmzmTFjBitWrODYsWP0P6+DmMVioXfv3uTk5LB69Wq+/vprpkyZwrhx44x4SSIlYkhMLZ7v3RCAdxbv5dMV+w2OqOJKy8plZWx+aVBvdesr1zrXCybEz4PkjByW7E688gOc1LdrDpGelUdUiC83R1fc5N/TzcyHd7XEy83Mqn2n9Hu0AsrMyePI6bMARGlGSoqBoYnUggULGDZsGI0aNaJZs2ZMmTKF+Ph4Nm3aBEBqaipfffUV77zzDl27dqVVq1ZMnjyZ1atXs3btWgAWLVrErl27mDp1Ks2bN6dnz568/PLLfPTRR+Tk5Bj58kSK1f0d6/BU9/oA/Gf+X3z1R5zBEVVMS8+V9UWG+OoPcTnnanbh9tbVgbJb3peZk8eXKw8AMPKGSFxcKuZslF1kiK9jhv+dxXvZeDDZ4IikNB04kYHNBkE+7lT2Ucc+uXZOtUYqNTUVgMqVKwOwadMmcnNz6datm2NMgwYNqFGjBmvWrAFgzZo1NGnShNDQUMeY7t27k5aWxs6dOy96nezsbNLS0grcRMqCkTdE8tiN+ZtovjxnF9+eWzwupWfunwmA9o6qKOzd+36PPcHRlLMGR3P1pq2L53RmLjWDvLlFjVGA/LWnt7aohsVq49Hvt5CSqQ9dKwp7WZ/2j5Li4jSJlNVqZfTo0Vx33XU0btwYgISEBNzd3QkMDCwwNjQ0lISEBMeY85Mo+3n7uYuZOHEiAQEBjltEREQxvxqRkjO6W5Rjk8kXft7BDxviDY6o4kjPyuX3c2V9vbQ+qkKoGeRDTJ0gbDb4aeMRo8O5Klm5Fj7/PX826uEudXE1O82ffEOZTCZe7teY2lV8OJaaxdM//amOqBVEbOK5jn2hSqSkeDjNb9WRI0eyY8cOpk+fXuLXGjt2LKmpqY7b4cNls2RDKiaTycTT3esz/PraADw7czszN5etN3hl1W9/JZGTZ6VOsA/1VdZXYQw813Tix42HsZahBgUzNh0hKT2bqgGe3NqiutHhOBVfD1cmDWqBu9mFRbsS+WaNZvcrglhH63P9/pbi4RSJ1KhRo5gzZw7Lli2jevW/f9mHhYWRk5NDSkpKgfGJiYmEhYU5xvyzi5/9vn3MP3l4eODv71/gJlKWmEwmnu/dkCExNbHZYMyMbczedszosMo9e7e+Xo3DK2zns4qoR+Mw/D1dOZpyllX7TxodTqHkWqx8ujy/mcJDXeri7uoUf+6dSuNqAYzt1QCAV+fuZuexVIMjkpKmPaSkuBn6m9VmszFq1ChmzZrFb7/9Ru3atQucb9WqFW5ubixdutRxbM+ePcTHxxMTEwNATEwM27dvJykpyTFm8eLF+Pv7Ex0dXTovRMQAJpOJ8X0acWebCKw2GP3DVhbsOG50WOVWRnYey/fYy/q01qQi8XQz069FNQCml5GmE7O2HOVoylmq+Ho41nnJhYZ1qEW3hqHkWKw8Mm0LGdnaOqW8ysq1cOhUflfoSJX2STExNJEaOXIkU6dOZdq0afj5+ZGQkEBCQgJnz+Yv6A0ICGD48OE88cQTLFu2jE2bNnHvvfcSExND+/btAbj55puJjo7mnnvuYdu2bSxcuJDnn3+ekSNH4uHhYeTLEylxLi4mXru1Cf1b5i+cfuT7LSwtw22andlvfyWRnWelVpA3DcNVFlLR2Mv7Fu9MJDnDuZsTWKw2Pl62D4AHO9XG081scETOy2Qy8eZtTQkP8OTAyQxe+GWH0SFJCTlwIgOrDQK83Aj21ftDKR6GJlKffPIJqampdOnShfDwcMfthx9+cIx59913ueWWWxgwYACdOnUiLCyMmTNnOs6bzWbmzJmD2WwmJiaGu+++myFDhjBhwgQjXpJIqXNxMfHmbc3o06wquRYbI6ZuZsXeE0aHVe44yvqaqKyvImpUNYDG1fzJsViZteWo0eFc1pw/j3HwVCaB3m4MblfT6HCcXiUfd96/swUuJpi5+Sj/26Q1p+WRvWNfVIivfodLsTG8tO9it2HDhjnGeHp68tFHH5GcnExGRgYzZ868YO1TzZo1mTdvHpmZmZw4cYK33noLV1fXUn41IsYxu5h4545m9GgURo7FyoPfbGT1vrKxlqMsyMzJY9me/PJhlfVVXAPPlcj9uOGw03Z5s1ptfLwsf23U8Otq4+Ohv4WF0bZ2ZR7vVg+AF37Zwf4TZwyOSIqbY32UyvqkGGn1qUg54WZ24YNBLejWMITsPCvDv97I+jhtNlkclv11gqxcKzUqe9OoqprTVFT/al4ND1cX9iSms/VwitHhXNTi3YnsSUzHz8OVIR1qGR1OmfLwDZF0qBtEZo6FUdO2kJVrMTokKUb21ueR6tgnxUiJlEg54u7qwkeDW9KpXjBncy3cO3k9m+NPGx1WmTfvXBOPnk3CVBJSgQV4uTlmJH/c6HxNJ2w2Gx/+lr82akiHmgR4uRkcUdlidjHx7sDmBPm4s/t4GhPn7TY6JClG55f2iRQXJVIi5YyHq5nP72lFh7pBZORYGPrf9Ww/ora+RXU2x8Jvu/PL+nqrrK/Cszed+HXrMafr8LZi7wm2H03Fy83MfdfVvvID5AKh/p68fUczAL5ec4gFOxIMjkiKQ06elYOnMgGopz0ApRgpkRIphzzdzHw5tDVta1UmPSuPu79ax65jaUaHVSat2JvE2VwL1St50aRagNHhiMHa1a5MrSBvMnIszN3uPNsNnD8bNbhdDYLUlazIutQP4d+d6gDw9E/bOHI60+CI5FodPJWBxWrDz8OVUH/9vyHFR4mUSDnl7e7Kf+9tQ4sagaSezeXur9axNzHd6LDKnLnb8z+RVrc+gfx22Xecm5X6wYn2lFoXl8zGQ6dxd3XhgXNJgBTdkzfXp1lEIGlZeTw2fStZuRbW7D/FL1uPsmb/KSxW52w2IhfnWB8Vqo59UryUSImUY74erky5ty1NqgWQnJHDXV+sUzeqq5CVa+G3c/ty9WwcdoXRUlHc1rI6ZhcTmw6dZl+Sc3w4YZ+NGtg6glB/T4OjKfvcXV34cFAL/Dxc2XToNK1eWcygL9by2PStDPpiLde//ps2QC9DtD5KSooSKZFyLsDLjW+Ht6VhuD8nz2Rz1xdrHbu7y+Wt2HuCjBwLVQM8aR4RaHQ44iRC/D25oX4IAD9uNH7Poc3xp/lj30lcXUz8u7Nmo4pLRGVv7mybP/uYkV2wg19CahYjpm5WMlVGxNpbn6tjn3OyWGD5cvj++/x/LWWnY6YSKZEKINDbnanD21Iv1JfEtGzu+mKd6v4LYf52e7c+lfVJQfamE//bdIScPKuhsXx0bjbq1hbVqF7J29BYyhOL1cacPy+eKNkL+16avUtlfmXAvvNK+8TJzJwJtWrBDTfAXXfl/1urVv7xMkCJlEgFEeTrwdT721Gnig9HU84y6Iu1HE89a3RYTisr18KS3fZNeFXWJwXdUD+YED8PTmXk8NtfiYbFsfNYKkv/SsLFBCO61DUsjvJofVwyx1OzLnneBhxPzdJ+fU4uz2LlwEn7jJQSKacycybcdhsc+cfM/tGj+cfLQDKlREqkAgnx82TaA+2pGeTN4eSz3PXFOpLSLv1GoSL7I/YkZ7LzCPP3pEVEJaPDESfjanZhQKvqAEw3sOnEx8v2A3BL06rUCdabxOKUlF64342FHSfGOHgqk1yLDW93M1UDvIwOR+wsFnjsMbBdZEbXfmz0aKcv81MiJVLBhAXkJ1PVAr2IO5nBXV+u4+SZbKPDcjrzzpX19WgchouLyvrkQne0zi/v+33vCY6llP7s7r6kdMdm0SNviCz165d3IX6Fa9rh4+FawpHItbA3hIkM8dXvcmeycuWFM1Hns9ng8OH8cU5MiZRIBVQt0IvvH2hPeIAn+5LOcPeX6zidkWN0WE4jO8/C4nPd+no31Sa8cnG1q/jQrnZlrDb4aVPpN534eNl+bDa4OTqU+mFaRF/c2tauTHiAJyYuvwbq6Rnb+HHDYaxaK+WUHK3PVdbnXI4XslFLYccZRImUSAVVI8ibaQ+0J9jPg78S0rnnv+tIPZtrdFhOYfW+U6Rn5RHi50GrGirrk0uzd3X7cWPpvpE+dCqDX7YdA2BUV81GlQSzi4kXg9PBBiZbwYYiJpsVbDZC3awkZ+by9P/+5NZPVrP1cIoxwcolqWOfkwov5IeUhR1nECVSIhVY7So+TLu/HUE+7uw4msaQ/64nJTOnwm88OdferU9lfXIFPRuH4+fpypHTZ1m9/1SpXffTFfuxWG10rhdM0+qBpXbdCsViocdLj/DJz68Rll7wexuWfopPf57IH988wvM96+Pr4cq2wyn0+2gVT/+0TeXSTuTvREozUk6lY0eoXh0u1RHXZIKIiPxxTkyFvSIVXFSoH1Pvb8egL9ay7XAKbV5dQq7l7+QpPMCTF/tE06Oxc38qVFxy8qws2pkA5Lc9F7kcTzcz/ZpX49u1h/hh42Guj6pS4tc8nnrWUUr4iGajSs65NRw9OMJNsetYX70RSb6VCDlzmrZHdmI+N0t1v+0I/xrTmf/M/4uZm4/y48YjzN+RwOPd6jEkpiauZn1mbRSL1ebYhD5Krc+di9kM77+f353PZCrYdMKeXL33Xv44J6b/u0WEhuH+PNw5v3Xy+UkUVLyNJ1fvP0laVh5VfD1oU6uy0eFIGWDfU2rhjoRSWWv42YoD5FpstK9Tmdb6GS05563NMNusxBzeTt/dvxNzeLsjibKPC/Hz5J07mvO/ETE0ruZPelYeE+bsovcHf7CmFGcqpaDDyZnk5FnxcHXRHmvOqH9/+OknqFat4PHq1fOP9+9vTFxXQYmUiGCx2pi8+uBFz1W0jSfnb8+fjerROBSzyvqkEBpXC6BRVX9yLFZ+3nq0RK91Ij2b79fHA/BI16gSvVaFV4Q1HK1qVuaXkdfz2q1NqOTtxp7EdAZ9sZaR0zYb0tmxorOX9UWG+Or3ubPq3x8OHoRly2DatPx/4+LKRBIFSqREBG08aZdrsbJwV34i1UtlfXIV7LNSP2w4jO1i+6IUky//OEB2npXmEYF0qBtUYtcRiryGw+xi4q52NVg2pgv3tK+Jiwnm/nmcG99ewYe/xZKV69z74pQnsedan2t9lJMzm6FLFxg0KP9fJy/nO58SKREp9IaSexPTSjgSY609cIqUzFyCfNxpq5IpuQp9m1XDw9WFvxLS+fNIaolcIyUzh6lrDgH5a6NMl3qDL8XDvoYDLkymCrGGI9DbnZf7NWbOIx1pW6syZ3MtvLVoLze/+ztLz22vICVrX6J9fZQ69knJUCIlIoXeeHLCnF08/dM2x+Ld8sa+CW/3xmFaIC5XJcDbjZ6NwwCYvuFwiVxj8qqDZORYaBjuT9cGISVyDfmHYljDEV3Vnx/+3Z7372xOqL8H8cmZDP96I/dOXk/cyYwSClygYGmfSEnQOwUROW/jyUtzN5uwWOHHjUfo9s4KRkzdxPYS+uTdCHkWKwt35n9K3KuCdCiU4jWwTQ0AZm87RmZOXrE+d3pWLpNXxQGajSp1xbCGw2Qy0bd5NZY+2YWHOtfFzWxi2Z4TdH/3d15f8BcZ2cX78yJgtdrYp9bnUsKUSIlI/saTfaIBLkimTOduHwxqwf9GdKBbwxBsNpi/I4E+H/7BPV+tY/X+kyW6LqQ0rItLJjkjh0rebrSvo7I+uXrt61SmZpA3Z7LzmPtn8Xa5/HbtIdKy8ogM8aVHo7BifW4phGJaw+Hr4cqzPRuwcHQnOtcLJsdi5ZPl+7nx7RX8svVomf896kyOppzlbK4Fd7MLNSqrY5+UDCVSIgJAj8bhfHJ3S8ICCpb5hQV48sndLenROJxWNSvx5dA2LBzdiVtbVMPsYmJl7Enu+mId/T5ezcKdCVjLaGc/R1lfI5X1SdGYTCbuaJ3fdOLHjcVX3peZk8eXK/Nnox7uUlebRJcDdYJ9mXJvG74Y0poalb1JSMviselbGfj5WnYfL99rUUuDxWpj9rb8Dpqh/h6awZUSY7Lp4w/S0tIICAggNTUVf39/o8MRMZTFamN9XDJJ6VmE+HnStnblS7aNPZycyRcrD/DDhsNk5+XvqxIZ4stDnevSt3lV3MpIQmKx2mj32hJOnsnhm/va0qlesNEhSRmVmJZFzMSlWG2w5InOxbI246s/4nh5zi4iKnux7MkuSvTLmaxcC1/8foCPlu8jK9eKiwnubl+TJ26qR6C3u9HhlTkLdhznpdm7CnSirWgby8u1K2xuoEQKJVIi1+pEejaTV8Xx7ZpDpJ+r9a8W6MUDHWszsE0NvNydu5Xpmv2nGPTFWgK83Nj4fLcykwCKcxo+ZQNL/0ri353qMLZXw2t6ruw8C53eWEZiWjYT+zdhUNsaxRSlOJujKWd5be5u5p6bHa/k7cbTPRpwR+sI7YFUSAt2HGfE1M38842t/atnr64QuZLC5gZ6tyAi1yzYz4OnezRg1diuPNOjAVV8PTiacpbxs3dx3eu/Men/27v3uKjq/H/grxkGZlAuCgYDchvQDVFREUHEzRumtWoUarSalt9sU0lN29RaIvO2ut9upGKaq+1PLS3zRuVjFckrV1lIBREBFeWmIHe5OHO+fyCzPxSQSeDMwOv5eMwfc86Z4TUeZM778zmfzycqA6VVdWLHbFbDbX3PetiyiKIn1rCm1P6km6hTa57ovX44fxMFZTWws1TgJa/ej38BGazePUyxaYYX9rzhiz/YmuFuVR1W/HgBgZvOIunGXbHj6T21RsDKI6mPFFFA11tYnjoOrxiIqM1YKIwxb7Qbziwbg1WBA+BoZYriylp8cuwKRvw9Cmt/TkNhWevWrOooao2Ao5ceLMLryZZKenJj3G3Qy0yOOxW1iEor/N3vU/dgIgIA+MszrpDL9Ltnl9rGiD698NPCP+LDSR4wl8tw4VYpXtp8Dkv3pbR6zb+uKCbzDheWpw7HQoqI2pzC2AivDndG9NLR+CJ4MNyV5qisVWPrqSyMXB+NFT9ewDU9WT8l8VoxbpfXwEIhg79bL7HjUCdgbCTF1KEOAJ5s0olDybm4efceepmZIJi39HUpxkZSzBmpwol3R2Pag9+l/Uk3MfZ/T+Lr01lP3NPZGag1An67WYKvTmZi9j/j8T87E1r1Ohaj1JZkYgcgos5LZiTFC4N7Y8oge0SnF2JzdCYSr9/Ft/E3sDfhBp4faId5o93Q395StIy/XKzvjRrvoYSJjG1L1Dameztgy8lM/JpeiPzS6kdmw3wctUbA5uirAIA3/ugKhTF7o7qip8zl+Me0QfizrxM+OnwJKTdLsfqnNHyXkIOPJvfHyL5dp/FHoxFwOb8cMVlFiMm8g7jsYpRX677+VmsXoCdqDRZSRNTuJBIJxrrbYqy7LRKuFWNz9FVEp99G5G95iPwtD6P+8BTmj3aDj8qqQ6ep1WgE/HKxfnzU8wO5Ng+1HdenzOCjskJ8djF+OJ+DkLF9dXr9LxfzkHWnEpamxpg53LmdUpKhGOLUEwfm++P78zlYfzQdVwsrMHN7HCb2V+Jvk/rBoWfnWydJEOoX1K0vnIoQm1WEuw+NtTVXyOCrsoafmzV8XKww91+JKCirbnKclAT1y3n4qLhOILUdFlJE1KGGuVhhx+s+SM0tw5aTmYj8LRcnr9zGySu3MdS5J+aNcsNYd5sOWSsn6cZdFJTVwFwu61Itu9QxXvZ2RHx2MfYm5mD+6D6t/p3WaARsPFHfGzXHXwUzOb+qCZBKJXh5mBMm9rfDZ8ev4P/FXsfRS/mITi/E/NF98JdRht1zKQgCrhVVISazSFs83amoaXRMdxMjDFNZwc+1vnjqb2/ZaEbDj6Z4YN6uJEiARsVUwxFhkz04AyK1KU5/Dk5/TiSm60WV+OpUFn5IvInaB/f9P21rjnmj3TDJ065d18xZeeQSdpy9hheH9MZnLw9ut59DXdO9WjV81hxHec197HnDFyP6tK5YP5ZagLn/SoSZXIazy8bCsptxOyclQ3Q5vwxhhy4h7sHkCQ49TRE6yQPPetgazAK0OcVViMkqQmxmEc5lFiH/ocmI5DIphrlYwc/NGsNdreHpYPnYmVW5jhS1Ba4jpQMWUkTiKyyrxvaz2dgdewMVD9aicuhpir8844pp3o5t3tKq0QjwX38CeaXV2DbLG+M9bNv0/YkA4IMDF7A77gamDLJH+CtDHnu8IAgI3HQWKTdLMW+0G5ZNdO+AlGSoBEFA5G95WPtzmrZw+GPfXgib3L9NFoNua/ml1YjJuoOYB4XTzbv3Gu03MZJiiFMP+LlZw8/VGoOdevyu2Sp1WVieqCkspHTAQopIf5Teq8Ou2Ov455lsFFXWAgB6mZngdX8VXvVzhoWibVrnz1+/i6CIczCTy5D4twCDviWG9NeFm6WYvPEMTGRSxL8/Dj26mbR4/KkrtzHrn/FQGEtxZtlY9DKTd1BSMmRVtfexKfoqtp3KRq1aA5lUgjkjVXh7bB+Yt9HfzN/jdnkNYrP+e6te9kOztcqkEng6WGKEWy/4uVljqHNP/i0mvcBCSgcspIj0z71aNfYl5mDrqSzcKqlvtTSXyzDTzxlz/FV4yvzJLjBXR6bi6zPZeGGwPb4IfnxPAdHvIQgCng8/g7S8Mnw02QOv+ataPH76lhjEXyvGHH8VPpzs0UEpqbO4dqcSH0em4sTl+vXLnjKX4/3n3RE4uHeH3O53t7IWcdlF2nFOVwoqGu2XSoABvS21Y5yGuVihO8cAkh5iIaUDFlJE+qtOrcGRlFxE/JqJjML6L2UTmRTTvR3wl2fc4Gil+2xVgiBg5Ppo3Cq5hy0zh2LiAM7YR+3nm3PXEHb4EtyV5vhl0R+bvaCNyyrCy1tjYWIkxan3xug8ZTpRgxOXC/DxkVRcK6oCAHg798RHU/pjQO+2XWqirLoO8VnF2h6ntPwyPHxV2c/OAn6u1hjhZo1hKitYmnLMH+k/FlI6YCFFpP80GgHH0wqw+ddMJOeUAACMpBJM9rTDW6Pd4K5s/f/d5JwSBG46i24mRkgKHc9bSahdlVbVYdja46i9r8HhEH94OvRo8rhXt8fhdMYdzPB1wpoXB3ZsSOp0au6r8fXpbGw8cRX36tSQSIA/+zjh3WefRs/u9beY6jqWqLLmPhKuFWsniLhwqxSah64i+9qYwc+tvnDyVVlrfxaRIWltbcD+VCIyCFKpBM/2V2K8hy1is4qx+derOJ1xBweTc3EwORfj3G0wf4wbhjo/fo2QXy7Urx011t2GRRS1O8tuxnhugBKHknOxNyGnyUIqOacEpzPuwEgqwVuj3Do+JHU6cpkRFozpg5e8emPtz5dxJCUXu+Nu4KcLeVj67NOw7maCVT+1PLtddZ0a56/f1d6ql5JTgvsPVU6qXt0x/MGtesNdrbjgLXUpovZInTp1Cv/4xz9w/vx55OXl4cCBAwgMDNTuFwQBYWFh2LZtG0pKSuDv74+IiAj07fvfhQ2Li4vx9ttv48iRI5BKpQgKCsIXX3wBM7PWz1bDHikiw3TxVikifs3EzxfztLeT+LhYYd4YN4z+w1OP3EJV3/pahAV7klBcWYdNrwzBnwbZi5CcuppzV+/gz1/HwVwuQ/wHATA1aVzAv/FNIo6nFSDIywGfTB8kUkrqzGIyi7DyyCVczi9v9piG9ZcmedrhdnkN/nOjRLssRQOHnqbaMU5+btawszRt3+BEIjCIHqnKykoMGjQIc+bMwUsvvfTI/g0bNiA8PBzffPMNVCoVQkNDMWHCBKSmpkKhqG/xmDFjBvLy8nDs2DHU1dXh9ddfx5tvvok9e/Z09Mchog42oLclNs3wQtbtCmw9lYX9STcRf60Y8TuK0c/OAvNGu+H5AUrIjKRNri2y6qdUGBlJuLYItbvhrtZwsuqGG8VV+PlCHoKGOmj3peWV4XhaASQSYP4Y9kZR+/Bzs0bk2yPxr5hrWBWZhqZa0Ru2Rf6Wp92mtFBopyP3c7P+XeNSiTorvRkjJZFIGvVICYIAe3t7LF26FO+++y4AoLS0FLa2tti5cyeCg4ORlpYGDw8PJCQkwNvbGwBw9OhRPP/887h58ybs7VvX0sweKaLOIb+0Gl+fzsKe+BuoqlUDAJytu8HfzRrfxuc8cuHQ0F8VMdOLxRS1u40nMvC//74CHxcr7HvLT7s9ZE8SIn/LwyRPO2z8s5eICakriMkswivbYh973P+MdMEMX2eoenU3mAV+idpKa2uDlpeHFlF2djby8/MREBCg3WZpaQlfX1/ExMQAAGJiYtCjRw9tEQUAAQEBkEqliIuLa/a9a2pqUFZW1uhBRIZPaanA3yZ54NzysXgn4A/o2c0Y14uqsKeJIgr4b+vryiOpUD88YpqojU0d6gipBIi/Voys2/UzUGbersBPD8bsLRjTR8x41EUUllc//iAAng494PqUGYsoohbobSGVn58PALC1tW203dbWVrsvPz8fNjY2jfbLZDJYWVlpj2nKunXrYGlpqX04Ojq2cXoiElOPbiZYFNAXZ5ePxazhzi0eKwDIK61GfHZxx4SjLktpqcDop+u/sz47fgWHkm9h5eFLEARgvIct+tnxjghqf62dDIKTRhA9nt4WUu1pxYoVKC0t1T5ycnLEjkRE7aCbiQxDXXq26tjWttISPYm+tvUTIR1JycOi75JxKuMOAGCoU+t+T4melI/KCnaWCjTXzyRB/ex9PqrHz4BK1NXpbSGlVNYvkFlQUNBoe0FBgXafUqlEYWFho/33799HcXGx9pimyOVyWFhYNHoQUefE1lfSF0cv5mHryawm960/ehlHL+Y1uY+oLRlJJQib7AEAjxRTDc/DJnu0uJ4UEdXT20JKpVJBqVQiKipKu62srAxxcXHw86sfpOvn54eSkhKcP39ee8yJEyeg0Wjg6+vb4ZmJSP+w9ZX0gVojYOWR1CbH6jXgWD3qKBMH2CFipheUlo0bkJSWCk6+Q6QDUac/r6iowNWrV7XPs7OzkZycDCsrKzg5OWHx4sVYvXo1+vbtq53+3N7eXjuzX79+/TBx4kTMnTsXW7ZsQV1dHUJCQhAcHNzqGfuIqHNraH2dtytJu0ZKA7a+UkeJzy5uNPX+w/7/sXp+btYdF4y6rIkD7DDeQ4n47GIUllfDxry+QYl/C4laT9RCKjExEWPGjNE+X7JkCQBg9uzZ2LlzJ9577z1UVlbizTffRElJCUaOHImjR49q15ACgN27dyMkJATjxo3TLsgbHh7e4Z+FiPRXQ+vrw+tIKS0VCJvswdZXanetHYPHsXrUkYykEhbuRE9Ab9aREhPXkSLqGtQaga2vJIrWrt3z7dzhvLAlIhJZa2sDUXukiIg6EltfSSwNY/XyS6ubHCclQX0PKcfqEREZDr2dbIKIiKiz4ExpRESdDwspIiKiDsCZ0oiIOhfe2kdERNRBOFMaEVHnwUKKiIioA3GsHhFR58Bb+4iIiIiIiHTEQoqIiIiIiEhHLKSIiIiIiIh0xEKKiIiIiIhIRyykiIiIiIiIdMRCioiIiIiISEcspIiIiIiIiHTEQoqIiIiIiEhHLKSIiIiIiIh0xEKKiIiIiIhIRzKxA+gDQRAAAGVlZSInISIiIiIiMTXUBA01QnNYSAEoLy8HADg6OoqchIiIiIiI9EF5eTksLS2b3S8RHldqdQEajQa5ubkwNzeHRCIRNUtZWRkcHR2Rk5MDCwsLUbPQ4/F8GR6eM8PC82VYeL4MD8+ZYeH56hiCIKC8vBz29vaQSpsfCcUeKQBSqRQODg5ix2jEwsKC/0EMCM+X4eE5Myw8X4aF58vw8JwZFp6v9tdST1QDTjZBRERERESkIxZSREREREREOmIhpWfkcjnCwsIgl8vFjkKtwPNleHjODAvPl2Hh+TI8PGeGhedLv3CyCSIiIiIiIh2xR4qIiIiIiEhHLKSIiIiIiIh0xEKKiIiIiIhIRyykiIiIiIiIdMRCSo9s2rQJLi4uUCgU8PX1RXx8vNiRqBnr1q3DsGHDYG5uDhsbGwQGBiI9PV3sWNRKf//73yGRSLB48WKxo1ALbt26hZkzZ8La2hqmpqYYOHAgEhMTxY5FTVCr1QgNDYVKpYKpqSnc3NywatUqcD4r/XHq1ClMnjwZ9vb2kEgkOHjwYKP9giDgww8/hJ2dHUxNTREQEICMjAxxwlKL56uurg7Lli3DwIED0b17d9jb22PWrFnIzc0VL3AXxUJKT+zduxdLlixBWFgYkpKSMGjQIEyYMAGFhYViR6MmnDx5EgsWLEBsbCyOHTuGuro6PPvss6isrBQ7Gj1GQkICvvrqK3h6eoodhVpw9+5d+Pv7w9jYGL/88gtSU1PxySefoGfPnmJHoyasX78eERER2LhxI9LS0rB+/Xps2LABX375pdjR6IHKykoMGjQImzZtanL/hg0bEB4eji1btiAuLg7du3fHhAkTUF1d3cFJCWj5fFVVVSEpKQmhoaFISkrCjz/+iPT0dEyZMkWEpF0bpz/XE76+vhg2bBg2btwIANBoNHB0dMTbb7+N5cuXi5yOHuf27duwsbHByZMn8cwzz4gdh5pRUVEBLy8vbN68GatXr8bgwYPx+eefix2LmrB8+XKcPXsWp0+fFjsKtcKkSZNga2uL7du3a7cFBQXB1NQUu3btEjEZNUUikeDAgQMIDAwEUN8bZW9vj6VLl+Ldd98FAJSWlsLW1hY7d+5EcHCwiGnp4fPVlISEBPj4+OD69etwcnLquHBdHHuk9EBtbS3Onz+PgIAA7TapVIqAgADExMSImIxaq7S0FABgZWUlchJqyYIFC/CnP/2p0f810k+HDx+Gt7c3pk2bBhsbGwwZMgTbtm0TOxY1Y8SIEYiKisKVK1cAACkpKThz5gyee+45kZNRa2RnZyM/P7/R30ZLS0v4+vryOsRAlJaWQiKRoEePHmJH6VJkYgcg4M6dO1Cr1bC1tW203dbWFpcvXxYpFbWWRqPB4sWL4e/vjwEDBogdh5rx3XffISkpCQkJCWJHoVbIyspCREQElixZgvfffx8JCQlYuHAhTExMMHv2bLHj0UOWL1+OsrIyuLu7w8jICGq1GmvWrMGMGTPEjkatkJ+fDwBNXoc07CP9VV1djWXLluGVV16BhYWF2HG6FBZSRE9owYIFuHjxIs6cOSN2FGpGTk4OFi1ahGPHjkGhUIgdh1pBo9HA29sba9euBQAMGTIEFy9exJYtW1hI6aF9+/Zh9+7d2LNnD/r374/k5GQsXrwY9vb2PF9E7aiurg7Tp0+HIAiIiIgQO06Xw1v79ECvXr1gZGSEgoKCRtsLCgqgVCpFSkWtERISgsjISERHR8PBwUHsONSM8+fPo7CwEF5eXpDJZJDJZDh58iTCw8Mhk8mgVqvFjkgPsbOzg4eHR6Nt/fr1w40bN0RKRC3561//iuXLlyM4OBgDBw7Eq6++infeeQfr1q0TOxq1QsO1Bq9DDEtDEXX9+nUcO3aMvVEiYCGlB0xMTDB06FBERUVpt2k0GkRFRcHPz0/EZNQcQRAQEhKCAwcO4MSJE1CpVGJHohaMGzcOFy5cQHJysvbh7e2NGTNmIDk5GUZGRmJHpIf4+/s/sqTAlStX4OzsLFIiaklVVRWk0saXFEZGRtBoNCIlIl2oVCoolcpG1yFlZWWIi4vjdYieaiiiMjIycPz4cVhbW4sdqUvirX16YsmSJZg9eza8vb3h4+ODzz//HJWVlXj99dfFjkZNWLBgAfbs2YNDhw7B3Nxcew+5paUlTE1NRU5HDzM3N39k/Fr37t1hbW3NcW166p133sGIESOwdu1aTJ8+HfHx8di6dSu2bt0qdjRqwuTJk7FmzRo4OTmhf//++M9//oNPP/0Uc+bMETsaPVBRUYGrV69qn2dnZyM5ORlWVlZwcnLC4sWLsXr1avTt2xcqlQqhoaGwt7dvcaY4aj8tnS87OztMnToVSUlJiIyMhFqt1l6HWFlZwcTERKzYXY9AeuPLL78UnJycBBMTE8HHx0eIjY0VOxI1A0CTjx07dogdjVpp1KhRwqJFi8SOQS04cuSIMGDAAEEulwvu7u7C1q1bxY5EzSgrKxMWLVokODk5CQqFQnB1dRU++OADoaamRuxo9EB0dHST31uzZ88WBEEQNBqNEBoaKtja2gpyuVwYN26ckJ6eLm7oLqyl85Wdnd3sdUh0dLTY0bsUriNFRERERESkI46RIiIiIiIi0hELKSIiIiIiIh2xkCIiIiIiItIRCykiIiIiIiIdsZAiIiIiIiLSEQspIiIiIiIiHbGQIiIiIiIi0hELKSIiIiIiIh2xkCIiIiIiItIRCykiIuoUbt++jXnz5sHJyQlyuRxKpRITJkzA2bNnAQASiQQHDx4UNyQREXUaMrEDEBERtYWgoCDU1tbim2++gaurKwoKChAVFYWioiKxoxERUSfEHikiIjJ4JSUlOH36NNavX48xY8bA2dkZPj4+WLFiBaZMmQIXFxcAwIsvvgiJRKJ9DgCHDh2Cl5cXFAoFXF1dsXLlSty/f1+7XyKRICIiAs899xxMTU3h6uqKH374Qbu/trYWISEhsLOzg0KhgLOzM9atW9dRH52IiETCQoqIiAyemZkZzMzMcPDgQdTU1DyyPyEhAQCwY8cO5OXlaZ+fPn0as2bNwqJFi5CamoqvvvoKO3fuxJo1axq9PjQ0FEFBQUhJScGMGTMQHByMtLQ0AEB4eDgOHz6Mffv2IT09Hbt3725UqBERUeckEQRBEDsEERHRk9q/fz/mzp2Le/fuwcvLC6NGjUJwcDA8PT0B1PcsHThwAIGBgdrXBAQEYNy4cVixYoV2265du/Dee+8hNzdX+7q33noLERER2mOGDx8OLy8vbN68GQsXLsSlS5dw/PhxSCSSjvmwREQkOvZIERFRpxAUFITc3FwcPnwYEydOxK+//govLy/s3Lmz2dekpKTg448/1vZomZmZYe7cucjLy0NVVZX2OD8/v0av8/Pz0/ZIvfbaa0hOTsbTTz+NhQsX4t///ne7fD4iItIvLKSIiKjTUCgUGD9+PEJDQ3Hu3Dm89tprCAsLa/b4iooKrFy5EsnJydrHhQsXkJGRAYVC0aqf6eXlhezsbKxatQr37t3D9OnTMXXq1Lb6SEREpKdYSBERUafl4eGByspKAICxsTHUanWj/V5eXkhPT0efPn0eeUil//2KjI2NbfS62NhY9OvXT/vcwsICL7/8MrZt24a9e/di//79KC4ubsdPRkREYuP050REZPCKioowbdo0zJkzB56enjA3N0diYiI2bNiAF154AQDg4uKCqKgo+Pv7Qy6Xo2fPnvjwww8xadIkODk5YerUqZBKpUhJScHFixexevVq7ft///338Pb2xsiRI7F7927Ex8dj+/btAIBPP/0UdnZ2GDJkCKRSKb7//nsolUr06NFDjH8KIiLqICykiIjI4JmZmcHX1xefffYZMjMzUVdXB0dHR8ydOxfvv/8+AOCTTz7BkiVLsG3bNvTu3RvXrl3DhAkTEBkZiY8//hjr16+HsbEx3N3d8cYbbzR6/5UrV+K7777D/PnzYWdnh2+//RYeHh4AAHNzc2zYsAEZGRkwMjLCsGHD8PPPPzfq0SIios6Hs/YRERG1oKnZ/oiIiNhcRkREREREpCMWUkRERERERDriGCkiIqIW8A54IiJqCnukiIiIiIiIdMRCioiIiIiISEcspIiIiIiIiHTEQoqIiIiIiEhHLKSIiIiIiIh0xEKKiIiIiIhIRyykiIiIiIiIdMRCioiIiIiISEf/B54UOrI3645HAAAAAElFTkSuQmCC",
      "text/plain": [
       "<Figure size 1000x500 with 1 Axes>"
      ]
     },
     "metadata": {},
     "output_type": "display_data"
    }
   ],
   "source": [
    "train_loop(model, train_loader, val_loader, optimizer, 1)"
   ]
  },
  {
   "cell_type": "markdown",
   "metadata": {
    "id": "tmTQNH7OCaI7"
   },
   "source": [
    "## Download Dataset from Historical Weather Data in Zurich"
   ]
  },
  {
   "cell_type": "code",
   "execution_count": 209,
   "metadata": {
    "colab": {
     "base_uri": "https://localhost:8080/"
    },
    "id": "_vXvYVBbZ6wR",
    "outputId": "4af6674a-e100-4e7c-a3fa-69b24ce6e5a9"
   },
   "outputs": [
    {
     "name": "stdout",
     "output_type": "stream",
     "text": [
      "            tavg  tmin  tmax  prcp  snow   wdir  wspd  wpgt    pres  tsun\n",
      "time                                                                     \n",
      "2005-09-14  18.0  16.0  21.0   NaN   NaN    NaN   3.5   NaN     NaN   NaN\n",
      "2005-09-15   NaN   NaN   NaN   NaN   NaN    NaN   NaN   NaN     NaN   NaN\n",
      "2005-09-16   NaN   NaN   NaN   NaN   NaN    NaN   NaN   NaN     NaN   NaN\n",
      "2005-09-17   NaN   NaN   NaN   NaN   NaN    NaN   NaN   NaN     NaN   NaN\n",
      "2005-09-18   NaN   NaN   NaN   NaN   NaN    NaN   NaN   NaN     NaN   NaN\n",
      "...          ...   ...   ...   ...   ...    ...   ...   ...     ...   ...\n",
      "2024-07-10  22.3  18.6  25.0   1.3   NaN  209.0   6.1  16.7  1017.1   NaN\n",
      "2024-07-11  22.3  18.1  27.4  12.8   NaN  320.0   5.4  16.7  1017.1   NaN\n",
      "2024-07-12  19.8  16.2  23.1  27.5   NaN  262.0   7.3  38.9  1013.1   NaN\n",
      "2024-07-13  16.9  15.3  19.6   1.2   NaN    0.0   5.8  20.4  1014.5   NaN\n",
      "2024-07-14  18.7  12.6  23.8   0.0   NaN  275.0   4.7  16.7  1014.2   NaN\n",
      "\n",
      "[6879 rows x 10 columns]\n"
     ]
    }
   ],
   "source": [
    "from datetime import datetime\n",
    "from meteostat import Point, Daily\n",
    "\n",
    "# Set time period\n",
    "start = datetime(2000, 1, 1)\n",
    "end = datetime(2024, 7, 14)\n",
    "\n",
    "# Create a Point for Zurich\n",
    "zurich = Point(47.200, 8.3300)\n",
    "\n",
    "# Get daily data\n",
    "data = Daily(zurich, start, end)\n",
    "data = data.fetch()\n",
    "\n",
    "# Print the data\n",
    "print(data)\n"
   ]
  },
  {
   "cell_type": "markdown",
   "metadata": {
    "id": "BrVzdKLCCb7h"
   },
   "source": [
    "## Clean Data and Create Training and Validation Dataset\n",
    "\n",
    "The script prepares temperature data for training a sequence prediction model by:\n",
    "\n",
    "- Selecting and cleaning the relevant data.\n",
    "- Generating sequences and corresponding targets.\n",
    "- Splitting the data into training and validation sets.\n",
    "- Creating DataLoaders to feed the data into a model during training and validation.\n"
   ]
  },
  {
   "cell_type": "code",
   "execution_count": 210,
   "metadata": {
    "colab": {
     "base_uri": "https://localhost:8080/"
    },
    "id": "NR-EcImjCdg2",
    "outputId": "7a0aa700-8d8d-4e21-cdbe-8c8b8a611863"
   },
   "outputs": [
    {
     "name": "stdout",
     "output_type": "stream",
     "text": [
      "Found 3536 NaN values in the dataset. Dropping these rows.\n"
     ]
    }
   ],
   "source": [
    "# Keep only the 'tmax' and 'pres' columns\n",
    "data = data[['tmax', 'tmin']]\n",
    "\n",
    "# Check for NaN values and handle them (e.g., drop them)\n",
    "if data.isna().sum().sum() > 0:\n",
    "    print(f\"Found {data.isna().sum().sum()} NaN values in the dataset. Dropping these rows.\")\n",
    "    data = data.dropna()\n",
    "\n",
    "# Convert the data to numpy array for sequence generation\n",
    "values = data.values\n",
    "\n",
    "# Function to create sequences and targets from the data\n",
    "def create_sequences(data, seq_length):\n",
    "    sequences = []\n",
    "    targets = []\n",
    "    for i in range(len(data) - seq_length):\n",
    "        sequences.append(data[i:i + seq_length])\n",
    "        targets.append(data[i + seq_length, 0])  # Target is the 'tmax' value of the day after the sequence\n",
    "    return np.array(sequences), np.array(targets)\n",
    "\n",
    "# Define sequence length\n",
    "seq_length = 30\n",
    "\n",
    "# Adjust the length of the data to be a multiple of seq_length + 1\n",
    "adjusted_length = (len(values) // (seq_length + 1)) * (seq_length + 1)\n",
    "values = values[:adjusted_length]\n",
    "\n",
    "# Generate sequences and targets\n",
<<<<<<< HEAD
    "sequences, targets = create_sequences(values, seq_length)\n",
=======
    "seq_length = 30\n",
    "sequences, targets = create_sequences(temperatures, seq_length)\n",
>>>>>>> 959bc44f7e0faa5dc9d754afa7918e27c7705731
    "\n",
    "# Convert to PyTorch tensors\n",
    "sequences = torch.tensor(sequences, dtype=torch.float32)\n",
    "targets = torch.tensor(targets, dtype=torch.float32)\n",
    "\n",
    "# Split into training and validation sets (80-20 split)\n",
    "train_size = int(0.8 * len(sequences))\n",
    "val_size = len(sequences) - train_size\n",
    "\n",
    "# Ensure reproducibility\n",
    "torch.manual_seed(42)\n",
    "indices = torch.randperm(len(sequences))\n",
    "\n",
    "train_indices = indices[:train_size]\n",
    "val_indices = indices[train_size:]\n",
    "\n",
    "train_sequences = sequences[train_indices]\n",
    "train_targets = targets[train_indices]\n",
    "\n",
    "val_sequences = sequences[val_indices]\n",
    "val_targets = targets[val_indices]\n",
    "\n",
    "# Create TensorDataset and DataLoader\n",
    "train_data = TensorDataset(train_sequences, train_targets)\n",
    "val_data = TensorDataset(val_sequences, val_targets)\n",
    "\n",
    "train_loader = DataLoader(train_data, batch_size=30, shuffle=True)\n",
    "val_loader = DataLoader(val_data, batch_size=30, shuffle=False)"
   ]
  },
  {
   "cell_type": "code",
   "execution_count": 211,
   "metadata": {
    "colab": {
     "base_uri": "https://localhost:8080/"
    },
    "id": "7rqdVFM9IypA",
    "outputId": "4b0180a5-1ca7-460c-c82c-0d638b00e030"
   },
   "outputs": [
    {
     "name": "stdout",
     "output_type": "stream",
     "text": [
      "(tensor([[10.4000,  1.1000],\n",
      "        [12.7000,  0.7000],\n",
      "        [11.1000,  3.8000],\n",
      "        [ 9.3000,  2.7000],\n",
      "        [ 8.2000, -1.4000],\n",
      "        [10.6000, -0.7000],\n",
      "        [11.3000, -0.1000],\n",
      "        [13.5000,  0.0000],\n",
      "        [15.4000,  1.7000],\n",
      "        [ 8.6000,  5.0000],\n",
      "        [ 9.6000,  4.9000],\n",
      "        [13.4000,  4.0000],\n",
      "        [10.4000,  3.3000],\n",
      "        [10.9000,  3.6000],\n",
      "        [13.9000,  0.7000],\n",
      "        [ 9.7000,  5.8000],\n",
      "        [ 8.2000,  4.2000],\n",
      "        [10.4000,  4.9000],\n",
      "        [13.2000,  7.8000],\n",
      "        [ 7.5000,  1.7000],\n",
      "        [ 9.3000, -0.5000],\n",
      "        [ 8.1000,  3.9000],\n",
      "        [ 6.0000,  3.4000],\n",
      "        [11.6000,  5.8000],\n",
      "        [16.4000,  7.9000],\n",
      "        [14.2000,  3.0000],\n",
      "        [ 6.2000,  1.6000],\n",
      "        [ 8.1000, -1.1000],\n",
      "        [11.0000, -1.4000],\n",
      "        [12.0000, -1.0000]]), tensor(15.9000))\n"
     ]
    }
   ],
   "source": [
    "print(train_data[5])"
   ]
  },
  {
   "cell_type": "markdown",
   "metadata": {},
   "source": [
    "## Train Model on Dataset"
   ]
  },
  {
   "cell_type": "code",
   "execution_count": 212,
   "metadata": {
    "colab": {
     "base_uri": "https://localhost:8080/",
     "height": 1000
    },
    "id": "3bm2lyx-Cl_Z",
    "outputId": "e9c0b252-a4a5-44e2-c186-dc7f50e5488a"
   },
   "outputs": [
    {
     "name": "stdout",
     "output_type": "stream",
     "text": [
      "Epoch 1, Step 1/135, Training Loss: 61.902835845947266\n",
      "Epoch 1, Step 2/135, Training Loss: 62.4593620300293\n",
      "Epoch 1, Step 3/135, Training Loss: 80.91255187988281\n",
      "Epoch 1, Step 4/135, Training Loss: 87.51358032226562\n",
      "Epoch 1, Step 5/135, Training Loss: 95.31134796142578\n",
      "Epoch 1, Step 6/135, Training Loss: 148.87969970703125\n",
      "Epoch 1, Step 7/135, Training Loss: 86.07785034179688\n",
      "Epoch 1, Step 8/135, Training Loss: 72.39789581298828\n",
      "Epoch 1, Step 9/135, Training Loss: 48.97370529174805\n",
      "Epoch 1, Step 10/135, Training Loss: 30.30925941467285\n",
      "Epoch 1, Step 11/135, Training Loss: 47.68197250366211\n",
      "Epoch 1, Step 12/135, Training Loss: 67.05272674560547\n",
      "Epoch 1, Step 13/135, Training Loss: 53.846038818359375\n",
      "Epoch 1, Step 14/135, Training Loss: 44.41320037841797\n",
      "Epoch 1, Step 15/135, Training Loss: 29.48879623413086\n",
      "Epoch 1, Step 16/135, Training Loss: 30.62590980529785\n",
      "Epoch 1, Step 17/135, Training Loss: 24.497732162475586\n",
      "Epoch 1, Step 18/135, Training Loss: 43.68424606323242\n",
      "Epoch 1, Step 19/135, Training Loss: 18.65572166442871\n",
      "Epoch 1, Step 20/135, Training Loss: 30.556764602661133\n",
      "Epoch 1, Step 21/135, Training Loss: 24.194360733032227\n",
      "Epoch 1, Step 22/135, Training Loss: 24.89060401916504\n",
      "Epoch 1, Step 23/135, Training Loss: 28.50103187561035\n",
      "Epoch 1, Step 24/135, Training Loss: 23.889453887939453\n",
      "Epoch 1, Step 25/135, Training Loss: 15.581596374511719\n",
      "Epoch 1, Step 26/135, Training Loss: 22.684261322021484\n",
      "Epoch 1, Step 27/135, Training Loss: 19.60506248474121\n",
      "Epoch 1, Step 28/135, Training Loss: 16.834064483642578\n",
      "Epoch 1, Step 29/135, Training Loss: 16.085607528686523\n",
      "Epoch 1, Step 30/135, Training Loss: 9.759180068969727\n",
      "Epoch 1, Step 31/135, Training Loss: 15.269928932189941\n",
      "Epoch 1, Step 32/135, Training Loss: 18.661882400512695\n",
      "Epoch 1, Step 33/135, Training Loss: 15.333488464355469\n",
      "Epoch 1, Step 33/135, Validation Loss: 15.553330982432646\n",
      "Epoch 1, Step 34/135, Training Loss: 11.194268226623535\n",
      "Epoch 1, Step 35/135, Training Loss: 18.77168083190918\n",
      "Epoch 1, Step 36/135, Training Loss: 14.29417610168457\n",
      "Epoch 1, Step 37/135, Training Loss: 22.06533432006836\n",
      "Epoch 1, Step 38/135, Training Loss: 13.69227409362793\n",
      "Epoch 1, Step 39/135, Training Loss: 15.27629280090332\n",
      "Epoch 1, Step 40/135, Training Loss: 8.051353454589844\n",
      "Epoch 1, Step 41/135, Training Loss: 11.86234188079834\n",
      "Epoch 1, Step 42/135, Training Loss: 12.095691680908203\n",
      "Epoch 1, Step 43/135, Training Loss: 18.593029022216797\n",
      "Epoch 1, Step 44/135, Training Loss: 9.077839851379395\n",
      "Epoch 1, Step 45/135, Training Loss: 14.422917366027832\n",
      "Epoch 1, Step 46/135, Training Loss: 11.046855926513672\n",
      "Epoch 1, Step 47/135, Training Loss: 37.07734680175781\n",
      "Epoch 1, Step 48/135, Training Loss: 13.794986724853516\n",
      "Epoch 1, Step 49/135, Training Loss: 17.95103645324707\n",
      "Epoch 1, Step 50/135, Training Loss: 17.365758895874023\n",
      "Epoch 1, Step 51/135, Training Loss: 12.564716339111328\n",
      "Epoch 1, Step 52/135, Training Loss: 12.553606033325195\n",
      "Epoch 1, Step 53/135, Training Loss: 12.501814842224121\n",
      "Epoch 1, Step 54/135, Training Loss: 6.628053665161133\n",
      "Epoch 1, Step 55/135, Training Loss: 11.13086223602295\n",
      "Epoch 1, Step 56/135, Training Loss: 16.58123016357422\n",
      "Epoch 1, Step 57/135, Training Loss: 15.317276954650879\n",
      "Epoch 1, Step 58/135, Training Loss: 13.34812068939209\n",
      "Epoch 1, Step 59/135, Training Loss: 11.678577423095703\n",
      "Epoch 1, Step 60/135, Training Loss: 8.384692192077637\n",
      "Epoch 1, Step 61/135, Training Loss: 12.105789184570312\n",
      "Epoch 1, Step 62/135, Training Loss: 11.342652320861816\n",
      "Epoch 1, Step 63/135, Training Loss: 11.09420394897461\n",
      "Epoch 1, Step 64/135, Training Loss: 9.325983047485352\n",
      "Epoch 1, Step 65/135, Training Loss: 13.658576011657715\n",
      "Epoch 1, Step 66/135, Training Loss: 12.441791534423828\n",
      "Epoch 1, Step 66/135, Validation Loss: 11.457523205701042\n",
      "Epoch 1, Step 67/135, Training Loss: 12.20309066772461\n",
      "Epoch 1, Step 68/135, Training Loss: 17.97075653076172\n",
      "Epoch 1, Step 69/135, Training Loss: 19.214401245117188\n",
      "Epoch 1, Step 70/135, Training Loss: 18.91277313232422\n",
      "Epoch 1, Step 71/135, Training Loss: 17.858192443847656\n",
      "Epoch 1, Step 72/135, Training Loss: 7.1160078048706055\n",
      "Epoch 1, Step 73/135, Training Loss: 12.888128280639648\n",
      "Epoch 1, Step 74/135, Training Loss: 18.98038101196289\n",
      "Epoch 1, Step 75/135, Training Loss: 21.551301956176758\n",
      "Epoch 1, Step 76/135, Training Loss: 13.43492317199707\n",
      "Epoch 1, Step 77/135, Training Loss: 9.279324531555176\n",
      "Epoch 1, Step 78/135, Training Loss: 18.393367767333984\n",
      "Epoch 1, Step 79/135, Training Loss: 7.933655738830566\n",
      "Epoch 1, Step 80/135, Training Loss: 9.544124603271484\n",
      "Epoch 1, Step 81/135, Training Loss: 14.75508975982666\n",
      "Epoch 1, Step 82/135, Training Loss: 13.809471130371094\n",
      "Epoch 1, Step 83/135, Training Loss: 7.713833808898926\n",
      "Epoch 1, Step 84/135, Training Loss: 10.034356117248535\n",
      "Epoch 1, Step 85/135, Training Loss: 10.332738876342773\n",
      "Epoch 1, Step 86/135, Training Loss: 11.771201133728027\n",
      "Epoch 1, Step 87/135, Training Loss: 16.870277404785156\n",
      "Epoch 1, Step 88/135, Training Loss: 12.529908180236816\n",
      "Epoch 1, Step 89/135, Training Loss: 10.969627380371094\n",
      "Epoch 1, Step 90/135, Training Loss: 10.485357284545898\n",
      "Epoch 1, Step 91/135, Training Loss: 14.567216873168945\n",
      "Epoch 1, Step 92/135, Training Loss: 13.152276992797852\n",
      "Epoch 1, Step 93/135, Training Loss: 10.57463264465332\n",
      "Epoch 1, Step 94/135, Training Loss: 16.414636611938477\n",
      "Epoch 1, Step 95/135, Training Loss: 11.878348350524902\n",
      "Epoch 1, Step 96/135, Training Loss: 13.843674659729004\n",
      "Epoch 1, Step 97/135, Training Loss: 16.65347671508789\n",
      "Epoch 1, Step 98/135, Training Loss: 13.882219314575195\n",
      "Epoch 1, Step 99/135, Training Loss: 14.718482971191406\n",
      "Epoch 1, Step 99/135, Validation Loss: 10.708516808117137\n",
      "Epoch 1, Step 100/135, Training Loss: 9.233421325683594\n",
      "Epoch 1, Step 101/135, Training Loss: 9.287186622619629\n",
      "Epoch 1, Step 102/135, Training Loss: 12.326068878173828\n",
      "Epoch 1, Step 103/135, Training Loss: 8.326621055603027\n",
      "Epoch 1, Step 104/135, Training Loss: 10.711020469665527\n",
      "Epoch 1, Step 105/135, Training Loss: 14.957170486450195\n",
      "Epoch 1, Step 106/135, Training Loss: 5.133458137512207\n",
      "Epoch 1, Step 107/135, Training Loss: 12.20444393157959\n",
      "Epoch 1, Step 108/135, Training Loss: 15.482688903808594\n",
      "Epoch 1, Step 109/135, Training Loss: 11.700167655944824\n",
      "Epoch 1, Step 110/135, Training Loss: 7.732628345489502\n",
      "Epoch 1, Step 111/135, Training Loss: 17.46552276611328\n",
      "Epoch 1, Step 112/135, Training Loss: 11.514460563659668\n",
      "Epoch 1, Step 113/135, Training Loss: 11.651082992553711\n",
      "Epoch 1, Step 114/135, Training Loss: 12.799860954284668\n",
      "Epoch 1, Step 115/135, Training Loss: 16.416521072387695\n",
      "Epoch 1, Step 116/135, Training Loss: 8.634650230407715\n",
      "Epoch 1, Step 117/135, Training Loss: 8.644449234008789\n",
      "Epoch 1, Step 118/135, Training Loss: 14.546298027038574\n",
      "Epoch 1, Step 119/135, Training Loss: 11.659456253051758\n",
      "Epoch 1, Step 120/135, Training Loss: 11.571468353271484\n",
      "Epoch 1, Step 121/135, Training Loss: 14.078638076782227\n",
      "Epoch 1, Step 122/135, Training Loss: 11.859338760375977\n",
      "Epoch 1, Step 123/135, Training Loss: 9.3544340133667\n",
      "Epoch 1, Step 124/135, Training Loss: 11.203442573547363\n",
      "Epoch 1, Step 125/135, Training Loss: 15.252572059631348\n",
      "Epoch 1, Step 126/135, Training Loss: 8.241642951965332\n",
      "Epoch 1, Step 127/135, Training Loss: 9.783426284790039\n",
      "Epoch 1, Step 128/135, Training Loss: 15.004779815673828\n",
      "Epoch 1, Step 129/135, Training Loss: 8.823297500610352\n",
      "Epoch 1, Step 130/135, Training Loss: 7.466205596923828\n",
      "Epoch 1, Step 131/135, Training Loss: 21.563081741333008\n",
      "Epoch 1, Step 132/135, Training Loss: 10.664054870605469\n",
      "Epoch 1, Step 132/135, Validation Loss: 10.632731059018303\n",
      "Epoch 1, Step 133/135, Training Loss: 7.474609851837158\n",
      "Epoch 1, Step 134/135, Training Loss: 5.341238021850586\n",
      "Epoch 1, Step 135/135, Training Loss: 10.90064525604248\n",
      "Epoch 1, Step 135/135, Validation Loss: 12.22443821850945\n",
      "Epoch 1, Training Loss: 20.244964147497107\n"
     ]
    },
    {
     "data": {
      "image/png": "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",
      "text/plain": [
       "<Figure size 1000x500 with 1 Axes>"
      ]
     },
     "metadata": {},
     "output_type": "display_data"
    }
   ],
   "source": [
    "train_loop(model, train_loader, val_loader, optimizer, 1)"
   ]
  },
  {
   "cell_type": "markdown",
   "metadata": {
    "id": "K5PifuircGKm"
   },
   "source": [
    "## Run a Forward Pass Recursively to Predict the Weather\n",
    "\n",
    "This script fetches the most recent 30 days of maximum temperature data for Zurich, processes it into a format suitable for input into a predictive model, and uses the model to forecast the next 7 days of temperatures. The results include the actual temperatures for the last 7 days and the predicted temperatures for the upcoming 7 days, providing a comprehensive view of recent and anticipated weather trends.This script fetches the most recent 30 days of maximum temperature data for Zurich, processes it into a format suitable for input into a predictive model, and uses the model to forecast the next 7 days of temperatures. The results include the actual temperatures for the last 7 days and the predicted temperatures for the upcoming 7 days, providing a comprehensive view of recent and anticipated weather trends."
   ]
  },
  {
   "cell_type": "code",
   "execution_count": 213,
   "metadata": {
    "colab": {
     "base_uri": "https://localhost:8080/"
    },
    "id": "3rkVapq4cFpe",
    "outputId": "efaa42f0-7843-4606-9254-47d34cdcfe69"
   },
   "outputs": [
    {
     "name": "stdout",
     "output_type": "stream",
     "text": [
      "Last 7 days max temperatures: [30.0, 25.0, 27.5, 23.0, 19.5, 24.0, 27.0]\n",
      "Predicted max temperatures for the next 7 days: [27.5, 28.0, 28.5, 28.5, 28.5, 28.5, 28.5]\n"
     ]
    }
   ],
   "source": [
    "import torch\n",
    "from datetime import datetime, timedelta\n",
    "import pandas as pd\n",
    "from meteostat import Point, Daily\n",
    "import numpy as np\n",
    "\n",
    "# Set the location for Zurich\n",
    "zurich = Point(47.200, 8.3300)\n",
    "\n",
    "# Set the time period to fetch data\n",
    "end = datetime.today()\n",
    "start = end - timedelta(days=30)\n",
    "\n",
    "# Get daily data\n",
    "data = Daily(zurich, start, end)\n",
    "data = data.fetch()\n",
    "\n",
    "# Ensure there are no NaN values in the required columns\n",
    "data = data.dropna(subset=['tmax', 'tmin'])\n",
    "\n",
    "# Get the last 32 days of temperature\n",
    "last_30_days_tmax = data['tmax'].values[-30:]\n",
    "last_30_days_tmin = data['tmin'].values[-30:]\n",
    "\n",
    "# Stack the tmax and tmin values to create the input sequence\n",
    "last_32_days = np.stack((last_30_days_tmax, last_30_days_tmin), axis=1)\n",
    "\n",
    "# Convert to a PyTorch tensor\n",
    "input_sequence = torch.tensor(last_30_days, dtype=torch.float32).cuda()\n",
    "\n",
    "# Function to predict the next 7 days of temperature\n",
    "def predict_next_7_days(model, input_sequence, days=7):\n",
    "    model.eval()\n",
    "    predictions = []\n",
    "\n",
    "    for _ in range(days):\n",
    "        with torch.no_grad():\n",
    "            # Forward pass to get the next day's prediction\n",
    "            output = model(input_sequence.unsqueeze(0))  # Ensure input is 3D (batch_size, seq_length, input_dim)\n",
    "            next_day_temp = output.item()\n",
    "\n",
    "            # Append the prediction to the list of predictions\n",
    "            predictions.append(next_day_temp)\n",
    "\n",
    "            # Update the input sequence by appending the predicted temperature and removing the oldest one\n",
    "            next_day_input = torch.tensor([next_day_temp, input_sequence[-1, 1].item()], dtype=torch.float32).cuda()\n",
    "            input_sequence = torch.cat((input_sequence[1:], next_day_input.unsqueeze(0)))\n",
    "\n",
    "    return predictions\n",
    "\n",
    "# Predict the next 7 days of temperature\n",
    "predicted_temperatures = predict_next_7_days(model, input_sequence, days=7)\n",
    "\n",
    "# Print the last 7 days max temperatures\n",
    "print(\"Last 7 days max temperatures:\", [round(temp * 2) / 2 for temp in last_30_days_tmax[-7:]])\n",
    "\n",
    "# Print the predictions\n",
    "print(\"Predicted max temperatures for the next 7 days:\", [round(temp * 2) / 2 for temp in predicted_temperatures])\n"
   ]
  },
  {
   "cell_type": "code",
   "execution_count": null,
   "metadata": {},
   "outputs": [],
   "source": []
  }
 ],
 "metadata": {
  "accelerator": "GPU",
  "colab": {
   "gpuType": "L4",
   "provenance": []
  },
  "kernelspec": {
   "display_name": "Python 3 (ipykernel)",
   "language": "python",
   "name": "python3"
  },
  "language_info": {
   "codemirror_mode": {
    "name": "ipython",
    "version": 3
   },
   "file_extension": ".py",
   "mimetype": "text/x-python",
   "name": "python",
   "nbconvert_exporter": "python",
   "pygments_lexer": "ipython3",
   "version": "3.10.12"
  }
 },
 "nbformat": 4,
 "nbformat_minor": 4
}
